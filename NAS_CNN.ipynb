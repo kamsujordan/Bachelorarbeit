{
 "cells": [
  {
   "cell_type": "markdown",
   "metadata": {
    "collapsed": true,
    "pycharm": {
     "name": "#%% md\n"
    }
   },
   "source": [
    "# NAS_CNN\n",
    "## Pipelines"
   ]
  },
  {
   "cell_type": "code",
   "execution_count": 1,
   "metadata": {
    "pycharm": {
     "name": "#%%\n"
    }
   },
   "outputs": [],
   "source": [
    "#Imports\n",
    "import random\n",
    "import numpy as np\n",
    "import pandas as pd\n",
    "import matplotlib.pyplot as plt\n",
    "\n",
    "\n",
    "from evolutionary_search import EvolutionaryAlgorithmSearchCV\n",
    "from sklearn.datasets import fetch_openml\n",
    "from sklearn.impute import SimpleImputer\n",
    "from sklearn.linear_model import SGDClassifier, LogisticRegression, Perceptron\n",
    "from sklearn.neural_network import MLPClassifier\n",
    "from sklearn.metrics import accuracy_score\n",
    "from sklearn.model_selection import train_test_split, GridSearchCV, RandomizedSearchCV #, cross_val_score\n",
    "from sklearn.pipeline import Pipeline\n",
    "from sklearn.preprocessing import StandardScaler, OneHotEncoder, LabelBinarizer, LabelEncoder, MaxAbsScaler, MinMaxScaler\n",
    "from sklearn.svm import SVR, SVC\n",
    "from sklearn.ensemble import RandomForestClassifier\n",
    "from sklearn.ensemble import VotingClassifier\n",
    "\n",
    "from tensorflow.python.keras.wrappers.scikit_learn import KerasClassifier\n",
    "from tensorflow.keras.losses import MSE, binary_crossentropy, categorical_crossentropy, sparse_categorical_crossentropy, kl_divergence\n",
    "from tensorflow.keras import Sequential\n",
    "from tensorflow.keras.layers import Dense, Conv2D, Flatten, Dropout, MaxPooling2D\n",
    "from tensorflow.keras.optimizers import Adam, SGD, RMSprop, Adadelta, Adagrad, Adamax, Nadam, Ftrl\n",
    "from tensorflow.keras.optimizers.schedules import ExponentialDecay\n",
    "from tensorflow.python.keras import Input\n",
    "from tensorflow.python.keras.models import Model\n",
    "from tensorflow.python.keras.wrappers.scikit_learn import KerasClassifier"
   ]
  },
  {
   "cell_type": "code",
   "execution_count": 2,
   "metadata": {},
   "outputs": [],
   "source": [
    "#MNIST Data_id = 554\n",
    "#Fashion-MNIST Data_id = 40996\n",
    "#CIFAR-10 Data_id = 40927\n",
    "X,y = fetch_openml(data_id=554,return_X_y=True)"
   ]
  },
  {
   "cell_type": "code",
   "execution_count": 3,
   "metadata": {},
   "outputs": [
    {
     "name": "stderr",
     "output_type": "stream",
     "text": [
      "c:\\users\\caleb\\appdata\\local\\programs\\python\\python37\\lib\\site-packages\\sklearn\\model_selection\\_split.py:2178: FutureWarning: From version 0.21, test_size will always complement train_size unless both are specified.\n",
      "  FutureWarning)\n"
     ]
    }
   ],
   "source": [
    "X_train, X_test, y_train, y_test = train_test_split(X,y, train_size=.8)"
   ]
  },
  {
   "cell_type": "code",
   "execution_count": null,
   "metadata": {},
   "outputs": [],
   "source": [
    "#Wenn es sich um ein Bild mit drei Kanäle (Farbbild) handelt, dann Farbe=True\n",
    "farbe = True\n",
    "\n",
    "\n",
    "#Preprocessing\n",
    "from sklearn.preprocessing import MinMaxScaler, Binarizer\n",
    "\n",
    "if farbe:\n",
    "    scaler = StandardScaler()\n",
    "    P = scaler.fit_transform(X)\n",
    "else:\n",
    "    scaler = StandardScaler()\n",
    "    P = scaler.fit_transform(X)\n",
    "    \n",
    "size = list(X.shape)\n",
    "def Farbe(XX, farbe, Bild_size):\n",
    "    if farbe:\n",
    "        X = XX.reshape(len(y), 3, np.sqrt(Bild_size/3).astype(int), np.sqrt(Bild_size/3).astype(int)).transpose(0,2,3,1).astype('int32')\n",
    "    else:\n",
    "        X = XX.reshape((len(y), 1, np.sqrt(Bild_size).astype(int), np.sqrt(Bild_size).astype(int))).transpose(0,2,3,1).astype('int32')\n",
    "    return X\n",
    "\n",
    "\n",
    "\n",
    "P = Farbe(XX = P, farbe = farbe, Bild_size = size[1])\n",
    "y = y.astype(int)\n",
    "X_train, X_test, y_train, y_test = train_test_split(P,y, train_size=.8)\n"
   ]
  },
  {
   "cell_type": "markdown",
   "metadata": {
    "pycharm": {
     "name": "#%% md\n"
    }
   },
   "source": [
    "### Plot einige Daten"
   ]
  },
  {
   "cell_type": "code",
   "execution_count": null,
   "metadata": {},
   "outputs": [],
   "source": [
    "for i in range(10, 15):\n",
    "    some_digit_train = X_train[i]\n",
    "    plt.imshow(some_digit_train, cmap=\"binary\")\n",
    "    plt.title(y_train[i])\n",
    "    plt.show()    "
   ]
  },
  {
   "cell_type": "markdown",
   "metadata": {
    "pycharm": {
     "name": "#%% md\n"
    }
   },
   "source": [
    "### Model"
   ]
  },
  {
   "cell_type": "code",
   "execution_count": null,
   "metadata": {},
   "outputs": [],
   "source": [
    "if farbe:\n",
    "    input_shape = list(P.shape)\n",
    "    input_shape = (input_shape[1],input_shape[2],input_shape[3])\n",
    "else:\n",
    "    input_shape = list(P.shape)\n",
    "    input_shape = (input_shape[1],input_shape[2],1)"
   ]
  },
  {
   "cell_type": "code",
   "execution_count": 4,
   "metadata": {},
   "outputs": [],
   "source": [
    "def build_nn(activation = 'relu', \n",
    "             activation_end='softmax', \n",
    "             n_neurons_1=200, \n",
    "             n_neurons_2=100,\n",
    "             n_conv=1,\n",
    "             kernel_size=3,\n",
    "             input_shape = input_shape,\n",
    "             n_layers=1):\n",
    "        # detect and init the TPU\n",
    "#    tpu = tf.distribute.cluster_resolver.TPUClusterResolver.connect()\n",
    "\n",
    "    # instantiate a distribution strategy\n",
    " #   tpu_strategy = tf.distribute.experimental.TPUStrategy(tpu)\n",
    "\n",
    "    # instantiating the model in the strategy scope creates the model on the TPU\n",
    "  #  with tpu_strategy.scope():\n",
    "        model = Sequential()\n",
    "        model.add(Conv2D(filters = 32, kernel_size=(kernel_size, kernel_size), padding=\"same\", activation=activation, input_shape=input_shape, name=\"conv_1\"))\n",
    "        model.add(MaxPooling2D(pool_size=(2, 2), name=\"Max_Pooling_1\"))\n",
    "        for j in range(n_conv):\n",
    "            model.add(Conv2D(filters = 32*2**(j), kernel_size=(kernel_size, kernel_size), padding=\"same\", activation=activation))        \n",
    "            model.add(MaxPooling2D(pool_size=(2, 2)))\n",
    "        model.add(Flatten(name=\"in_1_dim_vektor\"))\n",
    "        \n",
    "        for i in range(n_layers):\n",
    "            model.add(Dense(n_neurons_1,activation=activation))\n",
    "        model.add(Dense(n_neurons_2,activation=activation, name=\"versteckte_Schicht\"))\n",
    "        model.add(Dense(10,activation=activation_end, name=\"Ausgang\"))\n",
    "\n",
    "        lr_schedule = ExponentialDecay(\n",
    "        initial_learning_rate = 0.001,\n",
    "        decay_steps=100000,\n",
    "        decay_rate=0.96,\n",
    "        staircase=True)\n",
    "\n",
    "        model.compile(loss=sparse_categorical_crossentropy, \n",
    "                      optimizer= Adam(learning_rate = lr_schedule), \n",
    "                      metrics=[\"accuracy\"])\n",
    "        return model"
   ]
  },
  {
   "cell_type": "code",
   "execution_count": null,
   "metadata": {},
   "outputs": [],
   "source": [
    "model = build_nn()\n",
    "model.summary()"
   ]
  },
  {
   "cell_type": "markdown",
   "metadata": {
    "pycharm": {
     "name": "#%% md\n"
    }
   },
   "source": [
    "### Simple Pipeline"
   ]
  },
  {
   "cell_type": "code",
   "execution_count": 5,
   "metadata": {
    "pycharm": {
     "name": "#%%\n"
    }
   },
   "outputs": [],
   "source": [
    "steps = [\n",
    "    ('clf',  KerasClassifier(build_nn) )\n",
    "]\n",
    "pipe = Pipeline(steps=steps)"
   ]
  },
  {
   "cell_type": "code",
   "execution_count": 6,
   "metadata": {
    "pycharm": {
     "name": "#%%\n"
    }
   },
   "outputs": [
    {
     "name": "stdout",
     "output_type": "stream",
     "text": [
      "1750/1750 [==============================] - 15s 3ms/step - loss: 0.4831 - accuracy: 0.8669\n"
     ]
    },
    {
     "data": {
      "text/plain": [
       "Pipeline(memory=None,\n",
       "     steps=[('preprocessing', StandardScaler(copy=True, with_mean=True, with_std=True)), ('clf', <tensorflow.python.keras.wrappers.scikit_learn.KerasClassifier object at 0x000001C949207C48>)])"
      ]
     },
     "execution_count": 6,
     "metadata": {},
     "output_type": "execute_result"
    }
   ],
   "source": [
    "pipe.fit(X_train, y_train)"
   ]
  },
  {
   "cell_type": "markdown",
   "metadata": {
    "pycharm": {
     "name": "#%% md\n"
    }
   },
   "source": [
    "#### Simple Pipeline Score:"
   ]
  },
  {
   "cell_type": "code",
   "execution_count": 7,
   "metadata": {},
   "outputs": [
    {
     "name": "stderr",
     "output_type": "stream",
     "text": [
      "c:\\users\\caleb\\appdata\\local\\programs\\python\\python37\\lib\\site-packages\\tensorflow\\python\\keras\\engine\\sequential.py:450: UserWarning: `model.predict_classes()` is deprecated and will be removed after 2021-01-01. Please use instead:* `np.argmax(model.predict(x), axis=-1)`,   if your model does multi-class classification   (e.g. if it uses a `softmax` last-layer activation).* `(model.predict(x) > 0.5).astype(\"int32\")`,   if your model does binary classification   (e.g. if it uses a `sigmoid` last-layer activation).\n",
      "  warnings.warn('`model.predict_classes()` is deprecated and '\n"
     ]
    },
    {
     "data": {
      "text/plain": [
       "0.9494285714285714"
      ]
     },
     "execution_count": 7,
     "metadata": {},
     "output_type": "execute_result"
    }
   ],
   "source": [
    "y_pred = pipe.predict(X_test)\n",
    "accuracy_score(y_true=y_test,y_pred=y_pred)"
   ]
  },
  {
   "cell_type": "markdown",
   "metadata": {
    "pycharm": {
     "name": "#%% md\n"
    }
   },
   "source": [
    "### Pipeline Optimization"
   ]
  },
  {
   "cell_type": "code",
   "execution_count": 1,
   "metadata": {},
   "outputs": [],
   "source": [
    "params = [\n",
    "            {\n",
    "            'clf__n_conv': [1, 2, 3, 4],\n",
    "            'clf__activation': ['linear','tanh', 'relu', 'sigmoid'],\n",
    "            'clf__n_layers': [0, 1, 2, 3],\n",
    "            'clf__n_neurons_1': [200, 300, 400, 500],\n",
    "            'clf__n_neurons_2': [50, 100, 150]\n",
    "            }    \n",
    "    ]"
   ]
  },
  {
   "cell_type": "code",
   "execution_count": 9,
   "metadata": {},
   "outputs": [
    {
     "name": "stdout",
     "output_type": "stream",
     "text": [
      "Fitting 4 folds for each of 15 candidates, totalling 60 fits\n",
      "[CV] clf__optimizer=<class 'tensorflow.python.keras.optimizer_v2.adam.Adam'>, clf__learning_rate=0.1, clf__activation=sigmoid \n"
     ]
    },
    {
     "name": "stderr",
     "output_type": "stream",
     "text": [
      "[Parallel(n_jobs=1)]: Using backend SequentialBackend with 1 concurrent workers.\n"
     ]
    },
    {
     "name": "stdout",
     "output_type": "stream",
     "text": [
      "1313/1313 [==============================] - 7s 3ms/step - loss: 1.8508 - accuracy: 0.3973\n",
      "438/438 [==============================] - 1s 2ms/step - loss: 1.6850 - accuracy: 0.4781\n",
      "1313/1313 [==============================] - 2s 2ms/step - loss: 1.6789 - accuracy: 0.4787\n",
      "[CV]  clf__optimizer=<class 'tensorflow.python.keras.optimizer_v2.adam.Adam'>, clf__learning_rate=0.1, clf__activation=sigmoid, total=  29.5s\n",
      "[CV] clf__optimizer=<class 'tensorflow.python.keras.optimizer_v2.adam.Adam'>, clf__learning_rate=0.1, clf__activation=sigmoid \n"
     ]
    },
    {
     "name": "stderr",
     "output_type": "stream",
     "text": [
      "[Parallel(n_jobs=1)]: Done   1 out of   1 | elapsed:   32.4s remaining:    0.0s\n"
     ]
    },
    {
     "name": "stdout",
     "output_type": "stream",
     "text": [
      "1313/1313 [==============================] - 5s 3ms/step - loss: 2.4973 - accuracy: 0.1822\n",
      "438/438 [==============================] - 1s 2ms/step - loss: 2.0577 - accuracy: 0.1963\n",
      "1313/1313 [==============================] - 4s 3ms/step - loss: 2.0638 - accuracy: 0.1878\n",
      "[CV]  clf__optimizer=<class 'tensorflow.python.keras.optimizer_v2.adam.Adam'>, clf__learning_rate=0.1, clf__activation=sigmoid, total=  28.7s\n",
      "[CV] clf__optimizer=<class 'tensorflow.python.keras.optimizer_v2.adam.Adam'>, clf__learning_rate=0.1, clf__activation=sigmoid \n",
      "1313/1313 [==============================] - 5s 4ms/step - loss: 1.9976 - accuracy: 0.3354\n",
      "438/438 [==============================] - 1s 3ms/step - loss: 1.4119 - accuracy: 0.4952\n",
      "1313/1313 [==============================] - 3s 2ms/step - loss: 1.4246 - accuracy: 0.4857\n",
      "[CV]  clf__optimizer=<class 'tensorflow.python.keras.optimizer_v2.adam.Adam'>, clf__learning_rate=0.1, clf__activation=sigmoid, total=   8.7s\n",
      "[CV] clf__optimizer=<class 'tensorflow.python.keras.optimizer_v2.adam.Adam'>, clf__learning_rate=0.1, clf__activation=sigmoid \n",
      "1313/1313 [==============================] - 6s 4ms/step - loss: 2.1445 - accuracy: 0.2475\n",
      "438/438 [==============================] - 1s 3ms/step - loss: 1.7479 - accuracy: 0.2694\n",
      "1313/1313 [==============================] - 3s 3ms/step - loss: 1.7497 - accuracy: 0.2702\n",
      "[CV]  clf__optimizer=<class 'tensorflow.python.keras.optimizer_v2.adam.Adam'>, clf__learning_rate=0.1, clf__activation=sigmoid, total=   9.4s\n",
      "[CV] clf__optimizer=<class 'tensorflow.python.keras.optimizer_v2.adam.Adam'>, clf__learning_rate=0.1, clf__activation=relu \n",
      "1313/1313 [==============================] - 7s 4ms/step - loss: 6.5530 - accuracy: 0.1106\n",
      "438/438 [==============================] - 1s 2ms/step - loss: 2.3091 - accuracy: 0.1024\n",
      "1313/1313 [==============================] - 3s 2ms/step - loss: 2.3082 - accuracy: 0.1043\n",
      "[CV]  clf__optimizer=<class 'tensorflow.python.keras.optimizer_v2.adam.Adam'>, clf__learning_rate=0.1, clf__activation=relu, total=  10.1s\n",
      "[CV] clf__optimizer=<class 'tensorflow.python.keras.optimizer_v2.adam.Adam'>, clf__learning_rate=0.1, clf__activation=relu \n",
      "1313/1313 [==============================] - 6s 4ms/step - loss: 8.3495 - accuracy: 0.1167\n",
      "438/438 [==============================] - 1s 2ms/step - loss: 2.3105 - accuracy: 0.0987\n",
      "1313/1313 [==============================] - 3s 2ms/step - loss: 2.3091 - accuracy: 0.1018\n",
      "[CV]  clf__optimizer=<class 'tensorflow.python.keras.optimizer_v2.adam.Adam'>, clf__learning_rate=0.1, clf__activation=relu, total=  33.9s\n",
      "[CV] clf__optimizer=<class 'tensorflow.python.keras.optimizer_v2.adam.Adam'>, clf__learning_rate=0.1, clf__activation=relu \n",
      "1313/1313 [==============================] - 6s 4ms/step - loss: 5.6480 - accuracy: 0.1171\n",
      "438/438 [==============================] - 1s 3ms/step - loss: 2.3132 - accuracy: 0.0972\n",
      "1313/1313 [==============================] - 3s 2ms/step - loss: 2.3159 - accuracy: 0.0984\n",
      "[CV]  clf__optimizer=<class 'tensorflow.python.keras.optimizer_v2.adam.Adam'>, clf__learning_rate=0.1, clf__activation=relu, total=   9.2s\n",
      "[CV] clf__optimizer=<class 'tensorflow.python.keras.optimizer_v2.adam.Adam'>, clf__learning_rate=0.1, clf__activation=relu \n",
      "1313/1313 [==============================] - 6s 4ms/step - loss: 6.2595 - accuracy: 0.1129\n",
      "438/438 [==============================] - 1s 2ms/step - loss: 2.3135 - accuracy: 0.1128\n",
      "1313/1313 [==============================] - 3s 2ms/step - loss: 2.3133 - accuracy: 0.1109\n",
      "[CV]  clf__optimizer=<class 'tensorflow.python.keras.optimizer_v2.adam.Adam'>, clf__learning_rate=0.1, clf__activation=relu, total=   8.5s\n",
      "[CV] clf__optimizer=<class 'tensorflow.python.keras.optimizer_v2.adam.Adam'>, clf__learning_rate=0.1, clf__activation=tanh \n",
      "1313/1313 [==============================] - 5s 3ms/step - loss: 1.8226 - accuracy: 0.6551\n",
      "438/438 [==============================] - 1s 2ms/step - loss: 1.7120 - accuracy: 0.7165\n",
      "1313/1313 [==============================] - 3s 2ms/step - loss: 1.6454 - accuracy: 0.7201\n",
      "[CV]  clf__optimizer=<class 'tensorflow.python.keras.optimizer_v2.adam.Adam'>, clf__learning_rate=0.1, clf__activation=tanh, total=   8.1s\n",
      "[CV] clf__optimizer=<class 'tensorflow.python.keras.optimizer_v2.adam.Adam'>, clf__learning_rate=0.1, clf__activation=tanh \n",
      "1313/1313 [==============================] - 5s 3ms/step - loss: 1.8446 - accuracy: 0.6595\n",
      "438/438 [==============================] - 1s 2ms/step - loss: 1.9757 - accuracy: 0.7221\n",
      "1313/1313 [==============================] - 3s 2ms/step - loss: 1.9450 - accuracy: 0.7233\n",
      "[CV]  clf__optimizer=<class 'tensorflow.python.keras.optimizer_v2.adam.Adam'>, clf__learning_rate=0.1, clf__activation=tanh, total=   8.7s\n",
      "[CV] clf__optimizer=<class 'tensorflow.python.keras.optimizer_v2.adam.Adam'>, clf__learning_rate=0.1, clf__activation=tanh \n",
      "1313/1313 [==============================] - 11s 4ms/step - loss: 1.8334 - accuracy: 0.6435\n",
      "438/438 [==============================] - 1s 2ms/step - loss: 1.6161 - accuracy: 0.7451\n",
      "1313/1313 [==============================] - 3s 2ms/step - loss: 1.6046 - accuracy: 0.7400\n",
      "[CV]  clf__optimizer=<class 'tensorflow.python.keras.optimizer_v2.adam.Adam'>, clf__learning_rate=0.1, clf__activation=tanh, total=  23.6s\n",
      "[CV] clf__optimizer=<class 'tensorflow.python.keras.optimizer_v2.adam.Adam'>, clf__learning_rate=0.1, clf__activation=tanh \n",
      "1313/1313 [==============================] - 6s 4ms/step - loss: 1.8245 - accuracy: 0.6593\n",
      "438/438 [==============================] - 1s 3ms/step - loss: 1.8455 - accuracy: 0.7254\n",
      "1313/1313 [==============================] - 4s 3ms/step - loss: 1.8499 - accuracy: 0.7275\n",
      "[CV]  clf__optimizer=<class 'tensorflow.python.keras.optimizer_v2.adam.Adam'>, clf__learning_rate=0.1, clf__activation=tanh, total=  11.2s\n",
      "[CV] clf__optimizer=<class 'tensorflow.python.keras.optimizer_v2.adam.Adam'>, clf__learning_rate=0.0001, clf__activation=linear \n",
      "1313/1313 [==============================] - 6s 4ms/step - loss: 0.7701 - accuracy: 0.7861\n",
      "438/438 [==============================] - 3s 2ms/step - loss: 0.3762 - accuracy: 0.9019\n",
      "1313/1313 [==============================] - 3s 2ms/step - loss: 0.3061 - accuracy: 0.9163\n",
      "[CV]  clf__optimizer=<class 'tensorflow.python.keras.optimizer_v2.adam.Adam'>, clf__learning_rate=0.0001, clf__activation=linear, total=  11.2s\n",
      "[CV] clf__optimizer=<class 'tensorflow.python.keras.optimizer_v2.adam.Adam'>, clf__learning_rate=0.0001, clf__activation=linear \n",
      "1313/1313 [==============================] - 5s 3ms/step - loss: 0.7443 - accuracy: 0.7942\n",
      "438/438 [==============================] - 1s 2ms/step - loss: 0.3529 - accuracy: 0.9098\n",
      "1313/1313 [==============================] - 4s 3ms/step - loss: 0.3138 - accuracy: 0.9141\n",
      "[CV]  clf__optimizer=<class 'tensorflow.python.keras.optimizer_v2.adam.Adam'>, clf__learning_rate=0.0001, clf__activation=linear, total=   8.4s\n",
      "[CV] clf__optimizer=<class 'tensorflow.python.keras.optimizer_v2.adam.Adam'>, clf__learning_rate=0.0001, clf__activation=linear \n",
      "1313/1313 [==============================] - 9s 4ms/step - loss: 0.7455 - accuracy: 0.7921\n",
      "438/438 [==============================] - 1s 3ms/step - loss: 0.4605 - accuracy: 0.9092\n",
      "1313/1313 [==============================] - 3s 3ms/step - loss: 0.3039 - accuracy: 0.9139\n",
      "[CV]  clf__optimizer=<class 'tensorflow.python.keras.optimizer_v2.adam.Adam'>, clf__learning_rate=0.0001, clf__activation=linear, total=  13.5s\n",
      "[CV] clf__optimizer=<class 'tensorflow.python.keras.optimizer_v2.adam.Adam'>, clf__learning_rate=0.0001, clf__activation=linear \n",
      "1313/1313 [==============================] - 6s 4ms/step - loss: 0.7803 - accuracy: 0.7842\n",
      "438/438 [==============================] - 1s 3ms/step - loss: 0.3727 - accuracy: 0.9076\n",
      "1313/1313 [==============================] - 4s 3ms/step - loss: 0.3086 - accuracy: 0.9144\n",
      "[CV]  clf__optimizer=<class 'tensorflow.python.keras.optimizer_v2.adam.Adam'>, clf__learning_rate=0.0001, clf__activation=linear, total=   9.0s\n",
      "[CV] clf__optimizer=<class 'tensorflow.python.keras.optimizer_v2.adam.Adam'>, clf__learning_rate=0.001, clf__activation=linear \n",
      "1313/1313 [==============================] - 6s 4ms/step - loss: 0.6775 - accuracy: 0.8506\n",
      "438/438 [==============================] - 1s 2ms/step - loss: 0.4847 - accuracy: 0.8865\n",
      "1313/1313 [==============================] - 3s 2ms/step - loss: 0.4069 - accuracy: 0.8972\n",
      "[CV]  clf__optimizer=<class 'tensorflow.python.keras.optimizer_v2.adam.Adam'>, clf__learning_rate=0.001, clf__activation=linear, total=   9.7s\n",
      "[CV] clf__optimizer=<class 'tensorflow.python.keras.optimizer_v2.adam.Adam'>, clf__learning_rate=0.001, clf__activation=linear \n",
      "1313/1313 [==============================] - 6s 4ms/step - loss: 0.6979 - accuracy: 0.8484\n",
      "438/438 [==============================] - 1s 2ms/step - loss: 0.4380 - accuracy: 0.8967\n",
      "1313/1313 [==============================] - 3s 2ms/step - loss: 0.3835 - accuracy: 0.9008\n",
      "[CV]  clf__optimizer=<class 'tensorflow.python.keras.optimizer_v2.adam.Adam'>, clf__learning_rate=0.001, clf__activation=linear, total=   8.3s\n",
      "[CV] clf__optimizer=<class 'tensorflow.python.keras.optimizer_v2.adam.Adam'>, clf__learning_rate=0.001, clf__activation=linear \n",
      "1313/1313 [==============================] - 7s 4ms/step - loss: 0.6730 - accuracy: 0.8503\n",
      "438/438 [==============================] - 1s 3ms/step - loss: 0.5532 - accuracy: 0.8887\n",
      "1313/1313 [==============================] - 3s 3ms/step - loss: 0.3742 - accuracy: 0.8997\n",
      "[CV]  clf__optimizer=<class 'tensorflow.python.keras.optimizer_v2.adam.Adam'>, clf__learning_rate=0.001, clf__activation=linear, total=  10.1s\n",
      "[CV] clf__optimizer=<class 'tensorflow.python.keras.optimizer_v2.adam.Adam'>, clf__learning_rate=0.001, clf__activation=linear \n",
      "1313/1313 [==============================] - 7s 4ms/step - loss: 0.6971 - accuracy: 0.8472\n",
      "438/438 [==============================] - 2s 2ms/step - loss: 0.4969 - accuracy: 0.8891\n",
      "1313/1313 [==============================] - 3s 3ms/step - loss: 0.4070 - accuracy: 0.8979\n",
      "[CV]  clf__optimizer=<class 'tensorflow.python.keras.optimizer_v2.adam.Adam'>, clf__learning_rate=0.001, clf__activation=linear, total=  11.0s\n",
      "[CV] clf__optimizer=<class 'tensorflow.python.keras.optimizer_v2.adam.Adam'>, clf__learning_rate=0.1, clf__activation=linear \n",
      "1313/1313 [==============================] - 8s 4ms/step - loss: 4133.1400 - accuracy: 0.6973\n",
      "438/438 [==============================] - 1s 2ms/step - loss: 16628.6074 - accuracy: 0.7459\n",
      "1313/1313 [==============================] - 4s 3ms/step - loss: 14892.8047 - accuracy: 0.7561\n",
      "[CV]  clf__optimizer=<class 'tensorflow.python.keras.optimizer_v2.adam.Adam'>, clf__learning_rate=0.1, clf__activation=linear, total=  10.6s\n",
      "[CV] clf__optimizer=<class 'tensorflow.python.keras.optimizer_v2.adam.Adam'>, clf__learning_rate=0.1, clf__activation=linear \n",
      "1313/1313 [==============================] - 5s 3ms/step - loss: 4965.7709 - accuracy: 0.6929\n",
      "438/438 [==============================] - 4s 2ms/step - loss: 3886.0073 - accuracy: 0.8364TA: 0s - loss: 3271.3992 -\n",
      "1313/1313 [==============================] - 3s 2ms/step - loss: 3595.8374 - accuracy: 0.8384\n",
      "[CV]  clf__optimizer=<class 'tensorflow.python.keras.optimizer_v2.adam.Adam'>, clf__learning_rate=0.1, clf__activation=linear, total=  11.4s\n",
      "[CV] clf__optimizer=<class 'tensorflow.python.keras.optimizer_v2.adam.Adam'>, clf__learning_rate=0.1, clf__activation=linear \n",
      "1313/1313 [==============================] - 6s 4ms/step - loss: 4510.3340 - accuracy: 0.6891\n",
      "438/438 [==============================] - 1s 2ms/step - loss: 18899.7305 - accuracy: 0.8130\n",
      "1313/1313 [==============================] - 3s 2ms/step - loss: 16327.0977 - accuracy: 0.8170\n",
      "[CV]  clf__optimizer=<class 'tensorflow.python.keras.optimizer_v2.adam.Adam'>, clf__learning_rate=0.1, clf__activation=linear, total=   9.7s\n",
      "[CV] clf__optimizer=<class 'tensorflow.python.keras.optimizer_v2.adam.Adam'>, clf__learning_rate=0.1, clf__activation=linear \n",
      "1313/1313 [==============================] - 5s 4ms/step - loss: 4486.3692 - accuracy: 0.6907\n",
      "438/438 [==============================] - 4s 2ms/step - loss: 39388.5156 - accuracy: 0.7528\n",
      "1313/1313 [==============================] - 3s 2ms/step - loss: 35258.9453 - accuracy: 0.7634\n",
      "[CV]  clf__optimizer=<class 'tensorflow.python.keras.optimizer_v2.adam.Adam'>, clf__learning_rate=0.1, clf__activation=linear, total=  11.0s\n",
      "[CV] clf__optimizer=<class 'tensorflow.python.keras.optimizer_v2.adam.Adam'>, clf__learning_rate=0.001, clf__activation=sigmoid \n",
      "1313/1313 [==============================] - 6s 4ms/step - loss: 0.5976 - accuracy: 0.8476\n",
      "438/438 [==============================] - 1s 2ms/step - loss: 0.2133 - accuracy: 0.9351\n",
      "1313/1313 [==============================] - 3s 3ms/step - loss: 0.1689 - accuracy: 0.9531\n",
      "[CV]  clf__optimizer=<class 'tensorflow.python.keras.optimizer_v2.adam.Adam'>, clf__learning_rate=0.001, clf__activation=sigmoid, total=   8.5s\n",
      "[CV] clf__optimizer=<class 'tensorflow.python.keras.optimizer_v2.adam.Adam'>, clf__learning_rate=0.001, clf__activation=sigmoid \n",
      "1313/1313 [==============================] - 6s 4ms/step - loss: 0.6230 - accuracy: 0.8377\n",
      "438/438 [==============================] - 1s 2ms/step - loss: 0.2039 - accuracy: 0.9386\n",
      "1313/1313 [==============================] - 3s 2ms/step - loss: 0.1721 - accuracy: 0.9508\n",
      "[CV]  clf__optimizer=<class 'tensorflow.python.keras.optimizer_v2.adam.Adam'>, clf__learning_rate=0.001, clf__activation=sigmoid, total=   8.6s\n",
      "[CV] clf__optimizer=<class 'tensorflow.python.keras.optimizer_v2.adam.Adam'>, clf__learning_rate=0.001, clf__activation=sigmoid \n",
      "1313/1313 [==============================] - 7s 5ms/step - loss: 0.6280 - accuracy: 0.8364\n",
      "438/438 [==============================] - 1s 2ms/step - loss: 0.2170 - accuracy: 0.9386\n",
      "1313/1313 [==============================] - 3s 3ms/step - loss: 0.1819 - accuracy: 0.9485\n",
      "[CV]  clf__optimizer=<class 'tensorflow.python.keras.optimizer_v2.adam.Adam'>, clf__learning_rate=0.001, clf__activation=sigmoid, total=   9.3s\n",
      "[CV] clf__optimizer=<class 'tensorflow.python.keras.optimizer_v2.adam.Adam'>, clf__learning_rate=0.001, clf__activation=sigmoid \n",
      "1313/1313 [==============================] - 6s 4ms/step - loss: 0.6538 - accuracy: 0.8314\n",
      "438/438 [==============================] - 1s 2ms/step - loss: 0.2027 - accuracy: 0.9396\n",
      "1313/1313 [==============================] - 4s 3ms/step - loss: 0.1745 - accuracy: 0.9505\n",
      "[CV]  clf__optimizer=<class 'tensorflow.python.keras.optimizer_v2.adam.Adam'>, clf__learning_rate=0.001, clf__activation=sigmoid, total=   9.1s\n",
      "[CV] clf__optimizer=<class 'tensorflow.python.keras.optimizer_v2.adam.Adam'>, clf__learning_rate=0.01, clf__activation=relu \n",
      "1313/1313 [==============================] - 6s 4ms/step - loss: 0.6578 - accuracy: 0.8460\n",
      "438/438 [==============================] - 2s 2ms/step - loss: 0.5560 - accuracy: 0.8686\n",
      "1313/1313 [==============================] - 3s 2ms/step - loss: 0.4824 - accuracy: 0.8773\n",
      "[CV]  clf__optimizer=<class 'tensorflow.python.keras.optimizer_v2.adam.Adam'>, clf__learning_rate=0.01, clf__activation=relu, total=   9.8s\n",
      "[CV] clf__optimizer=<class 'tensorflow.python.keras.optimizer_v2.adam.Adam'>, clf__learning_rate=0.01, clf__activation=relu \n",
      "1313/1313 [==============================] - 7s 4ms/step - loss: 0.6485 - accuracy: 0.8425\n",
      "438/438 [==============================] - 2s 3ms/step - loss: 0.5508 - accuracy: 0.8822\n",
      "1313/1313 [==============================] - 3s 2ms/step - loss: 0.4817 - accuracy: 0.8919\n",
      "[CV]  clf__optimizer=<class 'tensorflow.python.keras.optimizer_v2.adam.Adam'>, clf__learning_rate=0.01, clf__activation=relu, total=  12.5s\n",
      "[CV] clf__optimizer=<class 'tensorflow.python.keras.optimizer_v2.adam.Adam'>, clf__learning_rate=0.01, clf__activation=relu \n",
      "1313/1313 [==============================] - 9s 4ms/step - loss: 0.6318 - accuracy: 0.8410\n",
      "438/438 [==============================] - 1s 2ms/step - loss: 0.5512 - accuracy: 0.8728\n",
      "1313/1313 [==============================] - 3s 3ms/step - loss: 0.4922 - accuracy: 0.8801\n",
      "[CV]  clf__optimizer=<class 'tensorflow.python.keras.optimizer_v2.adam.Adam'>, clf__learning_rate=0.01, clf__activation=relu, total=  12.0s\n",
      "[CV] clf__optimizer=<class 'tensorflow.python.keras.optimizer_v2.adam.Adam'>, clf__learning_rate=0.01, clf__activation=relu \n",
      "1313/1313 [==============================] - 6s 4ms/step - loss: 0.6313 - accuracy: 0.8410\n"
     ]
    },
    {
     "name": "stdout",
     "output_type": "stream",
     "text": [
      "438/438 [==============================] - 1s 2ms/step - loss: 0.4377 - accuracy: 0.8811\n",
      "1313/1313 [==============================] - 3s 2ms/step - loss: 0.3998 - accuracy: 0.8876\n",
      "[CV]  clf__optimizer=<class 'tensorflow.python.keras.optimizer_v2.adam.Adam'>, clf__learning_rate=0.01, clf__activation=relu, total=   8.8s\n",
      "[CV] clf__optimizer=<class 'tensorflow.python.keras.optimizer_v2.adam.Adam'>, clf__learning_rate=0.0001, clf__activation=sigmoid \n",
      "1313/1313 [==============================] - 5s 4ms/step - loss: 1.4425 - accuracy: 0.6810\n",
      "438/438 [==============================] - 1s 2ms/step - loss: 0.5074 - accuracy: 0.8897\n",
      "1313/1313 [==============================] - 3s 2ms/step - loss: 0.4930 - accuracy: 0.8966\n",
      "[CV]  clf__optimizer=<class 'tensorflow.python.keras.optimizer_v2.adam.Adam'>, clf__learning_rate=0.0001, clf__activation=sigmoid, total=   8.6s\n",
      "[CV] clf__optimizer=<class 'tensorflow.python.keras.optimizer_v2.adam.Adam'>, clf__learning_rate=0.0001, clf__activation=sigmoid \n",
      "1313/1313 [==============================] - 15s 4ms/step - loss: 1.5081 - accuracy: 0.6442\n",
      "438/438 [==============================] - 1s 2ms/step - loss: 0.5272 - accuracy: 0.8887\n",
      "1313/1313 [==============================] - 3s 2ms/step - loss: 0.5215 - accuracy: 0.8911\n",
      "[CV]  clf__optimizer=<class 'tensorflow.python.keras.optimizer_v2.adam.Adam'>, clf__learning_rate=0.0001, clf__activation=sigmoid, total=  18.2s\n",
      "[CV] clf__optimizer=<class 'tensorflow.python.keras.optimizer_v2.adam.Adam'>, clf__learning_rate=0.0001, clf__activation=sigmoid \n",
      "1313/1313 [==============================] - 6s 4ms/step - loss: 1.4728 - accuracy: 0.6655\n",
      "438/438 [==============================] - 1s 2ms/step - loss: 0.5138 - accuracy: 0.8888\n",
      "1313/1313 [==============================] - 3s 2ms/step - loss: 0.5101 - accuracy: 0.8879\n",
      "[CV]  clf__optimizer=<class 'tensorflow.python.keras.optimizer_v2.adam.Adam'>, clf__learning_rate=0.0001, clf__activation=sigmoid, total=   8.2s\n",
      "[CV] clf__optimizer=<class 'tensorflow.python.keras.optimizer_v2.adam.Adam'>, clf__learning_rate=0.0001, clf__activation=sigmoid \n",
      "1313/1313 [==============================] - 6s 4ms/step - loss: 1.4442 - accuracy: 0.6842\n",
      "438/438 [==============================] - 1s 2ms/step - loss: 0.5034 - accuracy: 0.8891\n",
      "1313/1313 [==============================] - 3s 3ms/step - loss: 0.4995 - accuracy: 0.8913\n",
      "[CV]  clf__optimizer=<class 'tensorflow.python.keras.optimizer_v2.adam.Adam'>, clf__learning_rate=0.0001, clf__activation=sigmoid, total=   8.8s\n",
      "[CV] clf__optimizer=<class 'tensorflow.python.keras.optimizer_v2.adam.Adam'>, clf__learning_rate=0.001, clf__activation=relu \n",
      "1313/1313 [==============================] - 6s 4ms/step - loss: 0.3851 - accuracy: 0.8861\n",
      "438/438 [==============================] - 1s 2ms/step - loss: 0.1909 - accuracy: 0.9498\n",
      "1313/1313 [==============================] - 3s 2ms/step - loss: 0.1143 - accuracy: 0.9648\n",
      "[CV]  clf__optimizer=<class 'tensorflow.python.keras.optimizer_v2.adam.Adam'>, clf__learning_rate=0.001, clf__activation=relu, total=   8.5s\n",
      "[CV] clf__optimizer=<class 'tensorflow.python.keras.optimizer_v2.adam.Adam'>, clf__learning_rate=0.001, clf__activation=relu \n",
      "1313/1313 [==============================] - 6s 3ms/step - loss: 0.3790 - accuracy: 0.8894\n",
      "438/438 [==============================] - 1s 2ms/step - loss: 0.1589 - accuracy: 0.9561\n",
      "1313/1313 [==============================] - 3s 2ms/step - loss: 0.1035 - accuracy: 0.9677\n",
      "[CV]  clf__optimizer=<class 'tensorflow.python.keras.optimizer_v2.adam.Adam'>, clf__learning_rate=0.001, clf__activation=relu, total=   8.6s\n",
      "[CV] clf__optimizer=<class 'tensorflow.python.keras.optimizer_v2.adam.Adam'>, clf__learning_rate=0.001, clf__activation=relu \n",
      "1313/1313 [==============================] - 6s 4ms/step - loss: 0.3623 - accuracy: 0.8907\n",
      "438/438 [==============================] - 1s 2ms/step - loss: 0.1569 - accuracy: 0.9589\n",
      "1313/1313 [==============================] - 3s 2ms/step - loss: 0.0846 - accuracy: 0.9733\n",
      "[CV]  clf__optimizer=<class 'tensorflow.python.keras.optimizer_v2.adam.Adam'>, clf__learning_rate=0.001, clf__activation=relu, total=   8.6s\n",
      "[CV] clf__optimizer=<class 'tensorflow.python.keras.optimizer_v2.adam.Adam'>, clf__learning_rate=0.001, clf__activation=relu \n",
      "1313/1313 [==============================] - 7s 3ms/step - loss: 0.3713 - accuracy: 0.8923\n",
      "438/438 [==============================] - 2s 2ms/step - loss: 0.1462 - accuracy: 0.9605\n",
      "1313/1313 [==============================] - 2s 2ms/step - loss: 0.0867 - accuracy: 0.9738\n",
      "[CV]  clf__optimizer=<class 'tensorflow.python.keras.optimizer_v2.adam.Adam'>, clf__learning_rate=0.001, clf__activation=relu, total=  10.9s\n",
      "[CV] clf__optimizer=<class 'tensorflow.python.keras.optimizer_v2.adam.Adam'>, clf__learning_rate=0.0001, clf__activation=tanh \n",
      "1313/1313 [==============================] - 8s 4ms/step - loss: 0.7362 - accuracy: 0.7843\n",
      "438/438 [==============================] - 1s 2ms/step - loss: 0.2877 - accuracy: 0.9161\n",
      "1313/1313 [==============================] - 3s 2ms/step - loss: 0.2502 - accuracy: 0.9309\n",
      "[CV]  clf__optimizer=<class 'tensorflow.python.keras.optimizer_v2.adam.Adam'>, clf__learning_rate=0.0001, clf__activation=tanh, total=  10.5s\n",
      "[CV] clf__optimizer=<class 'tensorflow.python.keras.optimizer_v2.adam.Adam'>, clf__learning_rate=0.0001, clf__activation=tanh \n",
      "1313/1313 [==============================] - 6s 4ms/step - loss: 0.7363 - accuracy: 0.7863\n",
      "438/438 [==============================] - 1s 3ms/step - loss: 0.2734 - accuracy: 0.9229\n",
      "1313/1313 [==============================] - 4s 3ms/step - loss: 0.2527 - accuracy: 0.9301\n",
      "[CV]  clf__optimizer=<class 'tensorflow.python.keras.optimizer_v2.adam.Adam'>, clf__learning_rate=0.0001, clf__activation=tanh, total=  11.3s\n",
      "[CV] clf__optimizer=<class 'tensorflow.python.keras.optimizer_v2.adam.Adam'>, clf__learning_rate=0.0001, clf__activation=tanh \n",
      "1313/1313 [==============================] - 7s 5ms/step - loss: 0.7687 - accuracy: 0.7723\n",
      "438/438 [==============================] - 1s 3ms/step - loss: 0.2841 - accuracy: 0.9208\n",
      "1313/1313 [==============================] - 4s 3ms/step - loss: 0.2556 - accuracy: 0.9277\n",
      "[CV]  clf__optimizer=<class 'tensorflow.python.keras.optimizer_v2.adam.Adam'>, clf__learning_rate=0.0001, clf__activation=tanh, total=  10.1s\n",
      "[CV] clf__optimizer=<class 'tensorflow.python.keras.optimizer_v2.adam.Adam'>, clf__learning_rate=0.0001, clf__activation=tanh \n",
      "1313/1313 [==============================] - 7s 5ms/step - loss: 0.7473 - accuracy: 0.7765\n",
      "438/438 [==============================] - 1s 2ms/step - loss: 0.2754 - accuracy: 0.9213\n",
      "1313/1313 [==============================] - 3s 3ms/step - loss: 0.2558 - accuracy: 0.9278: 0s - loss: 0.2567 - \n",
      "[CV]  clf__optimizer=<class 'tensorflow.python.keras.optimizer_v2.adam.Adam'>, clf__learning_rate=0.0001, clf__activation=tanh, total=  10.1s\n",
      "[CV] clf__optimizer=<class 'tensorflow.python.keras.optimizer_v2.adam.Adam'>, clf__learning_rate=0.01, clf__activation=sigmoid \n",
      "1313/1313 [==============================] - 6s 4ms/step - loss: 0.4134 - accuracy: 0.8760\n",
      "438/438 [==============================] - 1s 2ms/step - loss: 0.2169 - accuracy: 0.9372\n",
      "1313/1313 [==============================] - 4s 3ms/step - loss: 0.1658 - accuracy: 0.9512\n",
      "[CV]  clf__optimizer=<class 'tensorflow.python.keras.optimizer_v2.adam.Adam'>, clf__learning_rate=0.01, clf__activation=sigmoid, total=   8.9s\n",
      "[CV] clf__optimizer=<class 'tensorflow.python.keras.optimizer_v2.adam.Adam'>, clf__learning_rate=0.01, clf__activation=sigmoid \n",
      "1313/1313 [==============================] - 6s 4ms/step - loss: 0.4279 - accuracy: 0.8687\n",
      "438/438 [==============================] - 1s 2ms/step - loss: 0.2099 - accuracy: 0.9394\n",
      "1313/1313 [==============================] - 3s 2ms/step - loss: 0.1814 - accuracy: 0.9469\n",
      "[CV]  clf__optimizer=<class 'tensorflow.python.keras.optimizer_v2.adam.Adam'>, clf__learning_rate=0.01, clf__activation=sigmoid, total=   8.8s\n",
      "[CV] clf__optimizer=<class 'tensorflow.python.keras.optimizer_v2.adam.Adam'>, clf__learning_rate=0.01, clf__activation=sigmoid \n",
      "1313/1313 [==============================] - 6s 4ms/step - loss: 0.4248 - accuracy: 0.8713\n",
      "438/438 [==============================] - 1s 2ms/step - loss: 0.2081 - accuracy: 0.9383\n",
      "1313/1313 [==============================] - 3s 2ms/step - loss: 0.1665 - accuracy: 0.9483\n",
      "[CV]  clf__optimizer=<class 'tensorflow.python.keras.optimizer_v2.adam.Adam'>, clf__learning_rate=0.01, clf__activation=sigmoid, total=   8.7s\n",
      "[CV] clf__optimizer=<class 'tensorflow.python.keras.optimizer_v2.adam.Adam'>, clf__learning_rate=0.01, clf__activation=sigmoid \n",
      "1313/1313 [==============================] - 8s 4ms/step - loss: 0.4187 - accuracy: 0.8726\n",
      "438/438 [==============================] - 1s 2ms/step - loss: 0.2078 - accuracy: 0.9374\n",
      "1313/1313 [==============================] - 3s 2ms/step - loss: 0.1761 - accuracy: 0.9457\n",
      "[CV]  clf__optimizer=<class 'tensorflow.python.keras.optimizer_v2.adam.Adam'>, clf__learning_rate=0.01, clf__activation=sigmoid, total=  10.8s\n",
      "[CV] clf__optimizer=<class 'tensorflow.python.keras.optimizer_v2.adam.Adam'>, clf__learning_rate=0.01, clf__activation=tanh \n",
      "1313/1313 [==============================] - 5s 4ms/step - loss: 0.4391 - accuracy: 0.8661\n",
      "438/438 [==============================] - 1s 2ms/step - loss: 0.3229 - accuracy: 0.9042\n",
      "1313/1313 [==============================] - 3s 2ms/step - loss: 0.2814 - accuracy: 0.9143\n",
      "[CV]  clf__optimizer=<class 'tensorflow.python.keras.optimizer_v2.adam.Adam'>, clf__learning_rate=0.01, clf__activation=tanh, total=   7.8s\n",
      "[CV] clf__optimizer=<class 'tensorflow.python.keras.optimizer_v2.adam.Adam'>, clf__learning_rate=0.01, clf__activation=tanh \n",
      "1313/1313 [==============================] - 6s 4ms/step - loss: 0.4439 - accuracy: 0.8670\n",
      "438/438 [==============================] - 1s 2ms/step - loss: 0.3033 - accuracy: 0.9154\n",
      "1313/1313 [==============================] - 3s 3ms/step - loss: 0.2648 - accuracy: 0.9208\n",
      "[CV]  clf__optimizer=<class 'tensorflow.python.keras.optimizer_v2.adam.Adam'>, clf__learning_rate=0.01, clf__activation=tanh, total=   9.1s\n",
      "[CV] clf__optimizer=<class 'tensorflow.python.keras.optimizer_v2.adam.Adam'>, clf__learning_rate=0.01, clf__activation=tanh \n",
      "1313/1313 [==============================] - 6s 4ms/step - loss: 0.4358 - accuracy: 0.8708\n",
      "438/438 [==============================] - 1s 3ms/step - loss: 0.3139 - accuracy: 0.9067\n",
      "1313/1313 [==============================] - 3s 2ms/step - loss: 0.2803 - accuracy: 0.9152\n",
      "[CV]  clf__optimizer=<class 'tensorflow.python.keras.optimizer_v2.adam.Adam'>, clf__learning_rate=0.01, clf__activation=tanh, total=   8.4s\n",
      "[CV] clf__optimizer=<class 'tensorflow.python.keras.optimizer_v2.adam.Adam'>, clf__learning_rate=0.01, clf__activation=tanh \n",
      "1313/1313 [==============================] - 6s 4ms/step - loss: 0.4303 - accuracy: 0.8702\n",
      "438/438 [==============================] - 1s 3ms/step - loss: 0.3151 - accuracy: 0.9056\n",
      "1313/1313 [==============================] - 4s 3ms/step - loss: 0.2816 - accuracy: 0.9148\n",
      "[CV]  clf__optimizer=<class 'tensorflow.python.keras.optimizer_v2.adam.Adam'>, clf__learning_rate=0.01, clf__activation=tanh, total=  12.1s\n",
      "[CV] clf__optimizer=<class 'tensorflow.python.keras.optimizer_v2.adam.Adam'>, clf__learning_rate=0.0001, clf__activation=relu \n",
      "1313/1313 [==============================] - 6s 4ms/step - loss: 0.8384 - accuracy: 0.7665\n",
      "438/438 [==============================] - 1s 2ms/step - loss: 0.2328 - accuracy: 0.9317\n",
      "1313/1313 [==============================] - 3s 2ms/step - loss: 0.1898 - accuracy: 0.9465\n",
      "[CV]  clf__optimizer=<class 'tensorflow.python.keras.optimizer_v2.adam.Adam'>, clf__learning_rate=0.0001, clf__activation=relu, total=   8.3s\n",
      "[CV] clf__optimizer=<class 'tensorflow.python.keras.optimizer_v2.adam.Adam'>, clf__learning_rate=0.0001, clf__activation=relu \n",
      "1313/1313 [==============================] - 5s 4ms/step - loss: 0.8284 - accuracy: 0.7627\n",
      "438/438 [==============================] - 1s 2ms/step - loss: 0.2205 - accuracy: 0.9374\n",
      "1313/1313 [==============================] - 3s 2ms/step - loss: 0.1887 - accuracy: 0.9470\n",
      "[CV]  clf__optimizer=<class 'tensorflow.python.keras.optimizer_v2.adam.Adam'>, clf__learning_rate=0.0001, clf__activation=relu, total=   8.0s\n",
      "[CV] clf__optimizer=<class 'tensorflow.python.keras.optimizer_v2.adam.Adam'>, clf__learning_rate=0.0001, clf__activation=relu \n",
      "1313/1313 [==============================] - 6s 4ms/step - loss: 0.8714 - accuracy: 0.7445\n",
      "438/438 [==============================] - 1s 2ms/step - loss: 0.2759 - accuracy: 0.9371\n",
      "1313/1313 [==============================] - 3s 2ms/step - loss: 0.1964 - accuracy: 0.9433\n",
      "[CV]  clf__optimizer=<class 'tensorflow.python.keras.optimizer_v2.adam.Adam'>, clf__learning_rate=0.0001, clf__activation=relu, total=   8.7s\n",
      "[CV] clf__optimizer=<class 'tensorflow.python.keras.optimizer_v2.adam.Adam'>, clf__learning_rate=0.0001, clf__activation=relu \n",
      "1313/1313 [==============================] - 6s 4ms/step - loss: 0.8673 - accuracy: 0.7540\n",
      "438/438 [==============================] - 1s 2ms/step - loss: 0.2287 - accuracy: 0.9364\n",
      "1313/1313 [==============================] - 3s 2ms/step - loss: 0.1898 - accuracy: 0.9460\n",
      "[CV]  clf__optimizer=<class 'tensorflow.python.keras.optimizer_v2.adam.Adam'>, clf__learning_rate=0.0001, clf__activation=relu, total=   9.0s\n",
      "[CV] clf__optimizer=<class 'tensorflow.python.keras.optimizer_v2.adam.Adam'>, clf__learning_rate=0.001, clf__activation=tanh \n",
      "1313/1313 [==============================] - 8s 5ms/step - loss: 0.3685 - accuracy: 0.8883\n",
      "438/438 [==============================] - 1s 2ms/step - loss: 0.1707 - accuracy: 0.9504\n",
      "1313/1313 [==============================] - 4s 3ms/step - loss: 0.1112 - accuracy: 0.9689\n",
      "[CV]  clf__optimizer=<class 'tensorflow.python.keras.optimizer_v2.adam.Adam'>, clf__learning_rate=0.001, clf__activation=tanh, total=  10.6s\n",
      "[CV] clf__optimizer=<class 'tensorflow.python.keras.optimizer_v2.adam.Adam'>, clf__learning_rate=0.001, clf__activation=tanh \n",
      "1313/1313 [==============================] - 6s 4ms/step - loss: 0.3735 - accuracy: 0.8898\n",
      "438/438 [==============================] - 1s 2ms/step - loss: 0.1667 - accuracy: 0.9501\n",
      "1313/1313 [==============================] - 3s 2ms/step - loss: 0.1148 - accuracy: 0.9671\n",
      "[CV]  clf__optimizer=<class 'tensorflow.python.keras.optimizer_v2.adam.Adam'>, clf__learning_rate=0.001, clf__activation=tanh, total=   9.8s\n",
      "[CV] clf__optimizer=<class 'tensorflow.python.keras.optimizer_v2.adam.Adam'>, clf__learning_rate=0.001, clf__activation=tanh \n",
      "1313/1313 [==============================] - 5s 4ms/step - loss: 0.3762 - accuracy: 0.8845\n",
      "438/438 [==============================] - 1s 2ms/step - loss: 0.1661 - accuracy: 0.9526\n",
      "1313/1313 [==============================] - 3s 2ms/step - loss: 0.1085 - accuracy: 0.9694\n",
      "[CV]  clf__optimizer=<class 'tensorflow.python.keras.optimizer_v2.adam.Adam'>, clf__learning_rate=0.001, clf__activation=tanh, total=   8.0s\n",
      "[CV] clf__optimizer=<class 'tensorflow.python.keras.optimizer_v2.adam.Adam'>, clf__learning_rate=0.001, clf__activation=tanh \n",
      "1313/1313 [==============================] - 8s 4ms/step - loss: 0.3808 - accuracy: 0.8841\n",
      "438/438 [==============================] - 1s 3ms/step - loss: 0.1662 - accuracy: 0.9534\n",
      "1313/1313 [==============================] - 3s 3ms/step - loss: 0.1150 - accuracy: 0.9681\n",
      "[CV]  clf__optimizer=<class 'tensorflow.python.keras.optimizer_v2.adam.Adam'>, clf__learning_rate=0.001, clf__activation=tanh, total=  11.6s\n"
     ]
    },
    {
     "name": "stderr",
     "output_type": "stream",
     "text": [
      "[Parallel(n_jobs=1)]: Done  60 out of  60 | elapsed: 14.9min finished\n"
     ]
    },
    {
     "name": "stdout",
     "output_type": "stream",
     "text": [
      "1750/1750 [==============================] - 9s 4ms/step - loss: 0.3415 - accuracy: 0.8983\n",
      "Wall time: 15min 8s\n"
     ]
    },
    {
     "data": {
      "text/plain": [
       "RandomizedSearchCV(cv=4, error_score='raise-deprecating',\n",
       "          estimator=Pipeline(memory=None,\n",
       "     steps=[('preprocessing', StandardScaler(copy=True, with_mean=True, with_std=True)), ('clf', <tensorflow.python.keras.wrappers.scikit_learn.KerasClassifier object at 0x000001F4A05DA3C8>)]),\n",
       "          fit_params=None, iid='warn', n_iter=15, n_jobs=None,\n",
       "          param_distributions={'clf__activation': ['linear', 'sigmoid', 'tanh', 'relu'], 'clf__learning_rate': [0.0001, 0.001, 0.01, 0.1], 'clf__optimizer': [<class 'tensorflow.python.keras.optimizer_v2.adam.Adam'>]},\n",
       "          pre_dispatch='2*n_jobs', random_state=None, refit=True,\n",
       "          return_train_score='warn', scoring=None, verbose=2)"
      ]
     },
     "execution_count": 9,
     "metadata": {},
     "output_type": "execute_result"
    }
   ],
   "source": [
    "clf2 = RandomizedSearchCV(estimator=pipe, param_distributions=params, \n",
    "                          n_iter=15, cv=4, verbose =2)\n",
    "%time clf2.fit(X=X_train,y=y_train)"
   ]
  },
  {
   "cell_type": "code",
   "execution_count": null,
   "metadata": {},
   "outputs": [],
   "source": [
    "y_pred = clf2.predict(X_test)\n",
    "accuracy_score(y_true=y_test,y_pred=y_pred)"
   ]
  },
  {
   "cell_type": "markdown",
   "metadata": {
    "pycharm": {
     "name": "#%%\n"
    }
   },
   "source": [
    "### Auswertung"
   ]
  },
  {
   "cell_type": "code",
   "execution_count": null,
   "metadata": {},
   "outputs": [],
   "source": [
    "clf2.best_params_, clf2.best_score_"
   ]
  },
  {
   "cell_type": "code",
   "execution_count": null,
   "metadata": {},
   "outputs": [],
   "source": [
    "clf2.cv_results_"
   ]
  }
 ],
 "metadata": {
  "kernelspec": {
   "display_name": "Python 3",
   "language": "python",
   "name": "python3"
  },
  "language_info": {
   "codemirror_mode": {
    "name": "ipython",
    "version": 3
   },
   "file_extension": ".py",
   "mimetype": "text/x-python",
   "name": "python",
   "nbconvert_exporter": "python",
   "pygments_lexer": "ipython3",
   "version": "3.7.9"
  }
 },
 "nbformat": 4,
 "nbformat_minor": 1
}
