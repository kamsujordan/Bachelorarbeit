{
 "cells": [
  {
   "cell_type": "markdown",
   "metadata": {
    "collapsed": true,
    "pycharm": {
     "name": "#%% md\n"
    }
   },
   "source": [
    "# Hyperparameter Optimization\n",
    "## Pipelines"
   ]
  },
  {
   "cell_type": "code",
   "execution_count": 1,
   "metadata": {
    "pycharm": {
     "name": "#%%\n"
    }
   },
   "outputs": [],
   "source": [
    "#Imports\n",
    "import random\n",
    "import numpy as np\n",
    "import pandas as pd\n",
    "import matplotlib.pyplot as plt\n",
    "\n",
    "\n",
    "from evolutionary_search import EvolutionaryAlgorithmSearchCV\n",
    "from sklearn.datasets import fetch_openml\n",
    "from sklearn.impute import SimpleImputer\n",
    "from sklearn.linear_model import SGDClassifier, LogisticRegression, Perceptron\n",
    "from sklearn.neural_network import MLPClassifier\n",
    "from sklearn.metrics import accuracy_score\n",
    "from sklearn.model_selection import train_test_split, GridSearchCV, RandomizedSearchCV #, cross_val_score\n",
    "from sklearn.pipeline import Pipeline\n",
    "from sklearn.preprocessing import StandardScaler, OneHotEncoder, LabelBinarizer, LabelEncoder, MaxAbsScaler, MinMaxScaler\n",
    "from sklearn.svm import SVR, SVC\n",
    "from sklearn.ensemble import RandomForestClassifier\n",
    "from sklearn.ensemble import VotingClassifier\n",
    "\n",
    "from tensorflow.python.keras.wrappers.scikit_learn import KerasClassifier\n",
    "from tensorflow.keras.losses import MSE, binary_crossentropy, categorical_crossentropy, sparse_categorical_crossentropy, kl_divergence\n",
    "from tensorflow.keras import Sequential\n",
    "from tensorflow.keras.layers import Dense, Conv2D, Flatten, Dropout, MaxPooling2D\n",
    "from tensorflow.keras.optimizers import Adam, SGD, RMSprop, Adadelta, Adagrad, Adamax, Nadam, Ftrl\n",
    "from tensorflow.keras.optimizers.schedules import ExponentialDecay\n",
    "from tensorflow.python.keras import Input\n",
    "from tensorflow.python.keras.models import Model\n",
    "from tensorflow.python.keras.wrappers.scikit_learn import KerasClassifier"
   ]
  },
  {
   "cell_type": "code",
   "execution_count": 2,
   "metadata": {},
   "outputs": [],
   "source": [
    "X,y = fetch_openml(data_id=554,return_X_y=True)"
   ]
  },
  {
   "cell_type": "code",
   "execution_count": 3,
   "metadata": {},
   "outputs": [
    {
     "name": "stderr",
     "output_type": "stream",
     "text": [
      "c:\\users\\caleb\\appdata\\local\\programs\\python\\python37\\lib\\site-packages\\sklearn\\model_selection\\_split.py:2178: FutureWarning: From version 0.21, test_size will always complement train_size unless both are specified.\n",
      "  FutureWarning)\n"
     ]
    }
   ],
   "source": [
    "X_train, X_test, y_train, y_test = train_test_split(X,y, train_size=.8)"
   ]
  },
  {
   "cell_type": "code",
   "execution_count": 4,
   "metadata": {},
   "outputs": [],
   "source": [
    "def build_nn(activation = 'relu', learning_rate = 3e-2, optimizer = SGD):\n",
    "    model = Sequential()\n",
    "    model.add(Dense(300,activation=activation))\n",
    "    model.add(Dense(100,activation=activation))\n",
    "    model.add(Dense(10, activation='softmax'))\n",
    "    model.compile(loss=categorical_crossentropy, \n",
    "                  optimizer= optimizer(learning_rate = learning_rate), \n",
    "                  metrics=[\"accuracy\"])\n",
    "    return model"
   ]
  },
  {
   "cell_type": "markdown",
   "metadata": {
    "pycharm": {
     "name": "#%% md\n"
    }
   },
   "source": [
    "### Simple Pipeline"
   ]
  },
  {
   "cell_type": "code",
   "execution_count": 5,
   "metadata": {
    "pycharm": {
     "name": "#%%\n"
    }
   },
   "outputs": [],
   "source": [
    "from sklearn.impute import SimpleImputer\n",
    "from sklearn.pipeline import Pipeline\n",
    "from sklearn.preprocessing import StandardScaler\n",
    "\n",
    "steps = [\n",
    "            ('preprocessing', StandardScaler()),\n",
    "            ('clf',  KerasClassifier(build_nn))\n",
    "        ]\n",
    "pipe = Pipeline(steps=steps)"
   ]
  },
  {
   "cell_type": "code",
   "execution_count": 6,
   "metadata": {
    "pycharm": {
     "name": "#%%\n"
    }
   },
   "outputs": [
    {
     "name": "stdout",
     "output_type": "stream",
     "text": [
      "1750/1750 [==============================] - 5s 3ms/step - loss: 0.4751 - accuracy: 0.8688\n"
     ]
    },
    {
     "data": {
      "text/plain": [
       "Pipeline(memory=None,\n",
       "     steps=[('preprocessing', StandardScaler(copy=True, with_mean=True, with_std=True)), ('clf', <tensorflow.python.keras.wrappers.scikit_learn.KerasClassifier object at 0x000001F4A05DA3C8>)])"
      ]
     },
     "execution_count": 6,
     "metadata": {},
     "output_type": "execute_result"
    }
   ],
   "source": [
    "pipe.fit(X_train, y_train)"
   ]
  },
  {
   "cell_type": "markdown",
   "metadata": {
    "pycharm": {
     "name": "#%% md\n"
    }
   },
   "source": [
    "#### Simple Pipeline Score:"
   ]
  },
  {
   "cell_type": "code",
   "execution_count": 7,
   "metadata": {},
   "outputs": [
    {
     "name": "stderr",
     "output_type": "stream",
     "text": [
      "c:\\users\\caleb\\appdata\\local\\programs\\python\\python37\\lib\\site-packages\\tensorflow\\python\\keras\\engine\\sequential.py:450: UserWarning: `model.predict_classes()` is deprecated and will be removed after 2021-01-01. Please use instead:* `np.argmax(model.predict(x), axis=-1)`,   if your model does multi-class classification   (e.g. if it uses a `softmax` last-layer activation).* `(model.predict(x) > 0.5).astype(\"int32\")`,   if your model does binary classification   (e.g. if it uses a `sigmoid` last-layer activation).\n",
      "  warnings.warn('`model.predict_classes()` is deprecated and '\n"
     ]
    },
    {
     "data": {
      "text/plain": [
       "0.9512857142857143"
      ]
     },
     "execution_count": 7,
     "metadata": {},
     "output_type": "execute_result"
    }
   ],
   "source": [
    "y_pred = pipe.predict(X_test)\n",
    "accuracy_score(y_true=y_test,y_pred=y_pred)"
   ]
  },
  {
   "cell_type": "markdown",
   "metadata": {
    "pycharm": {
     "name": "#%% md\n"
    }
   },
   "source": [
    "### Pipeline Optimization"
   ]
  },
  {
   "cell_type": "code",
   "execution_count": 7,
   "metadata": {},
   "outputs": [
    {
     "data": {
      "text/plain": [
       "\"\\nparams = {\\n            'cleaning__strategy' : ['mean','median','most_frequent','constant'],\\n            'clf__activation': ['identity', 'logistic', 'tanh', 'relu'],\\n            'clf__early_stopping': [False,True],\\n            'clf__hidden_layer_sizes': [1, 2, 3, 4],\\n            'clf__learning_rate_init': [3e-3, 3e-2, 1e-2, 0.3, 0.1],\\n            'clf__max_iter': [1000, 500]\\n         }\\n\\n\\n\""
      ]
     },
     "execution_count": 7,
     "metadata": {},
     "output_type": "execute_result"
    }
   ],
   "source": [
    "params = {\n",
    "          'clf__activation': ['linear', 'sigmoid', 'tanh', 'relu'],\n",
    "          'clf__learning_rate': [1e-4, 1e-3, 1e-2, 0.1],\n",
    "          'clf__optimizer': [Adam, SGD] \n",
    "         }"
   ]
  },
  {
   "cell_type": "markdown",
   "metadata": {
    "pycharm": {
     "name": "#%% md\n"
    }
   },
   "source": [
    "## Grid Search"
   ]
  },
  {
   "cell_type": "code",
   "execution_count": 8,
   "metadata": {
    "pycharm": {
     "name": "#%%\n"
    }
   },
   "outputs": [
    {
     "name": "stdout",
     "output_type": "stream",
     "text": [
      "Fitting 4 folds for each of 16 candidates, totalling 64 fits\n",
      "[CV] clf__activation=linear, clf__learning_rate=0.0001, clf__optimizer=<class 'tensorflow.python.keras.optimizer_v2.adam.Adam'> \n"
     ]
    },
    {
     "name": "stderr",
     "output_type": "stream",
     "text": [
      "[Parallel(n_jobs=1)]: Using backend SequentialBackend with 1 concurrent workers.\n"
     ]
    },
    {
     "name": "stdout",
     "output_type": "stream",
     "text": [
      "1313/1313 [==============================] - 9s 3ms/step - loss: 0.7393 - accuracy: 0.7882\n",
      "438/438 [==============================] - 1s 2ms/step - loss: 0.3907 - accuracy: 0.9006\n",
      "1313/1313 [==============================] - 2s 2ms/step - loss: 0.3097 - accuracy: 0.9151\n",
      "[CV]  clf__activation=linear, clf__learning_rate=0.0001, clf__optimizer=<class 'tensorflow.python.keras.optimizer_v2.adam.Adam'>, total=  13.7s\n",
      "[CV] clf__activation=linear, clf__learning_rate=0.0001, clf__optimizer=<class 'tensorflow.python.keras.optimizer_v2.adam.Adam'> \n"
     ]
    },
    {
     "name": "stderr",
     "output_type": "stream",
     "text": [
      "[Parallel(n_jobs=1)]: Done   1 out of   1 | elapsed:   16.5s remaining:    0.0s\n"
     ]
    },
    {
     "name": "stdout",
     "output_type": "stream",
     "text": [
      "1313/1313 [==============================] - 18s 3ms/step - loss: 0.7502 - accuracy: 0.7861\n",
      "438/438 [==============================] - 1s 2ms/step - loss: 0.3489 - accuracy: 0.9109\n",
      "1313/1313 [==============================] - 2s 2ms/step - loss: 0.3095 - accuracy: 0.9138\n",
      "[CV]  clf__activation=linear, clf__learning_rate=0.0001, clf__optimizer=<class 'tensorflow.python.keras.optimizer_v2.adam.Adam'>, total=  25.0s\n",
      "[CV] clf__activation=linear, clf__learning_rate=0.0001, clf__optimizer=<class 'tensorflow.python.keras.optimizer_v2.adam.Adam'> \n",
      "1313/1313 [==============================] - 5s 3ms/step - loss: 0.7324 - accuracy: 0.7984\n",
      "438/438 [==============================] - 1s 2ms/step - loss: 0.5169 - accuracy: 0.9099\n",
      "1313/1313 [==============================] - 3s 2ms/step - loss: 0.3091 - accuracy: 0.9140\n",
      "[CV]  clf__activation=linear, clf__learning_rate=0.0001, clf__optimizer=<class 'tensorflow.python.keras.optimizer_v2.adam.Adam'>, total=   8.2s\n",
      "[CV] clf__activation=linear, clf__learning_rate=0.0001, clf__optimizer=<class 'tensorflow.python.keras.optimizer_v2.adam.Adam'> \n",
      "1313/1313 [==============================] - 5s 3ms/step - loss: 0.7916 - accuracy: 0.7813\n",
      "438/438 [==============================] - 1s 2ms/step - loss: 0.3531 - accuracy: 0.9089\n",
      "1313/1313 [==============================] - 3s 2ms/step - loss: 0.3129 - accuracy: 0.9139\n",
      "[CV]  clf__activation=linear, clf__learning_rate=0.0001, clf__optimizer=<class 'tensorflow.python.keras.optimizer_v2.adam.Adam'>, total=   7.5s\n",
      "[CV] clf__activation=linear, clf__learning_rate=0.001, clf__optimizer=<class 'tensorflow.python.keras.optimizer_v2.adam.Adam'> \n",
      "1313/1313 [==============================] - 12s 3ms/step - loss: 0.6735 - accuracy: 0.8463\n",
      "438/438 [==============================] - 1s 2ms/step - loss: 0.4950 - accuracy: 0.8924\n",
      "1313/1313 [==============================] - 3s 2ms/step - loss: 0.3635 - accuracy: 0.9036\n",
      "[CV]  clf__activation=linear, clf__learning_rate=0.001, clf__optimizer=<class 'tensorflow.python.keras.optimizer_v2.adam.Adam'>, total=  17.1s\n",
      "[CV] clf__activation=linear, clf__learning_rate=0.001, clf__optimizer=<class 'tensorflow.python.keras.optimizer_v2.adam.Adam'> \n",
      "1313/1313 [==============================] - 5s 3ms/step - loss: 0.6535 - accuracy: 0.8468\n",
      "438/438 [==============================] - 1s 2ms/step - loss: 0.4272 - accuracy: 0.8929\n",
      "1313/1313 [==============================] - 3s 2ms/step - loss: 0.3941 - accuracy: 0.8957\n",
      "[CV]  clf__activation=linear, clf__learning_rate=0.001, clf__optimizer=<class 'tensorflow.python.keras.optimizer_v2.adam.Adam'>, total=   8.9s\n",
      "[CV] clf__activation=linear, clf__learning_rate=0.001, clf__optimizer=<class 'tensorflow.python.keras.optimizer_v2.adam.Adam'> \n",
      "1313/1313 [==============================] - 15s 4ms/step - loss: 0.6727 - accuracy: 0.8471\n",
      "438/438 [==============================] - 1s 2ms/step - loss: 0.4987 - accuracy: 0.8930\n",
      "1313/1313 [==============================] - 3s 2ms/step - loss: 0.3858 - accuracy: 0.8999\n",
      "[CV]  clf__activation=linear, clf__learning_rate=0.001, clf__optimizer=<class 'tensorflow.python.keras.optimizer_v2.adam.Adam'>, total=  23.9s\n",
      "[CV] clf__activation=linear, clf__learning_rate=0.001, clf__optimizer=<class 'tensorflow.python.keras.optimizer_v2.adam.Adam'> \n",
      "1313/1313 [==============================] - 5s 3ms/step - loss: 0.6626 - accuracy: 0.8500\n",
      "438/438 [==============================] - 1s 2ms/step - loss: 0.4535 - accuracy: 0.8941\n",
      "1313/1313 [==============================] - 2s 2ms/step - loss: 0.3840 - accuracy: 0.9040\n",
      "[CV]  clf__activation=linear, clf__learning_rate=0.001, clf__optimizer=<class 'tensorflow.python.keras.optimizer_v2.adam.Adam'>, total=   7.1s\n",
      "[CV] clf__activation=linear, clf__learning_rate=0.01, clf__optimizer=<class 'tensorflow.python.keras.optimizer_v2.adam.Adam'> \n",
      "1313/1313 [==============================] - 5s 4ms/step - loss: 6.2991 - accuracy: 0.7461\n",
      "438/438 [==============================] - 1s 2ms/step - loss: 2.4655 - accuracy: 0.8152\n",
      "1313/1313 [==============================] - 3s 2ms/step - loss: 2.1723 - accuracy: 0.8265\n",
      "[CV]  clf__activation=linear, clf__learning_rate=0.01, clf__optimizer=<class 'tensorflow.python.keras.optimizer_v2.adam.Adam'>, total=   8.1s\n",
      "[CV] clf__activation=linear, clf__learning_rate=0.01, clf__optimizer=<class 'tensorflow.python.keras.optimizer_v2.adam.Adam'> \n",
      "1313/1313 [==============================] - 5s 3ms/step - loss: 4.8284 - accuracy: 0.7428\n",
      "438/438 [==============================] - 1s 2ms/step - loss: 14.9707 - accuracy: 0.7678\n",
      "1313/1313 [==============================] - 3s 2ms/step - loss: 14.0274 - accuracy: 0.7711\n",
      "[CV]  clf__activation=linear, clf__learning_rate=0.01, clf__optimizer=<class 'tensorflow.python.keras.optimizer_v2.adam.Adam'>, total=   9.0s\n",
      "[CV] clf__activation=linear, clf__learning_rate=0.01, clf__optimizer=<class 'tensorflow.python.keras.optimizer_v2.adam.Adam'> \n",
      "1313/1313 [==============================] - 5s 3ms/step - loss: 4.2825 - accuracy: 0.7480\n",
      "438/438 [==============================] - 2s 2ms/step - loss: 9.0404 - accuracy: 0.7724\n",
      "1313/1313 [==============================] - 3s 2ms/step - loss: 8.1929 - accuracy: 0.7775\n",
      "[CV]  clf__activation=linear, clf__learning_rate=0.01, clf__optimizer=<class 'tensorflow.python.keras.optimizer_v2.adam.Adam'>, total=  10.9s\n",
      "[CV] clf__activation=linear, clf__learning_rate=0.01, clf__optimizer=<class 'tensorflow.python.keras.optimizer_v2.adam.Adam'> \n",
      "1313/1313 [==============================] - 6s 4ms/step - loss: 5.7764 - accuracy: 0.7393\n",
      "438/438 [==============================] - 2s 3ms/step - loss: 3.3323 - accuracy: 0.8526\n",
      "1313/1313 [==============================] - 4s 3ms/step - loss: 2.8269 - accuracy: 0.8602\n",
      "[CV]  clf__activation=linear, clf__learning_rate=0.01, clf__optimizer=<class 'tensorflow.python.keras.optimizer_v2.adam.Adam'>, total=  10.1s\n",
      "[CV] clf__activation=linear, clf__learning_rate=0.1, clf__optimizer=<class 'tensorflow.python.keras.optimizer_v2.adam.Adam'> \n",
      "1313/1313 [==============================] - 6s 4ms/step - loss: 5553.7576 - accuracy: 0.6898\n",
      "438/438 [==============================] - 2s 2ms/step - loss: 6416.6719 - accuracy: 0.7856\n",
      "1313/1313 [==============================] - 3s 3ms/step - loss: 5688.0049 - accuracy: 0.7900\n",
      "[CV]  clf__activation=linear, clf__learning_rate=0.1, clf__optimizer=<class 'tensorflow.python.keras.optimizer_v2.adam.Adam'>, total=  10.4s\n",
      "[CV] clf__activation=linear, clf__learning_rate=0.1, clf__optimizer=<class 'tensorflow.python.keras.optimizer_v2.adam.Adam'> \n",
      "1313/1313 [==============================] - 6s 4ms/step - loss: 5181.3968 - accuracy: 0.6873\n",
      "438/438 [==============================] - 1s 2ms/step - loss: 16394.5312 - accuracy: 0.7406\n",
      "1313/1313 [==============================] - 3s 2ms/step - loss: 15366.0283 - accuracy: 0.7427\n",
      "[CV]  clf__activation=linear, clf__learning_rate=0.1, clf__optimizer=<class 'tensorflow.python.keras.optimizer_v2.adam.Adam'>, total=  19.2s\n",
      "[CV] clf__activation=linear, clf__learning_rate=0.1, clf__optimizer=<class 'tensorflow.python.keras.optimizer_v2.adam.Adam'> \n",
      "1313/1313 [==============================] - 7s 3ms/step - loss: 4739.5678 - accuracy: 0.6943\n",
      "438/438 [==============================] - 2s 2ms/step - loss: 9844.0264 - accuracy: 0.7954\n",
      "1313/1313 [==============================] - 3s 2ms/step - loss: 8063.9595 - accuracy: 0.7974\n",
      "[CV]  clf__activation=linear, clf__learning_rate=0.1, clf__optimizer=<class 'tensorflow.python.keras.optimizer_v2.adam.Adam'>, total=  10.5s\n",
      "[CV] clf__activation=linear, clf__learning_rate=0.1, clf__optimizer=<class 'tensorflow.python.keras.optimizer_v2.adam.Adam'> \n",
      "1313/1313 [==============================] - 6s 4ms/step - loss: 4736.7016 - accuracy: 0.6823\n",
      "438/438 [==============================] - 2s 2ms/step - loss: 14515.3018 - accuracy: 0.7766\n",
      "1313/1313 [==============================] - 3s 2ms/step - loss: 13155.7207 - accuracy: 0.7801\n",
      "[CV]  clf__activation=linear, clf__learning_rate=0.1, clf__optimizer=<class 'tensorflow.python.keras.optimizer_v2.adam.Adam'>, total=  10.4s\n",
      "[CV] clf__activation=sigmoid, clf__learning_rate=0.0001, clf__optimizer=<class 'tensorflow.python.keras.optimizer_v2.adam.Adam'> \n",
      "1313/1313 [==============================] - 5s 3ms/step - loss: 1.4617 - accuracy: 0.6602\n",
      "438/438 [==============================] - 1s 2ms/step - loss: 0.5104 - accuracy: 0.8859\n",
      "1313/1313 [==============================] - 2s 2ms/step - loss: 0.4948 - accuracy: 0.8923\n",
      "[CV]  clf__activation=sigmoid, clf__learning_rate=0.0001, clf__optimizer=<class 'tensorflow.python.keras.optimizer_v2.adam.Adam'>, total=   7.0s\n",
      "[CV] clf__activation=sigmoid, clf__learning_rate=0.0001, clf__optimizer=<class 'tensorflow.python.keras.optimizer_v2.adam.Adam'> \n",
      "1313/1313 [==============================] - 5s 3ms/step - loss: 1.4803 - accuracy: 0.6596\n",
      "438/438 [==============================] - 1s 2ms/step - loss: 0.5072 - accuracy: 0.8896\n",
      "1313/1313 [==============================] - 2s 2ms/step - loss: 0.5045 - accuracy: 0.8916\n",
      "[CV]  clf__activation=sigmoid, clf__learning_rate=0.0001, clf__optimizer=<class 'tensorflow.python.keras.optimizer_v2.adam.Adam'>, total=   7.5s\n",
      "[CV] clf__activation=sigmoid, clf__learning_rate=0.0001, clf__optimizer=<class 'tensorflow.python.keras.optimizer_v2.adam.Adam'> \n",
      "1313/1313 [==============================] - 5s 3ms/step - loss: 1.4809 - accuracy: 0.6483\n",
      "438/438 [==============================] - 1s 2ms/step - loss: 0.5166 - accuracy: 0.8909\n",
      "1313/1313 [==============================] - 2s 2ms/step - loss: 0.5119 - accuracy: 0.8914\n",
      "[CV]  clf__activation=sigmoid, clf__learning_rate=0.0001, clf__optimizer=<class 'tensorflow.python.keras.optimizer_v2.adam.Adam'>, total=   7.4s\n",
      "[CV] clf__activation=sigmoid, clf__learning_rate=0.0001, clf__optimizer=<class 'tensorflow.python.keras.optimizer_v2.adam.Adam'> \n",
      "1313/1313 [==============================] - 5s 3ms/step - loss: 1.5024 - accuracy: 0.6251\n",
      "438/438 [==============================] - 1s 2ms/step - loss: 0.5081 - accuracy: 0.8907\n",
      "1313/1313 [==============================] - 3s 2ms/step - loss: 0.5053 - accuracy: 0.8934\n",
      "[CV]  clf__activation=sigmoid, clf__learning_rate=0.0001, clf__optimizer=<class 'tensorflow.python.keras.optimizer_v2.adam.Adam'>, total=   7.8s\n",
      "[CV] clf__activation=sigmoid, clf__learning_rate=0.001, clf__optimizer=<class 'tensorflow.python.keras.optimizer_v2.adam.Adam'> \n",
      "1313/1313 [==============================] - 5s 3ms/step - loss: 0.6079 - accuracy: 0.8445\n",
      "438/438 [==============================] - 1s 2ms/step - loss: 0.2084 - accuracy: 0.9399\n",
      "1313/1313 [==============================] - 2s 2ms/step - loss: 0.1678 - accuracy: 0.9528\n",
      "[CV]  clf__activation=sigmoid, clf__learning_rate=0.001, clf__optimizer=<class 'tensorflow.python.keras.optimizer_v2.adam.Adam'>, total=   7.8s\n",
      "[CV] clf__activation=sigmoid, clf__learning_rate=0.001, clf__optimizer=<class 'tensorflow.python.keras.optimizer_v2.adam.Adam'> \n",
      "1313/1313 [==============================] - 6s 4ms/step - loss: 0.6183 - accuracy: 0.8386\n",
      "438/438 [==============================] - 2s 2ms/step - loss: 0.2021 - accuracy: 0.9389\n",
      "1313/1313 [==============================] - 3s 2ms/step - loss: 0.1699 - accuracy: 0.9515\n",
      "[CV]  clf__activation=sigmoid, clf__learning_rate=0.001, clf__optimizer=<class 'tensorflow.python.keras.optimizer_v2.adam.Adam'>, total=  10.5s\n",
      "[CV] clf__activation=sigmoid, clf__learning_rate=0.001, clf__optimizer=<class 'tensorflow.python.keras.optimizer_v2.adam.Adam'> \n",
      "1313/1313 [==============================] - 5s 4ms/step - loss: 0.6273 - accuracy: 0.8437\n",
      "438/438 [==============================] - 1s 2ms/step - loss: 0.2125 - accuracy: 0.9385\n",
      "1313/1313 [==============================] - 3s 2ms/step - loss: 0.1779 - accuracy: 0.9493\n",
      "[CV]  clf__activation=sigmoid, clf__learning_rate=0.001, clf__optimizer=<class 'tensorflow.python.keras.optimizer_v2.adam.Adam'>, total=   7.8s\n",
      "[CV] clf__activation=sigmoid, clf__learning_rate=0.001, clf__optimizer=<class 'tensorflow.python.keras.optimizer_v2.adam.Adam'> \n",
      "1313/1313 [==============================] - 5s 3ms/step - loss: 0.6275 - accuracy: 0.8372\n",
      "438/438 [==============================] - 1s 2ms/step - loss: 0.2174 - accuracy: 0.9352\n",
      "1313/1313 [==============================] - 3s 2ms/step - loss: 0.1864 - accuracy: 0.9465\n",
      "[CV]  clf__activation=sigmoid, clf__learning_rate=0.001, clf__optimizer=<class 'tensorflow.python.keras.optimizer_v2.adam.Adam'>, total=   7.9s\n",
      "[CV] clf__activation=sigmoid, clf__learning_rate=0.01, clf__optimizer=<class 'tensorflow.python.keras.optimizer_v2.adam.Adam'> \n",
      "1313/1313 [==============================] - 6s 3ms/step - loss: 0.4273 - accuracy: 0.8705\n",
      "438/438 [==============================] - 1s 2ms/step - loss: 0.2468 - accuracy: 0.9245\n",
      "1313/1313 [==============================] - 3s 2ms/step - loss: 0.2148 - accuracy: 0.9339\n",
      "[CV]  clf__activation=sigmoid, clf__learning_rate=0.01, clf__optimizer=<class 'tensorflow.python.keras.optimizer_v2.adam.Adam'>, total=   9.6s\n",
      "[CV] clf__activation=sigmoid, clf__learning_rate=0.01, clf__optimizer=<class 'tensorflow.python.keras.optimizer_v2.adam.Adam'> \n",
      "1313/1313 [==============================] - 10s 5ms/step - loss: 0.4257 - accuracy: 0.8733\n",
      "438/438 [==============================] - 1s 3ms/step - loss: 0.2101 - accuracy: 0.9344\n",
      "1313/1313 [==============================] - 3s 2ms/step - loss: 0.1752 - accuracy: 0.9469\n",
      "[CV]  clf__activation=sigmoid, clf__learning_rate=0.01, clf__optimizer=<class 'tensorflow.python.keras.optimizer_v2.adam.Adam'>, total=  13.7s\n",
      "[CV] clf__activation=sigmoid, clf__learning_rate=0.01, clf__optimizer=<class 'tensorflow.python.keras.optimizer_v2.adam.Adam'> \n",
      "1313/1313 [==============================] - 5s 4ms/step - loss: 0.4390 - accuracy: 0.8673\n",
      "438/438 [==============================] - 1s 2ms/step - loss: 0.2441 - accuracy: 0.9264\n",
      "1313/1313 [==============================] - 3s 2ms/step - loss: 0.2035 - accuracy: 0.9390\n",
      "[CV]  clf__activation=sigmoid, clf__learning_rate=0.01, clf__optimizer=<class 'tensorflow.python.keras.optimizer_v2.adam.Adam'>, total=   8.0s\n",
      "[CV] clf__activation=sigmoid, clf__learning_rate=0.01, clf__optimizer=<class 'tensorflow.python.keras.optimizer_v2.adam.Adam'> \n",
      "1313/1313 [==============================] - 6s 4ms/step - loss: 0.4266 - accuracy: 0.8683\n",
      "438/438 [==============================] - 1s 2ms/step - loss: 0.2008 - accuracy: 0.9414\n",
      "1313/1313 [==============================] - 3s 2ms/step - loss: 0.1669 - accuracy: 0.9494\n",
      "[CV]  clf__activation=sigmoid, clf__learning_rate=0.01, clf__optimizer=<class 'tensorflow.python.keras.optimizer_v2.adam.Adam'>, total=   8.1s\n",
      "[CV] clf__activation=sigmoid, clf__learning_rate=0.1, clf__optimizer=<class 'tensorflow.python.keras.optimizer_v2.adam.Adam'> \n",
      "1313/1313 [==============================] - 6s 4ms/step - loss: 2.0737 - accuracy: 0.2864\n",
      "438/438 [==============================] - 1s 2ms/step - loss: 1.9363 - accuracy: 0.2722\n",
      "1313/1313 [==============================] - 3s 2ms/step - loss: 1.9281 - accuracy: 0.2715\n",
      "[CV]  clf__activation=sigmoid, clf__learning_rate=0.1, clf__optimizer=<class 'tensorflow.python.keras.optimizer_v2.adam.Adam'>, total=   8.4s\n",
      "[CV] clf__activation=sigmoid, clf__learning_rate=0.1, clf__optimizer=<class 'tensorflow.python.keras.optimizer_v2.adam.Adam'> \n",
      "1313/1313 [==============================] - 6s 4ms/step - loss: 2.5711 - accuracy: 0.1688\n",
      "438/438 [==============================] - 1s 2ms/step - loss: 2.0626 - accuracy: 0.1865\n",
      "1313/1313 [==============================] - 2s 2ms/step - loss: 2.0709 - accuracy: 0.1898\n",
      "[CV]  clf__activation=sigmoid, clf__learning_rate=0.1, clf__optimizer=<class 'tensorflow.python.keras.optimizer_v2.adam.Adam'>, total=   8.9s\n",
      "[CV] clf__activation=sigmoid, clf__learning_rate=0.1, clf__optimizer=<class 'tensorflow.python.keras.optimizer_v2.adam.Adam'> \n",
      "1313/1313 [==============================] - 6s 4ms/step - loss: 2.6835 - accuracy: 0.1001\n",
      "438/438 [==============================] - 1s 2ms/step - loss: 2.5395 - accuracy: 0.1029\n",
      "1313/1313 [==============================] - 3s 2ms/step - loss: 2.5330 - accuracy: 0.1041\n",
      "[CV]  clf__activation=sigmoid, clf__learning_rate=0.1, clf__optimizer=<class 'tensorflow.python.keras.optimizer_v2.adam.Adam'>, total=   9.2s\n",
      "[CV] clf__activation=sigmoid, clf__learning_rate=0.1, clf__optimizer=<class 'tensorflow.python.keras.optimizer_v2.adam.Adam'> \n"
     ]
    },
    {
     "name": "stdout",
     "output_type": "stream",
     "text": [
      "1313/1313 [==============================] - 5s 4ms/step - loss: 2.4540 - accuracy: 0.1767\n",
      "438/438 [==============================] - 1s 2ms/step - loss: 2.2246 - accuracy: 0.1871\n",
      "1313/1313 [==============================] - 3s 2ms/step - loss: 2.2165 - accuracy: 0.1903\n",
      "[CV]  clf__activation=sigmoid, clf__learning_rate=0.1, clf__optimizer=<class 'tensorflow.python.keras.optimizer_v2.adam.Adam'>, total=   7.9s\n",
      "[CV] clf__activation=tanh, clf__learning_rate=0.0001, clf__optimizer=<class 'tensorflow.python.keras.optimizer_v2.adam.Adam'> \n",
      "1313/1313 [==============================] - 5s 4ms/step - loss: 0.7434 - accuracy: 0.7863\n",
      "438/438 [==============================] - 1s 2ms/step - loss: 0.2881 - accuracy: 0.9161\n",
      "1313/1313 [==============================] - 2s 2ms/step - loss: 0.2522 - accuracy: 0.9301\n",
      "[CV]  clf__activation=tanh, clf__learning_rate=0.0001, clf__optimizer=<class 'tensorflow.python.keras.optimizer_v2.adam.Adam'>, total=   9.2s\n",
      "[CV] clf__activation=tanh, clf__learning_rate=0.0001, clf__optimizer=<class 'tensorflow.python.keras.optimizer_v2.adam.Adam'> \n",
      "1313/1313 [==============================] - 5s 4ms/step - loss: 0.7576 - accuracy: 0.7768\n",
      "438/438 [==============================] - 3s 2ms/step - loss: 0.2787 - accuracy: 0.9221\n",
      "1313/1313 [==============================] - 3s 2ms/step - loss: 0.2558 - accuracy: 0.9290\n",
      "[CV]  clf__activation=tanh, clf__learning_rate=0.0001, clf__optimizer=<class 'tensorflow.python.keras.optimizer_v2.adam.Adam'>, total=  10.0s\n",
      "[CV] clf__activation=tanh, clf__learning_rate=0.0001, clf__optimizer=<class 'tensorflow.python.keras.optimizer_v2.adam.Adam'> \n",
      "1313/1313 [==============================] - 5s 4ms/step - loss: 0.7426 - accuracy: 0.7797\n",
      "438/438 [==============================] - 1s 2ms/step - loss: 0.2760 - accuracy: 0.9220\n",
      "1313/1313 [==============================] - 3s 2ms/step - loss: 0.2500 - accuracy: 0.9309\n",
      "[CV]  clf__activation=tanh, clf__learning_rate=0.0001, clf__optimizer=<class 'tensorflow.python.keras.optimizer_v2.adam.Adam'>, total=   7.8s\n",
      "[CV] clf__activation=tanh, clf__learning_rate=0.0001, clf__optimizer=<class 'tensorflow.python.keras.optimizer_v2.adam.Adam'> \n",
      "1313/1313 [==============================] - 5s 4ms/step - loss: 0.7536 - accuracy: 0.7809\n",
      "438/438 [==============================] - 1s 2ms/step - loss: 0.2746 - accuracy: 0.9220\n",
      "1313/1313 [==============================] - 3s 2ms/step - loss: 0.2527 - accuracy: 0.9288\n",
      "[CV]  clf__activation=tanh, clf__learning_rate=0.0001, clf__optimizer=<class 'tensorflow.python.keras.optimizer_v2.adam.Adam'>, total=   7.7s\n",
      "[CV] clf__activation=tanh, clf__learning_rate=0.001, clf__optimizer=<class 'tensorflow.python.keras.optimizer_v2.adam.Adam'> \n",
      "1313/1313 [==============================] - 6s 4ms/step - loss: 0.3674 - accuracy: 0.8875\n",
      "438/438 [==============================] - 1s 2ms/step - loss: 0.1740 - accuracy: 0.9488\n",
      "1313/1313 [==============================] - 3s 2ms/step - loss: 0.1104 - accuracy: 0.9695\n",
      "[CV]  clf__activation=tanh, clf__learning_rate=0.001, clf__optimizer=<class 'tensorflow.python.keras.optimizer_v2.adam.Adam'>, total=   8.1s\n",
      "[CV] clf__activation=tanh, clf__learning_rate=0.001, clf__optimizer=<class 'tensorflow.python.keras.optimizer_v2.adam.Adam'> \n",
      "1313/1313 [==============================] - 6s 4ms/step - loss: 0.3696 - accuracy: 0.8859\n",
      "438/438 [==============================] - 1s 2ms/step - loss: 0.1701 - accuracy: 0.9491\n",
      "1313/1313 [==============================] - 3s 2ms/step - loss: 0.1162 - accuracy: 0.9668\n",
      "[CV]  clf__activation=tanh, clf__learning_rate=0.001, clf__optimizer=<class 'tensorflow.python.keras.optimizer_v2.adam.Adam'>, total=   8.6s\n",
      "[CV] clf__activation=tanh, clf__learning_rate=0.001, clf__optimizer=<class 'tensorflow.python.keras.optimizer_v2.adam.Adam'> \n",
      "1313/1313 [==============================] - 5s 4ms/step - loss: 0.3824 - accuracy: 0.8831\n",
      "438/438 [==============================] - 1s 2ms/step - loss: 0.1649 - accuracy: 0.9531\n",
      "1313/1313 [==============================] - 3s 2ms/step - loss: 0.1087 - accuracy: 0.9704\n",
      "[CV]  clf__activation=tanh, clf__learning_rate=0.001, clf__optimizer=<class 'tensorflow.python.keras.optimizer_v2.adam.Adam'>, total=   8.8s\n",
      "[CV] clf__activation=tanh, clf__learning_rate=0.001, clf__optimizer=<class 'tensorflow.python.keras.optimizer_v2.adam.Adam'> \n",
      "1313/1313 [==============================] - 6s 4ms/step - loss: 0.3853 - accuracy: 0.8813\n",
      "438/438 [==============================] - 1s 2ms/step - loss: 0.1695 - accuracy: 0.9508\n",
      "1313/1313 [==============================] - 3s 2ms/step - loss: 0.1175 - accuracy: 0.9658\n",
      "[CV]  clf__activation=tanh, clf__learning_rate=0.001, clf__optimizer=<class 'tensorflow.python.keras.optimizer_v2.adam.Adam'>, total=   9.0s\n",
      "[CV] clf__activation=tanh, clf__learning_rate=0.01, clf__optimizer=<class 'tensorflow.python.keras.optimizer_v2.adam.Adam'> \n",
      "1313/1313 [==============================] - 7s 5ms/step - loss: 0.4377 - accuracy: 0.8698\n",
      "438/438 [==============================] - 2s 2ms/step - loss: 0.3233 - accuracy: 0.9029\n",
      "1313/1313 [==============================] - 3s 2ms/step - loss: 0.2801 - accuracy: 0.9155\n",
      "[CV]  clf__activation=tanh, clf__learning_rate=0.01, clf__optimizer=<class 'tensorflow.python.keras.optimizer_v2.adam.Adam'>, total=  11.6s\n",
      "[CV] clf__activation=tanh, clf__learning_rate=0.01, clf__optimizer=<class 'tensorflow.python.keras.optimizer_v2.adam.Adam'> \n",
      "1313/1313 [==============================] - 5s 3ms/step - loss: 0.4558 - accuracy: 0.8659\n",
      "438/438 [==============================] - 1s 2ms/step - loss: 0.2946 - accuracy: 0.9154\n",
      "1313/1313 [==============================] - 3s 2ms/step - loss: 0.2653 - accuracy: 0.9213\n",
      "[CV]  clf__activation=tanh, clf__learning_rate=0.01, clf__optimizer=<class 'tensorflow.python.keras.optimizer_v2.adam.Adam'>, total=   7.4s\n",
      "[CV] clf__activation=tanh, clf__learning_rate=0.01, clf__optimizer=<class 'tensorflow.python.keras.optimizer_v2.adam.Adam'> \n",
      "1313/1313 [==============================] - 6s 4ms/step - loss: 0.4382 - accuracy: 0.8671\n",
      "438/438 [==============================] - 1s 2ms/step - loss: 0.3194 - accuracy: 0.9041\n",
      "1313/1313 [==============================] - 3s 2ms/step - loss: 0.2786 - accuracy: 0.9146\n",
      "[CV]  clf__activation=tanh, clf__learning_rate=0.01, clf__optimizer=<class 'tensorflow.python.keras.optimizer_v2.adam.Adam'>, total=   9.5s\n",
      "[CV] clf__activation=tanh, clf__learning_rate=0.01, clf__optimizer=<class 'tensorflow.python.keras.optimizer_v2.adam.Adam'> \n",
      "1313/1313 [==============================] - 9s 5ms/step - loss: 0.4492 - accuracy: 0.8662\n",
      "438/438 [==============================] - 1s 3ms/step - loss: 0.3125 - accuracy: 0.9072\n",
      "1313/1313 [==============================] - 4s 3ms/step - loss: 0.2806 - accuracy: 0.9160\n",
      "[CV]  clf__activation=tanh, clf__learning_rate=0.01, clf__optimizer=<class 'tensorflow.python.keras.optimizer_v2.adam.Adam'>, total=  12.9s\n",
      "[CV] clf__activation=tanh, clf__learning_rate=0.1, clf__optimizer=<class 'tensorflow.python.keras.optimizer_v2.adam.Adam'> \n",
      "1313/1313 [==============================] - 7s 5ms/step - loss: 1.8235 - accuracy: 0.6476\n",
      "438/438 [==============================] - 1s 3ms/step - loss: 1.6316 - accuracy: 0.7160\n",
      "1313/1313 [==============================] - 3s 2ms/step - loss: 1.5572 - accuracy: 0.7213\n",
      "[CV]  clf__activation=tanh, clf__learning_rate=0.1, clf__optimizer=<class 'tensorflow.python.keras.optimizer_v2.adam.Adam'>, total=  10.1s\n",
      "[CV] clf__activation=tanh, clf__learning_rate=0.1, clf__optimizer=<class 'tensorflow.python.keras.optimizer_v2.adam.Adam'> \n",
      "1313/1313 [==============================] - 6s 4ms/step - loss: 1.8583 - accuracy: 0.6584\n",
      "438/438 [==============================] - 1s 2ms/step - loss: 2.0639 - accuracy: 0.6841\n",
      "1313/1313 [==============================] - 3s 2ms/step - loss: 2.0790 - accuracy: 0.6804\n",
      "[CV]  clf__activation=tanh, clf__learning_rate=0.1, clf__optimizer=<class 'tensorflow.python.keras.optimizer_v2.adam.Adam'>, total=   8.1s\n",
      "[CV] clf__activation=tanh, clf__learning_rate=0.1, clf__optimizer=<class 'tensorflow.python.keras.optimizer_v2.adam.Adam'> \n",
      "1313/1313 [==============================] - 6s 4ms/step - loss: 1.8826 - accuracy: 0.6552\n",
      "438/438 [==============================] - 1s 2ms/step - loss: 1.6018 - accuracy: 0.7295\n",
      "1313/1313 [==============================] - 3s 2ms/step - loss: 1.5451 - accuracy: 0.7310\n",
      "[CV]  clf__activation=tanh, clf__learning_rate=0.1, clf__optimizer=<class 'tensorflow.python.keras.optimizer_v2.adam.Adam'>, total=   8.3s\n",
      "[CV] clf__activation=tanh, clf__learning_rate=0.1, clf__optimizer=<class 'tensorflow.python.keras.optimizer_v2.adam.Adam'> \n",
      "1313/1313 [==============================] - 5s 4ms/step - loss: 1.8490 - accuracy: 0.6496\n",
      "438/438 [==============================] - 1s 2ms/step - loss: 1.7202 - accuracy: 0.7211\n",
      "1313/1313 [==============================] - 2s 2ms/step - loss: 1.7219 - accuracy: 0.7239\n",
      "[CV]  clf__activation=tanh, clf__learning_rate=0.1, clf__optimizer=<class 'tensorflow.python.keras.optimizer_v2.adam.Adam'>, total=   8.0s\n",
      "[CV] clf__activation=relu, clf__learning_rate=0.0001, clf__optimizer=<class 'tensorflow.python.keras.optimizer_v2.adam.Adam'> \n",
      "1313/1313 [==============================] - 5s 3ms/step - loss: 0.8481 - accuracy: 0.7583\n",
      "438/438 [==============================] - 1s 2ms/step - loss: 0.2331 - accuracy: 0.9319\n",
      "1313/1313 [==============================] - 3s 2ms/step - loss: 0.1920 - accuracy: 0.9463\n",
      "[CV]  clf__activation=relu, clf__learning_rate=0.0001, clf__optimizer=<class 'tensorflow.python.keras.optimizer_v2.adam.Adam'>, total=   7.2s\n",
      "[CV] clf__activation=relu, clf__learning_rate=0.0001, clf__optimizer=<class 'tensorflow.python.keras.optimizer_v2.adam.Adam'> \n",
      "1313/1313 [==============================] - 7s 3ms/step - loss: 0.8436 - accuracy: 0.7561\n",
      "438/438 [==============================] - 1s 2ms/step - loss: 0.2220 - accuracy: 0.9371\n",
      "1313/1313 [==============================] - 2s 2ms/step - loss: 0.1931 - accuracy: 0.9450\n",
      "[CV]  clf__activation=relu, clf__learning_rate=0.0001, clf__optimizer=<class 'tensorflow.python.keras.optimizer_v2.adam.Adam'>, total=   9.3s\n",
      "[CV] clf__activation=relu, clf__learning_rate=0.0001, clf__optimizer=<class 'tensorflow.python.keras.optimizer_v2.adam.Adam'> \n",
      "1313/1313 [==============================] - 6s 4ms/step - loss: 0.8255 - accuracy: 0.7649\n",
      "438/438 [==============================] - 1s 2ms/step - loss: 0.2598 - accuracy: 0.9376\n",
      "1313/1313 [==============================] - 3s 2ms/step - loss: 0.1901 - accuracy: 0.9457\n",
      "[CV]  clf__activation=relu, clf__learning_rate=0.0001, clf__optimizer=<class 'tensorflow.python.keras.optimizer_v2.adam.Adam'>, total=  19.5s\n",
      "[CV] clf__activation=relu, clf__learning_rate=0.0001, clf__optimizer=<class 'tensorflow.python.keras.optimizer_v2.adam.Adam'> \n",
      "1313/1313 [==============================] - 5s 4ms/step - loss: 0.8473 - accuracy: 0.7619\n",
      "438/438 [==============================] - 1s 2ms/step - loss: 0.2332 - accuracy: 0.9354\n",
      "1313/1313 [==============================] - 3s 2ms/step - loss: 0.1968 - accuracy: 0.9436\n",
      "[CV]  clf__activation=relu, clf__learning_rate=0.0001, clf__optimizer=<class 'tensorflow.python.keras.optimizer_v2.adam.Adam'>, total=  10.0s\n",
      "[CV] clf__activation=relu, clf__learning_rate=0.001, clf__optimizer=<class 'tensorflow.python.keras.optimizer_v2.adam.Adam'> \n",
      "1313/1313 [==============================] - 6s 4ms/step - loss: 0.3700 - accuracy: 0.8889\n",
      "438/438 [==============================] - 1s 3ms/step - loss: 0.1901 - accuracy: 0.9479\n",
      "1313/1313 [==============================] - 3s 2ms/step - loss: 0.1181 - accuracy: 0.9634\n",
      "[CV]  clf__activation=relu, clf__learning_rate=0.001, clf__optimizer=<class 'tensorflow.python.keras.optimizer_v2.adam.Adam'>, total=   9.0s\n",
      "[CV] clf__activation=relu, clf__learning_rate=0.001, clf__optimizer=<class 'tensorflow.python.keras.optimizer_v2.adam.Adam'> \n",
      "1313/1313 [==============================] - 6s 4ms/step - loss: 0.3816 - accuracy: 0.8838\n",
      "438/438 [==============================] - 1s 2ms/step - loss: 0.1474 - accuracy: 0.9591\n",
      "1313/1313 [==============================] - 3s 2ms/step - loss: 0.0954 - accuracy: 0.9708\n",
      "[CV]  clf__activation=relu, clf__learning_rate=0.001, clf__optimizer=<class 'tensorflow.python.keras.optimizer_v2.adam.Adam'>, total=   8.2s\n",
      "[CV] clf__activation=relu, clf__learning_rate=0.001, clf__optimizer=<class 'tensorflow.python.keras.optimizer_v2.adam.Adam'> \n",
      "1313/1313 [==============================] - 6s 4ms/step - loss: 0.3856 - accuracy: 0.8847\n",
      "438/438 [==============================] - 1s 2ms/step - loss: 0.1764 - accuracy: 0.9554\n",
      "1313/1313 [==============================] - 3s 2ms/step - loss: 0.0999 - accuracy: 0.9707\n",
      "[CV]  clf__activation=relu, clf__learning_rate=0.001, clf__optimizer=<class 'tensorflow.python.keras.optimizer_v2.adam.Adam'>, total=   8.7s\n",
      "[CV] clf__activation=relu, clf__learning_rate=0.001, clf__optimizer=<class 'tensorflow.python.keras.optimizer_v2.adam.Adam'> \n",
      "1313/1313 [==============================] - 5s 4ms/step - loss: 0.3889 - accuracy: 0.8863\n",
      "438/438 [==============================] - 1s 2ms/step - loss: 0.1797 - accuracy: 0.9543\n",
      "1313/1313 [==============================] - 3s 2ms/step - loss: 0.1140 - accuracy: 0.9664\n",
      "[CV]  clf__activation=relu, clf__learning_rate=0.001, clf__optimizer=<class 'tensorflow.python.keras.optimizer_v2.adam.Adam'>, total=   8.1s\n",
      "[CV] clf__activation=relu, clf__learning_rate=0.01, clf__optimizer=<class 'tensorflow.python.keras.optimizer_v2.adam.Adam'> \n",
      "1313/1313 [==============================] - 6s 4ms/step - loss: 0.6250 - accuracy: 0.8396\n",
      "438/438 [==============================] - 1s 2ms/step - loss: 0.5670 - accuracy: 0.8601\n",
      "1313/1313 [==============================] - 4s 3ms/step - loss: 0.4973 - accuracy: 0.8661\n",
      "[CV]  clf__activation=relu, clf__learning_rate=0.01, clf__optimizer=<class 'tensorflow.python.keras.optimizer_v2.adam.Adam'>, total=   8.6s\n",
      "[CV] clf__activation=relu, clf__learning_rate=0.01, clf__optimizer=<class 'tensorflow.python.keras.optimizer_v2.adam.Adam'> \n",
      "1313/1313 [==============================] - 6s 4ms/step - loss: 0.6614 - accuracy: 0.8344\n",
      "438/438 [==============================] - 1s 2ms/step - loss: 0.5318 - accuracy: 0.8831\n",
      "1313/1313 [==============================] - 3s 2ms/step - loss: 0.4832 - accuracy: 0.8908\n",
      "[CV]  clf__activation=relu, clf__learning_rate=0.01, clf__optimizer=<class 'tensorflow.python.keras.optimizer_v2.adam.Adam'>, total=   9.0s\n",
      "[CV] clf__activation=relu, clf__learning_rate=0.01, clf__optimizer=<class 'tensorflow.python.keras.optimizer_v2.adam.Adam'> \n",
      "1313/1313 [==============================] - 6s 3ms/step - loss: 0.6321 - accuracy: 0.8425\n",
      "438/438 [==============================] - 2s 2ms/step - loss: 0.4057 - accuracy: 0.8941\n",
      "1313/1313 [==============================] - 3s 2ms/step - loss: 0.3705 - accuracy: 0.8968\n",
      "[CV]  clf__activation=relu, clf__learning_rate=0.01, clf__optimizer=<class 'tensorflow.python.keras.optimizer_v2.adam.Adam'>, total=   9.8s\n",
      "[CV] clf__activation=relu, clf__learning_rate=0.01, clf__optimizer=<class 'tensorflow.python.keras.optimizer_v2.adam.Adam'> \n",
      "1313/1313 [==============================] - 6s 4ms/step - loss: 0.6153 - accuracy: 0.8409\n",
      "438/438 [==============================] - 1s 2ms/step - loss: 0.5670 - accuracy: 0.8856\n",
      "1313/1313 [==============================] - 3s 2ms/step - loss: 0.4886 - accuracy: 0.8902\n",
      "[CV]  clf__activation=relu, clf__learning_rate=0.01, clf__optimizer=<class 'tensorflow.python.keras.optimizer_v2.adam.Adam'>, total=   8.4s\n",
      "[CV] clf__activation=relu, clf__learning_rate=0.1, clf__optimizer=<class 'tensorflow.python.keras.optimizer_v2.adam.Adam'> \n",
      "1313/1313 [==============================] - 6s 4ms/step - loss: 6.2789 - accuracy: 0.1097\n",
      "438/438 [==============================] - 1s 2ms/step - loss: 2.3063 - accuracy: 0.1011\n",
      "1313/1313 [==============================] - 3s 2ms/step - loss: 2.3060 - accuracy: 0.1025\n",
      "[CV]  clf__activation=relu, clf__learning_rate=0.1, clf__optimizer=<class 'tensorflow.python.keras.optimizer_v2.adam.Adam'>, total=   8.5s\n",
      "[CV] clf__activation=relu, clf__learning_rate=0.1, clf__optimizer=<class 'tensorflow.python.keras.optimizer_v2.adam.Adam'> \n",
      "1313/1313 [==============================] - 14s 4ms/step - loss: 4.7007 - accuracy: 0.1059\n",
      "438/438 [==============================] - 1s 2ms/step - loss: 2.3164 - accuracy: 0.0946\n"
     ]
    },
    {
     "name": "stdout",
     "output_type": "stream",
     "text": [
      "1313/1313 [==============================] - 2s 2ms/step - loss: 2.3166 - accuracy: 0.0980\n",
      "[CV]  clf__activation=relu, clf__learning_rate=0.1, clf__optimizer=<class 'tensorflow.python.keras.optimizer_v2.adam.Adam'>, total=  17.4s\n",
      "[CV] clf__activation=relu, clf__learning_rate=0.1, clf__optimizer=<class 'tensorflow.python.keras.optimizer_v2.adam.Adam'> \n",
      "1313/1313 [==============================] - 5s 3ms/step - loss: 7.6659 - accuracy: 0.1137\n",
      "438/438 [==============================] - 1s 2ms/step - loss: 2.3172 - accuracy: 0.0976\n",
      "1313/1313 [==============================] - 2s 2ms/step - loss: 2.3138 - accuracy: 0.1021\n",
      "[CV]  clf__activation=relu, clf__learning_rate=0.1, clf__optimizer=<class 'tensorflow.python.keras.optimizer_v2.adam.Adam'>, total=   7.3s\n",
      "[CV] clf__activation=relu, clf__learning_rate=0.1, clf__optimizer=<class 'tensorflow.python.keras.optimizer_v2.adam.Adam'> \n",
      "1313/1313 [==============================] - 5s 3ms/step - loss: 6.8757 - accuracy: 0.1071\n",
      "438/438 [==============================] - 1s 2ms/step - loss: 2.3086 - accuracy: 0.1059\n",
      "1313/1313 [==============================] - 3s 2ms/step - loss: 2.3094 - accuracy: 0.1031\n",
      "[CV]  clf__activation=relu, clf__learning_rate=0.1, clf__optimizer=<class 'tensorflow.python.keras.optimizer_v2.adam.Adam'>, total=   7.4s\n"
     ]
    },
    {
     "name": "stderr",
     "output_type": "stream",
     "text": [
      "[Parallel(n_jobs=1)]: Done  64 out of  64 | elapsed: 14.3min finished\n"
     ]
    },
    {
     "name": "stdout",
     "output_type": "stream",
     "text": [
      "1750/1750 [==============================] - 6s 3ms/step - loss: 0.3417 - accuracy: 0.8977\n",
      "Wall time: 14min 27s\n"
     ]
    },
    {
     "data": {
      "text/plain": [
       "GridSearchCV(cv=4, error_score=0.0,\n",
       "       estimator=Pipeline(memory=None,\n",
       "     steps=[('preprocessing', StandardScaler(copy=True, with_mean=True, with_std=True)), ('clf', <tensorflow.python.keras.wrappers.scikit_learn.KerasClassifier object at 0x000001F4A05DA3C8>)]),\n",
       "       fit_params=None, iid='warn', n_jobs=None,\n",
       "       param_grid={'clf__activation': ['linear', 'sigmoid', 'tanh', 'relu'], 'clf__learning_rate': [0.0001, 0.001, 0.01, 0.1], 'clf__optimizer': [<class 'tensorflow.python.keras.optimizer_v2.adam.Adam'>]},\n",
       "       pre_dispatch='2*n_jobs', refit=True, return_train_score='warn',\n",
       "       scoring=None, verbose=2)"
      ]
     },
     "execution_count": 8,
     "metadata": {},
     "output_type": "execute_result"
    }
   ],
   "source": [
    "clf1 = GridSearchCV(estimator=pipe, param_grid=params, \n",
    "                    cv=4, error_score=.0, verbose=2)\n",
    "%time clf1.fit(X=X_train,y=y_train)"
   ]
  },
  {
   "cell_type": "code",
   "execution_count": null,
   "metadata": {},
   "outputs": [],
   "source": [
    "y_pred = clf1.predict(X_test)\n",
    "accuracy_score(y_true=y_test,y_pred=y_pred)"
   ]
  },
  {
   "cell_type": "markdown",
   "metadata": {
    "pycharm": {
     "name": "#%% md\n"
    }
   },
   "source": [
    "### Best Scores + Params:"
   ]
  },
  {
   "cell_type": "code",
   "execution_count": null,
   "metadata": {},
   "outputs": [],
   "source": [
    "clf1.best_score_, clf1.best_params_"
   ]
  },
  {
   "cell_type": "markdown",
   "metadata": {
    "pycharm": {
     "name": "#%% md\n"
    }
   },
   "source": [
    "## Evolutionary Search"
   ]
  },
  {
   "cell_type": "code",
   "execution_count": 69,
   "metadata": {},
   "outputs": [
    {
     "name": "stderr",
     "output_type": "stream",
     "text": [
      "c:\\users\\caleb\\appdata\\local\\programs\\python\\python37\\lib\\site-packages\\deap\\creator.py:141: RuntimeWarning: A class named 'FitnessMax' has already been created and it will be overwritten. Consider deleting previous creation of that class or rename it.\n",
      "  RuntimeWarning)\n",
      "c:\\users\\caleb\\appdata\\local\\programs\\python\\python37\\lib\\site-packages\\deap\\creator.py:141: RuntimeWarning: A class named 'Individual' has already been created and it will be overwritten. Consider deleting previous creation of that class or rename it.\n",
      "  RuntimeWarning)\n"
     ]
    },
    {
     "name": "stdout",
     "output_type": "stream",
     "text": [
      "Types [1, 2, 1] and maxint [3, 3, 0] detected\n",
      "--- Evolve in 16 possible combinations ---\n",
      "[CV] clf__activation=relu, clf__learning_rate=0.1, clf__optimizer=<class 'tensorflow.python.keras.optimizer_v2.adam.Adam'> \n",
      "1313/1313 [==============================] - 12s 7ms/step - loss: 7.4638 - accuracy: 0.1127\n"
     ]
    },
    {
     "name": "stderr",
     "output_type": "stream",
     "text": [
      "c:\\users\\caleb\\appdata\\local\\programs\\python\\python37\\lib\\site-packages\\tensorflow\\python\\keras\\engine\\sequential.py:450: UserWarning: `model.predict_classes()` is deprecated and will be removed after 2021-01-01. Please use instead:* `np.argmax(model.predict(x), axis=-1)`,   if your model does multi-class classification   (e.g. if it uses a `softmax` last-layer activation).* `(model.predict(x) > 0.5).astype(\"int32\")`,   if your model does binary classification   (e.g. if it uses a `sigmoid` last-layer activation).\n",
      "  warnings.warn('`model.predict_classes()` is deprecated and '\n"
     ]
    },
    {
     "name": "stdout",
     "output_type": "stream",
     "text": [
      "[CV]  clf__activation=relu, clf__learning_rate=0.1, clf__optimizer=<class 'tensorflow.python.keras.optimizer_v2.adam.Adam'>, total=  41.0s\n",
      "[CV] clf__activation=relu, clf__learning_rate=0.1, clf__optimizer=<class 'tensorflow.python.keras.optimizer_v2.adam.Adam'> \n",
      "1313/1313 [==============================] - 20s 14ms/step - loss: 8.3852 - accuracy: 0.1113\n"
     ]
    },
    {
     "name": "stderr",
     "output_type": "stream",
     "text": [
      "c:\\users\\caleb\\appdata\\local\\programs\\python\\python37\\lib\\site-packages\\tensorflow\\python\\keras\\engine\\sequential.py:450: UserWarning: `model.predict_classes()` is deprecated and will be removed after 2021-01-01. Please use instead:* `np.argmax(model.predict(x), axis=-1)`,   if your model does multi-class classification   (e.g. if it uses a `softmax` last-layer activation).* `(model.predict(x) > 0.5).astype(\"int32\")`,   if your model does binary classification   (e.g. if it uses a `sigmoid` last-layer activation).\n",
      "  warnings.warn('`model.predict_classes()` is deprecated and '\n"
     ]
    },
    {
     "name": "stdout",
     "output_type": "stream",
     "text": [
      "[CV]  clf__activation=relu, clf__learning_rate=0.1, clf__optimizer=<class 'tensorflow.python.keras.optimizer_v2.adam.Adam'>, total=  46.2s\n",
      "[CV] clf__activation=relu, clf__learning_rate=0.1, clf__optimizer=<class 'tensorflow.python.keras.optimizer_v2.adam.Adam'> \n",
      "1313/1313 [==============================] - 23s 14ms/step - loss: 6.1154 - accuracy: 0.1060\n"
     ]
    },
    {
     "name": "stderr",
     "output_type": "stream",
     "text": [
      "c:\\users\\caleb\\appdata\\local\\programs\\python\\python37\\lib\\site-packages\\tensorflow\\python\\keras\\engine\\sequential.py:450: UserWarning: `model.predict_classes()` is deprecated and will be removed after 2021-01-01. Please use instead:* `np.argmax(model.predict(x), axis=-1)`,   if your model does multi-class classification   (e.g. if it uses a `softmax` last-layer activation).* `(model.predict(x) > 0.5).astype(\"int32\")`,   if your model does binary classification   (e.g. if it uses a `sigmoid` last-layer activation).\n",
      "  warnings.warn('`model.predict_classes()` is deprecated and '\n"
     ]
    },
    {
     "name": "stdout",
     "output_type": "stream",
     "text": [
      "[CV]  clf__activation=relu, clf__learning_rate=0.1, clf__optimizer=<class 'tensorflow.python.keras.optimizer_v2.adam.Adam'>, total=  54.8s\n",
      "[CV] clf__activation=relu, clf__learning_rate=0.1, clf__optimizer=<class 'tensorflow.python.keras.optimizer_v2.adam.Adam'> \n",
      "1313/1313 [==============================] - 21s 11ms/step - loss: 5.3843 - accuracy: 0.1128\n"
     ]
    },
    {
     "name": "stderr",
     "output_type": "stream",
     "text": [
      "c:\\users\\caleb\\appdata\\local\\programs\\python\\python37\\lib\\site-packages\\tensorflow\\python\\keras\\engine\\sequential.py:450: UserWarning: `model.predict_classes()` is deprecated and will be removed after 2021-01-01. Please use instead:* `np.argmax(model.predict(x), axis=-1)`,   if your model does multi-class classification   (e.g. if it uses a `softmax` last-layer activation).* `(model.predict(x) > 0.5).astype(\"int32\")`,   if your model does binary classification   (e.g. if it uses a `sigmoid` last-layer activation).\n",
      "  warnings.warn('`model.predict_classes()` is deprecated and '\n"
     ]
    },
    {
     "name": "stdout",
     "output_type": "stream",
     "text": [
      "[CV]  clf__activation=relu, clf__learning_rate=0.1, clf__optimizer=<class 'tensorflow.python.keras.optimizer_v2.adam.Adam'>, total=  40.5s\n",
      "[CV] clf__activation=linear, clf__learning_rate=0.0001, clf__optimizer=<class 'tensorflow.python.keras.optimizer_v2.adam.Adam'> \n",
      "1313/1313 [==============================] - 15s 10ms/step - loss: 0.7477 - accuracy: 0.7936\n"
     ]
    },
    {
     "name": "stderr",
     "output_type": "stream",
     "text": [
      "c:\\users\\caleb\\appdata\\local\\programs\\python\\python37\\lib\\site-packages\\tensorflow\\python\\keras\\engine\\sequential.py:450: UserWarning: `model.predict_classes()` is deprecated and will be removed after 2021-01-01. Please use instead:* `np.argmax(model.predict(x), axis=-1)`,   if your model does multi-class classification   (e.g. if it uses a `softmax` last-layer activation).* `(model.predict(x) > 0.5).astype(\"int32\")`,   if your model does binary classification   (e.g. if it uses a `sigmoid` last-layer activation).\n",
      "  warnings.warn('`model.predict_classes()` is deprecated and '\n"
     ]
    },
    {
     "name": "stdout",
     "output_type": "stream",
     "text": [
      "[CV]  clf__activation=linear, clf__learning_rate=0.0001, clf__optimizer=<class 'tensorflow.python.keras.optimizer_v2.adam.Adam'>, total=  31.8s\n",
      "[CV] clf__activation=linear, clf__learning_rate=0.0001, clf__optimizer=<class 'tensorflow.python.keras.optimizer_v2.adam.Adam'> \n",
      "1313/1313 [==============================] - 15s 11ms/step - loss: 0.7654 - accuracy: 0.7851\n"
     ]
    },
    {
     "name": "stderr",
     "output_type": "stream",
     "text": [
      "c:\\users\\caleb\\appdata\\local\\programs\\python\\python37\\lib\\site-packages\\tensorflow\\python\\keras\\engine\\sequential.py:450: UserWarning: `model.predict_classes()` is deprecated and will be removed after 2021-01-01. Please use instead:* `np.argmax(model.predict(x), axis=-1)`,   if your model does multi-class classification   (e.g. if it uses a `softmax` last-layer activation).* `(model.predict(x) > 0.5).astype(\"int32\")`,   if your model does binary classification   (e.g. if it uses a `sigmoid` last-layer activation).\n",
      "  warnings.warn('`model.predict_classes()` is deprecated and '\n"
     ]
    },
    {
     "name": "stdout",
     "output_type": "stream",
     "text": [
      "[CV]  clf__activation=linear, clf__learning_rate=0.0001, clf__optimizer=<class 'tensorflow.python.keras.optimizer_v2.adam.Adam'>, total=  31.6s\n",
      "[CV] clf__activation=linear, clf__learning_rate=0.0001, clf__optimizer=<class 'tensorflow.python.keras.optimizer_v2.adam.Adam'> \n",
      "1313/1313 [==============================] - 19s 12ms/step - loss: 0.8239 - accuracy: 0.77140s - loss: 0.837\n"
     ]
    },
    {
     "name": "stderr",
     "output_type": "stream",
     "text": [
      "c:\\users\\caleb\\appdata\\local\\programs\\python\\python37\\lib\\site-packages\\tensorflow\\python\\keras\\engine\\sequential.py:450: UserWarning: `model.predict_classes()` is deprecated and will be removed after 2021-01-01. Please use instead:* `np.argmax(model.predict(x), axis=-1)`,   if your model does multi-class classification   (e.g. if it uses a `softmax` last-layer activation).* `(model.predict(x) > 0.5).astype(\"int32\")`,   if your model does binary classification   (e.g. if it uses a `sigmoid` last-layer activation).\n",
      "  warnings.warn('`model.predict_classes()` is deprecated and '\n"
     ]
    },
    {
     "name": "stdout",
     "output_type": "stream",
     "text": [
      "[CV]  clf__activation=linear, clf__learning_rate=0.0001, clf__optimizer=<class 'tensorflow.python.keras.optimizer_v2.adam.Adam'>, total=  29.8s\n",
      "[CV] clf__activation=linear, clf__learning_rate=0.0001, clf__optimizer=<class 'tensorflow.python.keras.optimizer_v2.adam.Adam'> \n",
      "1313/1313 [==============================] - 19s 13ms/step - loss: 0.7205 - accuracy: 0.7967\n"
     ]
    },
    {
     "name": "stderr",
     "output_type": "stream",
     "text": [
      "c:\\users\\caleb\\appdata\\local\\programs\\python\\python37\\lib\\site-packages\\tensorflow\\python\\keras\\engine\\sequential.py:450: UserWarning: `model.predict_classes()` is deprecated and will be removed after 2021-01-01. Please use instead:* `np.argmax(model.predict(x), axis=-1)`,   if your model does multi-class classification   (e.g. if it uses a `softmax` last-layer activation).* `(model.predict(x) > 0.5).astype(\"int32\")`,   if your model does binary classification   (e.g. if it uses a `sigmoid` last-layer activation).\n",
      "  warnings.warn('`model.predict_classes()` is deprecated and '\n"
     ]
    },
    {
     "name": "stdout",
     "output_type": "stream",
     "text": [
      "[CV]  clf__activation=linear, clf__learning_rate=0.0001, clf__optimizer=<class 'tensorflow.python.keras.optimizer_v2.adam.Adam'>, total=  35.5s\n",
      "[CV] clf__activation=sigmoid, clf__learning_rate=0.1, clf__optimizer=<class 'tensorflow.python.keras.optimizer_v2.adam.Adam'> \n",
      "1313/1313 [==============================] - 17s 11ms/step - loss: 2.7827 - accuracy: 0.1007\n"
     ]
    },
    {
     "name": "stderr",
     "output_type": "stream",
     "text": [
      "c:\\users\\caleb\\appdata\\local\\programs\\python\\python37\\lib\\site-packages\\tensorflow\\python\\keras\\engine\\sequential.py:450: UserWarning: `model.predict_classes()` is deprecated and will be removed after 2021-01-01. Please use instead:* `np.argmax(model.predict(x), axis=-1)`,   if your model does multi-class classification   (e.g. if it uses a `softmax` last-layer activation).* `(model.predict(x) > 0.5).astype(\"int32\")`,   if your model does binary classification   (e.g. if it uses a `sigmoid` last-layer activation).\n",
      "  warnings.warn('`model.predict_classes()` is deprecated and '\n"
     ]
    },
    {
     "name": "stdout",
     "output_type": "stream",
     "text": [
      "[CV]  clf__activation=sigmoid, clf__learning_rate=0.1, clf__optimizer=<class 'tensorflow.python.keras.optimizer_v2.adam.Adam'>, total=  32.3s\n",
      "[CV] clf__activation=sigmoid, clf__learning_rate=0.1, clf__optimizer=<class 'tensorflow.python.keras.optimizer_v2.adam.Adam'> \n",
      "1313/1313 [==============================] - 18s 11ms/step - loss: 2.4778 - accuracy: 0.17510s - l\n"
     ]
    },
    {
     "name": "stderr",
     "output_type": "stream",
     "text": [
      "c:\\users\\caleb\\appdata\\local\\programs\\python\\python37\\lib\\site-packages\\tensorflow\\python\\keras\\engine\\sequential.py:450: UserWarning: `model.predict_classes()` is deprecated and will be removed after 2021-01-01. Please use instead:* `np.argmax(model.predict(x), axis=-1)`,   if your model does multi-class classification   (e.g. if it uses a `softmax` last-layer activation).* `(model.predict(x) > 0.5).astype(\"int32\")`,   if your model does binary classification   (e.g. if it uses a `sigmoid` last-layer activation).\n",
      "  warnings.warn('`model.predict_classes()` is deprecated and '\n"
     ]
    },
    {
     "name": "stdout",
     "output_type": "stream",
     "text": [
      "[CV]  clf__activation=sigmoid, clf__learning_rate=0.1, clf__optimizer=<class 'tensorflow.python.keras.optimizer_v2.adam.Adam'>, total=  41.8s\n",
      "[CV] clf__activation=sigmoid, clf__learning_rate=0.1, clf__optimizer=<class 'tensorflow.python.keras.optimizer_v2.adam.Adam'> \n",
      "1313/1313 [==============================] - 18s 11ms/step - loss: 1.8050 - accuracy: 0.4033\n"
     ]
    },
    {
     "name": "stderr",
     "output_type": "stream",
     "text": [
      "c:\\users\\caleb\\appdata\\local\\programs\\python\\python37\\lib\\site-packages\\tensorflow\\python\\keras\\engine\\sequential.py:450: UserWarning: `model.predict_classes()` is deprecated and will be removed after 2021-01-01. Please use instead:* `np.argmax(model.predict(x), axis=-1)`,   if your model does multi-class classification   (e.g. if it uses a `softmax` last-layer activation).* `(model.predict(x) > 0.5).astype(\"int32\")`,   if your model does binary classification   (e.g. if it uses a `sigmoid` last-layer activation).\n",
      "  warnings.warn('`model.predict_classes()` is deprecated and '\n"
     ]
    },
    {
     "name": "stdout",
     "output_type": "stream",
     "text": [
      "[CV]  clf__activation=sigmoid, clf__learning_rate=0.1, clf__optimizer=<class 'tensorflow.python.keras.optimizer_v2.adam.Adam'>, total=  29.8s\n",
      "[CV] clf__activation=sigmoid, clf__learning_rate=0.1, clf__optimizer=<class 'tensorflow.python.keras.optimizer_v2.adam.Adam'> \n",
      "1313/1313 [==============================] - 18s 11ms/step - loss: 1.7787 - accuracy: 0.3981\n"
     ]
    },
    {
     "name": "stderr",
     "output_type": "stream",
     "text": [
      "c:\\users\\caleb\\appdata\\local\\programs\\python\\python37\\lib\\site-packages\\tensorflow\\python\\keras\\engine\\sequential.py:450: UserWarning: `model.predict_classes()` is deprecated and will be removed after 2021-01-01. Please use instead:* `np.argmax(model.predict(x), axis=-1)`,   if your model does multi-class classification   (e.g. if it uses a `softmax` last-layer activation).* `(model.predict(x) > 0.5).astype(\"int32\")`,   if your model does binary classification   (e.g. if it uses a `sigmoid` last-layer activation).\n",
      "  warnings.warn('`model.predict_classes()` is deprecated and '\n"
     ]
    },
    {
     "name": "stdout",
     "output_type": "stream",
     "text": [
      "[CV]  clf__activation=sigmoid, clf__learning_rate=0.1, clf__optimizer=<class 'tensorflow.python.keras.optimizer_v2.adam.Adam'>, total=  27.9s\n",
      "[CV] clf__activation=tanh, clf__learning_rate=0.001, clf__optimizer=<class 'tensorflow.python.keras.optimizer_v2.adam.Adam'> \n",
      "1313/1313 [==============================] - 17s 12ms/step - loss: 0.3709 - accuracy: 0.8875\n"
     ]
    },
    {
     "name": "stderr",
     "output_type": "stream",
     "text": [
      "c:\\users\\caleb\\appdata\\local\\programs\\python\\python37\\lib\\site-packages\\tensorflow\\python\\keras\\engine\\sequential.py:450: UserWarning: `model.predict_classes()` is deprecated and will be removed after 2021-01-01. Please use instead:* `np.argmax(model.predict(x), axis=-1)`,   if your model does multi-class classification   (e.g. if it uses a `softmax` last-layer activation).* `(model.predict(x) > 0.5).astype(\"int32\")`,   if your model does binary classification   (e.g. if it uses a `sigmoid` last-layer activation).\n",
      "  warnings.warn('`model.predict_classes()` is deprecated and '\n"
     ]
    },
    {
     "name": "stdout",
     "output_type": "stream",
     "text": [
      "[CV]  clf__activation=tanh, clf__learning_rate=0.001, clf__optimizer=<class 'tensorflow.python.keras.optimizer_v2.adam.Adam'>, total=  30.9s\n",
      "[CV] clf__activation=tanh, clf__learning_rate=0.001, clf__optimizer=<class 'tensorflow.python.keras.optimizer_v2.adam.Adam'> \n",
      "1313/1313 [==============================] - 15s 10ms/step - loss: 0.3779 - accuracy: 0.88620s - loss: 0.3808 - ac\n"
     ]
    },
    {
     "name": "stderr",
     "output_type": "stream",
     "text": [
      "c:\\users\\caleb\\appdata\\local\\programs\\python\\python37\\lib\\site-packages\\tensorflow\\python\\keras\\engine\\sequential.py:450: UserWarning: `model.predict_classes()` is deprecated and will be removed after 2021-01-01. Please use instead:* `np.argmax(model.predict(x), axis=-1)`,   if your model does multi-class classification   (e.g. if it uses a `softmax` last-layer activation).* `(model.predict(x) > 0.5).astype(\"int32\")`,   if your model does binary classification   (e.g. if it uses a `sigmoid` last-layer activation).\n",
      "  warnings.warn('`model.predict_classes()` is deprecated and '\n"
     ]
    },
    {
     "name": "stdout",
     "output_type": "stream",
     "text": [
      "[CV]  clf__activation=tanh, clf__learning_rate=0.001, clf__optimizer=<class 'tensorflow.python.keras.optimizer_v2.adam.Adam'>, total=  31.9s\n",
      "[CV] clf__activation=tanh, clf__learning_rate=0.001, clf__optimizer=<class 'tensorflow.python.keras.optimizer_v2.adam.Adam'> \n",
      "1313/1313 [==============================] - 14s 9ms/step - loss: 0.3747 - accuracy: 0.8862\n"
     ]
    },
    {
     "name": "stderr",
     "output_type": "stream",
     "text": [
      "c:\\users\\caleb\\appdata\\local\\programs\\python\\python37\\lib\\site-packages\\tensorflow\\python\\keras\\engine\\sequential.py:450: UserWarning: `model.predict_classes()` is deprecated and will be removed after 2021-01-01. Please use instead:* `np.argmax(model.predict(x), axis=-1)`,   if your model does multi-class classification   (e.g. if it uses a `softmax` last-layer activation).* `(model.predict(x) > 0.5).astype(\"int32\")`,   if your model does binary classification   (e.g. if it uses a `sigmoid` last-layer activation).\n",
      "  warnings.warn('`model.predict_classes()` is deprecated and '\n"
     ]
    },
    {
     "name": "stdout",
     "output_type": "stream",
     "text": [
      "[CV]  clf__activation=tanh, clf__learning_rate=0.001, clf__optimizer=<class 'tensorflow.python.keras.optimizer_v2.adam.Adam'>, total=  35.4s\n",
      "[CV] clf__activation=tanh, clf__learning_rate=0.001, clf__optimizer=<class 'tensorflow.python.keras.optimizer_v2.adam.Adam'> \n",
      "1313/1313 [==============================] - 14s 9ms/step - loss: 0.3773 - accuracy: 0.8847\n"
     ]
    },
    {
     "name": "stderr",
     "output_type": "stream",
     "text": [
      "c:\\users\\caleb\\appdata\\local\\programs\\python\\python37\\lib\\site-packages\\tensorflow\\python\\keras\\engine\\sequential.py:450: UserWarning: `model.predict_classes()` is deprecated and will be removed after 2021-01-01. Please use instead:* `np.argmax(model.predict(x), axis=-1)`,   if your model does multi-class classification   (e.g. if it uses a `softmax` last-layer activation).* `(model.predict(x) > 0.5).astype(\"int32\")`,   if your model does binary classification   (e.g. if it uses a `sigmoid` last-layer activation).\n",
      "  warnings.warn('`model.predict_classes()` is deprecated and '\n"
     ]
    },
    {
     "name": "stdout",
     "output_type": "stream",
     "text": [
      "[CV]  clf__activation=tanh, clf__learning_rate=0.001, clf__optimizer=<class 'tensorflow.python.keras.optimizer_v2.adam.Adam'>, total=  46.3s\n",
      "[CV] clf__activation=linear, clf__learning_rate=0.01, clf__optimizer=<class 'tensorflow.python.keras.optimizer_v2.adam.Adam'> \n",
      "1313/1313 [==============================] - 19s 7ms/step - loss: 4.9940 - accuracy: 0.7403\n"
     ]
    },
    {
     "name": "stderr",
     "output_type": "stream",
     "text": [
      "c:\\users\\caleb\\appdata\\local\\programs\\python\\python37\\lib\\site-packages\\tensorflow\\python\\keras\\engine\\sequential.py:450: UserWarning: `model.predict_classes()` is deprecated and will be removed after 2021-01-01. Please use instead:* `np.argmax(model.predict(x), axis=-1)`,   if your model does multi-class classification   (e.g. if it uses a `softmax` last-layer activation).* `(model.predict(x) > 0.5).astype(\"int32\")`,   if your model does binary classification   (e.g. if it uses a `sigmoid` last-layer activation).\n",
      "  warnings.warn('`model.predict_classes()` is deprecated and '\n"
     ]
    },
    {
     "name": "stdout",
     "output_type": "stream",
     "text": [
      "[CV]  clf__activation=linear, clf__learning_rate=0.01, clf__optimizer=<class 'tensorflow.python.keras.optimizer_v2.adam.Adam'>, total=  32.5s\n",
      "[CV] clf__activation=linear, clf__learning_rate=0.01, clf__optimizer=<class 'tensorflow.python.keras.optimizer_v2.adam.Adam'> \n",
      "1313/1313 [==============================] - 29s 11ms/step - loss: 4.7186 - accuracy: 0.74570s - loss: 4.6561 - \n"
     ]
    },
    {
     "name": "stderr",
     "output_type": "stream",
     "text": [
      "c:\\users\\caleb\\appdata\\local\\programs\\python\\python37\\lib\\site-packages\\tensorflow\\python\\keras\\engine\\sequential.py:450: UserWarning: `model.predict_classes()` is deprecated and will be removed after 2021-01-01. Please use instead:* `np.argmax(model.predict(x), axis=-1)`,   if your model does multi-class classification   (e.g. if it uses a `softmax` last-layer activation).* `(model.predict(x) > 0.5).astype(\"int32\")`,   if your model does binary classification   (e.g. if it uses a `sigmoid` last-layer activation).\n",
      "  warnings.warn('`model.predict_classes()` is deprecated and '\n"
     ]
    },
    {
     "name": "stdout",
     "output_type": "stream",
     "text": [
      "[CV]  clf__activation=linear, clf__learning_rate=0.01, clf__optimizer=<class 'tensorflow.python.keras.optimizer_v2.adam.Adam'>, total=  58.6s\n",
      "[CV] clf__activation=linear, clf__learning_rate=0.01, clf__optimizer=<class 'tensorflow.python.keras.optimizer_v2.adam.Adam'> \n",
      "1313/1313 [==============================] - 20s 12ms/step - loss: 4.8767 - accuracy: 0.74122s - loss: 4 - ETA: 2s - loss: 4.4932 - accuracy - - ETA: 1s - loss: - ETA: 1s - loss: 4.6795 - accu - ETA: 0s - - ETA: 0s - loss: 4.8368 - ac\n"
     ]
    },
    {
     "name": "stderr",
     "output_type": "stream",
     "text": [
      "c:\\users\\caleb\\appdata\\local\\programs\\python\\python37\\lib\\site-packages\\tensorflow\\python\\keras\\engine\\sequential.py:450: UserWarning: `model.predict_classes()` is deprecated and will be removed after 2021-01-01. Please use instead:* `np.argmax(model.predict(x), axis=-1)`,   if your model does multi-class classification   (e.g. if it uses a `softmax` last-layer activation).* `(model.predict(x) > 0.5).astype(\"int32\")`,   if your model does binary classification   (e.g. if it uses a `sigmoid` last-layer activation).\n",
      "  warnings.warn('`model.predict_classes()` is deprecated and '\n"
     ]
    },
    {
     "name": "stdout",
     "output_type": "stream",
     "text": [
      "[CV]  clf__activation=linear, clf__learning_rate=0.01, clf__optimizer=<class 'tensorflow.python.keras.optimizer_v2.adam.Adam'>, total=  50.0s\n",
      "[CV] clf__activation=linear, clf__learning_rate=0.01, clf__optimizer=<class 'tensorflow.python.keras.optimizer_v2.adam.Adam'> \n",
      "1313/1313 [==============================] - 19s 13ms/step - loss: 4.4853 - accuracy: 0.7455\n"
     ]
    },
    {
     "name": "stderr",
     "output_type": "stream",
     "text": [
      "c:\\users\\caleb\\appdata\\local\\programs\\python\\python37\\lib\\site-packages\\tensorflow\\python\\keras\\engine\\sequential.py:450: UserWarning: `model.predict_classes()` is deprecated and will be removed after 2021-01-01. Please use instead:* `np.argmax(model.predict(x), axis=-1)`,   if your model does multi-class classification   (e.g. if it uses a `softmax` last-layer activation).* `(model.predict(x) > 0.5).astype(\"int32\")`,   if your model does binary classification   (e.g. if it uses a `sigmoid` last-layer activation).\n",
      "  warnings.warn('`model.predict_classes()` is deprecated and '\n"
     ]
    },
    {
     "name": "stdout",
     "output_type": "stream",
     "text": [
      "[CV]  clf__activation=linear, clf__learning_rate=0.01, clf__optimizer=<class 'tensorflow.python.keras.optimizer_v2.adam.Adam'>, total=  28.0s\n",
      "[CV] clf__activation=linear, clf__learning_rate=0.001, clf__optimizer=<class 'tensorflow.python.keras.optimizer_v2.adam.Adam'> \n",
      "1313/1313 [==============================] - 21s 15ms/step - loss: 0.6554 - accuracy: 0.85126s - loss: 0.7157 - accuracy - ETA:  - ETA: 5s - loss: 0.6916 - accuracy: 0.84 - ETA: 5s - loss: 0.6914 -  - ETA: 4s - loss: 0 - E - ETA: 1s - loss: 0.6 - ETA: 0s - loss: 0.6577 \n"
     ]
    },
    {
     "name": "stderr",
     "output_type": "stream",
     "text": [
      "c:\\users\\caleb\\appdata\\local\\programs\\python\\python37\\lib\\site-packages\\tensorflow\\python\\keras\\engine\\sequential.py:450: UserWarning: `model.predict_classes()` is deprecated and will be removed after 2021-01-01. Please use instead:* `np.argmax(model.predict(x), axis=-1)`,   if your model does multi-class classification   (e.g. if it uses a `softmax` last-layer activation).* `(model.predict(x) > 0.5).astype(\"int32\")`,   if your model does binary classification   (e.g. if it uses a `sigmoid` last-layer activation).\n",
      "  warnings.warn('`model.predict_classes()` is deprecated and '\n"
     ]
    },
    {
     "name": "stdout",
     "output_type": "stream",
     "text": [
      "[CV]  clf__activation=linear, clf__learning_rate=0.001, clf__optimizer=<class 'tensorflow.python.keras.optimizer_v2.adam.Adam'>, total=  31.2s\n",
      "[CV] clf__activation=linear, clf__learning_rate=0.001, clf__optimizer=<class 'tensorflow.python.keras.optimizer_v2.adam.Adam'> \n",
      "1313/1313 [==============================] - 26s 13ms/step - loss: 0.6631 - accuracy: 0.8515\n"
     ]
    },
    {
     "name": "stderr",
     "output_type": "stream",
     "text": [
      "c:\\users\\caleb\\appdata\\local\\programs\\python\\python37\\lib\\site-packages\\tensorflow\\python\\keras\\engine\\sequential.py:450: UserWarning: `model.predict_classes()` is deprecated and will be removed after 2021-01-01. Please use instead:* `np.argmax(model.predict(x), axis=-1)`,   if your model does multi-class classification   (e.g. if it uses a `softmax` last-layer activation).* `(model.predict(x) > 0.5).astype(\"int32\")`,   if your model does binary classification   (e.g. if it uses a `sigmoid` last-layer activation).\n",
      "  warnings.warn('`model.predict_classes()` is deprecated and '\n"
     ]
    },
    {
     "name": "stdout",
     "output_type": "stream",
     "text": [
      "[CV]  clf__activation=linear, clf__learning_rate=0.001, clf__optimizer=<class 'tensorflow.python.keras.optimizer_v2.adam.Adam'>, total=  40.1s\n",
      "[CV] clf__activation=linear, clf__learning_rate=0.001, clf__optimizer=<class 'tensorflow.python.keras.optimizer_v2.adam.Adam'> \n",
      "1313/1313 [==============================] - 23s 9ms/step - loss: 0.6582 - accuracy: 0.8502 1s\n"
     ]
    },
    {
     "name": "stderr",
     "output_type": "stream",
     "text": [
      "c:\\users\\caleb\\appdata\\local\\programs\\python\\python37\\lib\\site-packages\\tensorflow\\python\\keras\\engine\\sequential.py:450: UserWarning: `model.predict_classes()` is deprecated and will be removed after 2021-01-01. Please use instead:* `np.argmax(model.predict(x), axis=-1)`,   if your model does multi-class classification   (e.g. if it uses a `softmax` last-layer activation).* `(model.predict(x) > 0.5).astype(\"int32\")`,   if your model does binary classification   (e.g. if it uses a `sigmoid` last-layer activation).\n",
      "  warnings.warn('`model.predict_classes()` is deprecated and '\n"
     ]
    },
    {
     "name": "stdout",
     "output_type": "stream",
     "text": [
      "[CV]  clf__activation=linear, clf__learning_rate=0.001, clf__optimizer=<class 'tensorflow.python.keras.optimizer_v2.adam.Adam'>, total=  33.7s\n",
      "[CV] clf__activation=linear, clf__learning_rate=0.001, clf__optimizer=<class 'tensorflow.python.keras.optimizer_v2.adam.Adam'> \n",
      "1313/1313 [==============================] - 21s 11ms/step - loss: 0.6594 - accuracy: 0.8477\n"
     ]
    },
    {
     "name": "stderr",
     "output_type": "stream",
     "text": [
      "c:\\users\\caleb\\appdata\\local\\programs\\python\\python37\\lib\\site-packages\\tensorflow\\python\\keras\\engine\\sequential.py:450: UserWarning: `model.predict_classes()` is deprecated and will be removed after 2021-01-01. Please use instead:* `np.argmax(model.predict(x), axis=-1)`,   if your model does multi-class classification   (e.g. if it uses a `softmax` last-layer activation).* `(model.predict(x) > 0.5).astype(\"int32\")`,   if your model does binary classification   (e.g. if it uses a `sigmoid` last-layer activation).\n",
      "  warnings.warn('`model.predict_classes()` is deprecated and '\n"
     ]
    },
    {
     "name": "stdout",
     "output_type": "stream",
     "text": [
      "[CV]  clf__activation=linear, clf__learning_rate=0.001, clf__optimizer=<class 'tensorflow.python.keras.optimizer_v2.adam.Adam'>, total=  30.5s\n",
      "[CV] clf__activation=tanh, clf__learning_rate=0.01, clf__optimizer=<class 'tensorflow.python.keras.optimizer_v2.adam.Adam'> \n",
      "1313/1313 [==============================] - 19s 13ms/step - loss: 0.4570 - accuracy: 0.8625\n"
     ]
    },
    {
     "name": "stderr",
     "output_type": "stream",
     "text": [
      "c:\\users\\caleb\\appdata\\local\\programs\\python\\python37\\lib\\site-packages\\tensorflow\\python\\keras\\engine\\sequential.py:450: UserWarning: `model.predict_classes()` is deprecated and will be removed after 2021-01-01. Please use instead:* `np.argmax(model.predict(x), axis=-1)`,   if your model does multi-class classification   (e.g. if it uses a `softmax` last-layer activation).* `(model.predict(x) > 0.5).astype(\"int32\")`,   if your model does binary classification   (e.g. if it uses a `sigmoid` last-layer activation).\n",
      "  warnings.warn('`model.predict_classes()` is deprecated and '\n"
     ]
    },
    {
     "name": "stdout",
     "output_type": "stream",
     "text": [
      "[CV]  clf__activation=tanh, clf__learning_rate=0.01, clf__optimizer=<class 'tensorflow.python.keras.optimizer_v2.adam.Adam'>, total=  28.4s\n",
      "[CV] clf__activation=tanh, clf__learning_rate=0.01, clf__optimizer=<class 'tensorflow.python.keras.optimizer_v2.adam.Adam'> \n",
      "1313/1313 [==============================] - 19s 13ms/step - loss: 0.4455 - accuracy: 0.8652\n"
     ]
    },
    {
     "name": "stderr",
     "output_type": "stream",
     "text": [
      "c:\\users\\caleb\\appdata\\local\\programs\\python\\python37\\lib\\site-packages\\tensorflow\\python\\keras\\engine\\sequential.py:450: UserWarning: `model.predict_classes()` is deprecated and will be removed after 2021-01-01. Please use instead:* `np.argmax(model.predict(x), axis=-1)`,   if your model does multi-class classification   (e.g. if it uses a `softmax` last-layer activation).* `(model.predict(x) > 0.5).astype(\"int32\")`,   if your model does binary classification   (e.g. if it uses a `sigmoid` last-layer activation).\n",
      "  warnings.warn('`model.predict_classes()` is deprecated and '\n"
     ]
    },
    {
     "name": "stdout",
     "output_type": "stream",
     "text": [
      "[CV]  clf__activation=tanh, clf__learning_rate=0.01, clf__optimizer=<class 'tensorflow.python.keras.optimizer_v2.adam.Adam'>, total=  29.8s\n",
      "[CV] clf__activation=tanh, clf__learning_rate=0.01, clf__optimizer=<class 'tensorflow.python.keras.optimizer_v2.adam.Adam'> \n",
      "1313/1313 [==============================] - 25s 7ms/step - loss: 0.4484 - accuracy: 0.8658\n"
     ]
    },
    {
     "name": "stderr",
     "output_type": "stream",
     "text": [
      "c:\\users\\caleb\\appdata\\local\\programs\\python\\python37\\lib\\site-packages\\tensorflow\\python\\keras\\engine\\sequential.py:450: UserWarning: `model.predict_classes()` is deprecated and will be removed after 2021-01-01. Please use instead:* `np.argmax(model.predict(x), axis=-1)`,   if your model does multi-class classification   (e.g. if it uses a `softmax` last-layer activation).* `(model.predict(x) > 0.5).astype(\"int32\")`,   if your model does binary classification   (e.g. if it uses a `sigmoid` last-layer activation).\n",
      "  warnings.warn('`model.predict_classes()` is deprecated and '\n"
     ]
    },
    {
     "name": "stdout",
     "output_type": "stream",
     "text": [
      "[CV]  clf__activation=tanh, clf__learning_rate=0.01, clf__optimizer=<class 'tensorflow.python.keras.optimizer_v2.adam.Adam'>, total=  43.4s\n",
      "[CV] clf__activation=tanh, clf__learning_rate=0.01, clf__optimizer=<class 'tensorflow.python.keras.optimizer_v2.adam.Adam'> \n",
      "1313/1313 [==============================] - 17s 12ms/step - loss: 0.4485 - accuracy: 0.86540s - loss: 0.4501 - accu\n"
     ]
    },
    {
     "name": "stderr",
     "output_type": "stream",
     "text": [
      "c:\\users\\caleb\\appdata\\local\\programs\\python\\python37\\lib\\site-packages\\tensorflow\\python\\keras\\engine\\sequential.py:450: UserWarning: `model.predict_classes()` is deprecated and will be removed after 2021-01-01. Please use instead:* `np.argmax(model.predict(x), axis=-1)`,   if your model does multi-class classification   (e.g. if it uses a `softmax` last-layer activation).* `(model.predict(x) > 0.5).astype(\"int32\")`,   if your model does binary classification   (e.g. if it uses a `sigmoid` last-layer activation).\n",
      "  warnings.warn('`model.predict_classes()` is deprecated and '\n"
     ]
    },
    {
     "name": "stdout",
     "output_type": "stream",
     "text": [
      "[CV]  clf__activation=tanh, clf__learning_rate=0.01, clf__optimizer=<class 'tensorflow.python.keras.optimizer_v2.adam.Adam'>, total=  48.0s\n",
      "[CV] clf__activation=relu, clf__learning_rate=0.0001, clf__optimizer=<class 'tensorflow.python.keras.optimizer_v2.adam.Adam'> \n",
      "1313/1313 [==============================] - 18s 13ms/step - loss: 0.8287 - accuracy: 0.7625\n"
     ]
    },
    {
     "name": "stderr",
     "output_type": "stream",
     "text": [
      "c:\\users\\caleb\\appdata\\local\\programs\\python\\python37\\lib\\site-packages\\tensorflow\\python\\keras\\engine\\sequential.py:450: UserWarning: `model.predict_classes()` is deprecated and will be removed after 2021-01-01. Please use instead:* `np.argmax(model.predict(x), axis=-1)`,   if your model does multi-class classification   (e.g. if it uses a `softmax` last-layer activation).* `(model.predict(x) > 0.5).astype(\"int32\")`,   if your model does binary classification   (e.g. if it uses a `sigmoid` last-layer activation).\n",
      "  warnings.warn('`model.predict_classes()` is deprecated and '\n"
     ]
    },
    {
     "name": "stdout",
     "output_type": "stream",
     "text": [
      "[CV]  clf__activation=relu, clf__learning_rate=0.0001, clf__optimizer=<class 'tensorflow.python.keras.optimizer_v2.adam.Adam'>, total=  54.3s\n",
      "[CV] clf__activation=relu, clf__learning_rate=0.0001, clf__optimizer=<class 'tensorflow.python.keras.optimizer_v2.adam.Adam'> \n",
      "1313/1313 [==============================] - 16s 11ms/step - loss: 0.8705 - accuracy: 0.7507\n"
     ]
    },
    {
     "name": "stderr",
     "output_type": "stream",
     "text": [
      "c:\\users\\caleb\\appdata\\local\\programs\\python\\python37\\lib\\site-packages\\tensorflow\\python\\keras\\engine\\sequential.py:450: UserWarning: `model.predict_classes()` is deprecated and will be removed after 2021-01-01. Please use instead:* `np.argmax(model.predict(x), axis=-1)`,   if your model does multi-class classification   (e.g. if it uses a `softmax` last-layer activation).* `(model.predict(x) > 0.5).astype(\"int32\")`,   if your model does binary classification   (e.g. if it uses a `sigmoid` last-layer activation).\n",
      "  warnings.warn('`model.predict_classes()` is deprecated and '\n"
     ]
    },
    {
     "name": "stdout",
     "output_type": "stream",
     "text": [
      "[CV]  clf__activation=relu, clf__learning_rate=0.0001, clf__optimizer=<class 'tensorflow.python.keras.optimizer_v2.adam.Adam'>, total=  53.6s\n",
      "[CV] clf__activation=relu, clf__learning_rate=0.0001, clf__optimizer=<class 'tensorflow.python.keras.optimizer_v2.adam.Adam'> \n",
      "1313/1313 [==============================] - 26s 10ms/step - loss: 0.8124 - accuracy: 0.7659\n"
     ]
    },
    {
     "name": "stderr",
     "output_type": "stream",
     "text": [
      "c:\\users\\caleb\\appdata\\local\\programs\\python\\python37\\lib\\site-packages\\tensorflow\\python\\keras\\engine\\sequential.py:450: UserWarning: `model.predict_classes()` is deprecated and will be removed after 2021-01-01. Please use instead:* `np.argmax(model.predict(x), axis=-1)`,   if your model does multi-class classification   (e.g. if it uses a `softmax` last-layer activation).* `(model.predict(x) > 0.5).astype(\"int32\")`,   if your model does binary classification   (e.g. if it uses a `sigmoid` last-layer activation).\n",
      "  warnings.warn('`model.predict_classes()` is deprecated and '\n"
     ]
    },
    {
     "name": "stdout",
     "output_type": "stream",
     "text": [
      "[CV]  clf__activation=relu, clf__learning_rate=0.0001, clf__optimizer=<class 'tensorflow.python.keras.optimizer_v2.adam.Adam'>, total=  59.7s\n",
      "[CV] clf__activation=relu, clf__learning_rate=0.0001, clf__optimizer=<class 'tensorflow.python.keras.optimizer_v2.adam.Adam'> \n",
      "1313/1313 [==============================] - 22s 9ms/step - loss: 0.8154 - accuracy: 0.7642\n"
     ]
    },
    {
     "name": "stderr",
     "output_type": "stream",
     "text": [
      "c:\\users\\caleb\\appdata\\local\\programs\\python\\python37\\lib\\site-packages\\tensorflow\\python\\keras\\engine\\sequential.py:450: UserWarning: `model.predict_classes()` is deprecated and will be removed after 2021-01-01. Please use instead:* `np.argmax(model.predict(x), axis=-1)`,   if your model does multi-class classification   (e.g. if it uses a `softmax` last-layer activation).* `(model.predict(x) > 0.5).astype(\"int32\")`,   if your model does binary classification   (e.g. if it uses a `sigmoid` last-layer activation).\n",
      "  warnings.warn('`model.predict_classes()` is deprecated and '\n"
     ]
    },
    {
     "name": "stdout",
     "output_type": "stream",
     "text": [
      "[CV]  clf__activation=relu, clf__learning_rate=0.0001, clf__optimizer=<class 'tensorflow.python.keras.optimizer_v2.adam.Adam'>, total=  45.9s\n",
      "[CV] clf__activation=sigmoid, clf__learning_rate=0.0001, clf__optimizer=<class 'tensorflow.python.keras.optimizer_v2.adam.Adam'> \n",
      "1313/1313 [==============================] - 19s 9ms/step - loss: 1.4691 - accuracy: 0.6607\n"
     ]
    },
    {
     "name": "stderr",
     "output_type": "stream",
     "text": [
      "c:\\users\\caleb\\appdata\\local\\programs\\python\\python37\\lib\\site-packages\\tensorflow\\python\\keras\\engine\\sequential.py:450: UserWarning: `model.predict_classes()` is deprecated and will be removed after 2021-01-01. Please use instead:* `np.argmax(model.predict(x), axis=-1)`,   if your model does multi-class classification   (e.g. if it uses a `softmax` last-layer activation).* `(model.predict(x) > 0.5).astype(\"int32\")`,   if your model does binary classification   (e.g. if it uses a `sigmoid` last-layer activation).\n",
      "  warnings.warn('`model.predict_classes()` is deprecated and '\n"
     ]
    },
    {
     "name": "stdout",
     "output_type": "stream",
     "text": [
      "[CV]  clf__activation=sigmoid, clf__learning_rate=0.0001, clf__optimizer=<class 'tensorflow.python.keras.optimizer_v2.adam.Adam'>, total=  37.6s\n",
      "[CV] clf__activation=sigmoid, clf__learning_rate=0.0001, clf__optimizer=<class 'tensorflow.python.keras.optimizer_v2.adam.Adam'> \n",
      "1313/1313 [==============================] - 13s 8ms/step - loss: 1.4973 - accuracy: 0.6342\n"
     ]
    },
    {
     "name": "stderr",
     "output_type": "stream",
     "text": [
      "c:\\users\\caleb\\appdata\\local\\programs\\python\\python37\\lib\\site-packages\\tensorflow\\python\\keras\\engine\\sequential.py:450: UserWarning: `model.predict_classes()` is deprecated and will be removed after 2021-01-01. Please use instead:* `np.argmax(model.predict(x), axis=-1)`,   if your model does multi-class classification   (e.g. if it uses a `softmax` last-layer activation).* `(model.predict(x) > 0.5).astype(\"int32\")`,   if your model does binary classification   (e.g. if it uses a `sigmoid` last-layer activation).\n",
      "  warnings.warn('`model.predict_classes()` is deprecated and '\n"
     ]
    },
    {
     "name": "stdout",
     "output_type": "stream",
     "text": [
      "[CV]  clf__activation=sigmoid, clf__learning_rate=0.0001, clf__optimizer=<class 'tensorflow.python.keras.optimizer_v2.adam.Adam'>, total=  29.2s\n",
      "[CV] clf__activation=sigmoid, clf__learning_rate=0.0001, clf__optimizer=<class 'tensorflow.python.keras.optimizer_v2.adam.Adam'> \n",
      "1313/1313 [==============================] - 15s 8ms/step - loss: 1.5406 - accuracy: 0.6396\n"
     ]
    },
    {
     "name": "stderr",
     "output_type": "stream",
     "text": [
      "c:\\users\\caleb\\appdata\\local\\programs\\python\\python37\\lib\\site-packages\\tensorflow\\python\\keras\\engine\\sequential.py:450: UserWarning: `model.predict_classes()` is deprecated and will be removed after 2021-01-01. Please use instead:* `np.argmax(model.predict(x), axis=-1)`,   if your model does multi-class classification   (e.g. if it uses a `softmax` last-layer activation).* `(model.predict(x) > 0.5).astype(\"int32\")`,   if your model does binary classification   (e.g. if it uses a `sigmoid` last-layer activation).\n",
      "  warnings.warn('`model.predict_classes()` is deprecated and '\n"
     ]
    },
    {
     "name": "stdout",
     "output_type": "stream",
     "text": [
      "[CV]  clf__activation=sigmoid, clf__learning_rate=0.0001, clf__optimizer=<class 'tensorflow.python.keras.optimizer_v2.adam.Adam'>, total=  37.0s\n",
      "[CV] clf__activation=sigmoid, clf__learning_rate=0.0001, clf__optimizer=<class 'tensorflow.python.keras.optimizer_v2.adam.Adam'> \n",
      "1313/1313 [==============================] - 16s 11ms/step - loss: 1.4553 - accuracy: 0.65680s - loss: 1.4585 - accuracy: 0.\n"
     ]
    },
    {
     "name": "stderr",
     "output_type": "stream",
     "text": [
      "c:\\users\\caleb\\appdata\\local\\programs\\python\\python37\\lib\\site-packages\\tensorflow\\python\\keras\\engine\\sequential.py:450: UserWarning: `model.predict_classes()` is deprecated and will be removed after 2021-01-01. Please use instead:* `np.argmax(model.predict(x), axis=-1)`,   if your model does multi-class classification   (e.g. if it uses a `softmax` last-layer activation).* `(model.predict(x) > 0.5).astype(\"int32\")`,   if your model does binary classification   (e.g. if it uses a `sigmoid` last-layer activation).\n",
      "  warnings.warn('`model.predict_classes()` is deprecated and '\n"
     ]
    },
    {
     "name": "stdout",
     "output_type": "stream",
     "text": [
      "[CV]  clf__activation=sigmoid, clf__learning_rate=0.0001, clf__optimizer=<class 'tensorflow.python.keras.optimizer_v2.adam.Adam'>, total=  27.6s\n",
      "[CV] clf__activation=linear, clf__learning_rate=0.1, clf__optimizer=<class 'tensorflow.python.keras.optimizer_v2.adam.Adam'> \n",
      "1313/1313 [==============================] - 16s 10ms/step - loss: 5372.9531 - accuracy: 0.6790\n"
     ]
    },
    {
     "name": "stderr",
     "output_type": "stream",
     "text": [
      "c:\\users\\caleb\\appdata\\local\\programs\\python\\python37\\lib\\site-packages\\tensorflow\\python\\keras\\engine\\sequential.py:450: UserWarning: `model.predict_classes()` is deprecated and will be removed after 2021-01-01. Please use instead:* `np.argmax(model.predict(x), axis=-1)`,   if your model does multi-class classification   (e.g. if it uses a `softmax` last-layer activation).* `(model.predict(x) > 0.5).astype(\"int32\")`,   if your model does binary classification   (e.g. if it uses a `sigmoid` last-layer activation).\n",
      "  warnings.warn('`model.predict_classes()` is deprecated and '\n"
     ]
    },
    {
     "name": "stdout",
     "output_type": "stream",
     "text": [
      "[CV]  clf__activation=linear, clf__learning_rate=0.1, clf__optimizer=<class 'tensorflow.python.keras.optimizer_v2.adam.Adam'>, total=  27.2s\n",
      "[CV] clf__activation=linear, clf__learning_rate=0.1, clf__optimizer=<class 'tensorflow.python.keras.optimizer_v2.adam.Adam'> \n",
      "1313/1313 [==============================] - 19s 12ms/step - loss: 4731.0808 - accuracy: 0.6915\n"
     ]
    },
    {
     "name": "stderr",
     "output_type": "stream",
     "text": [
      "c:\\users\\caleb\\appdata\\local\\programs\\python\\python37\\lib\\site-packages\\tensorflow\\python\\keras\\engine\\sequential.py:450: UserWarning: `model.predict_classes()` is deprecated and will be removed after 2021-01-01. Please use instead:* `np.argmax(model.predict(x), axis=-1)`,   if your model does multi-class classification   (e.g. if it uses a `softmax` last-layer activation).* `(model.predict(x) > 0.5).astype(\"int32\")`,   if your model does binary classification   (e.g. if it uses a `sigmoid` last-layer activation).\n",
      "  warnings.warn('`model.predict_classes()` is deprecated and '\n"
     ]
    },
    {
     "name": "stdout",
     "output_type": "stream",
     "text": [
      "[CV]  clf__activation=linear, clf__learning_rate=0.1, clf__optimizer=<class 'tensorflow.python.keras.optimizer_v2.adam.Adam'>, total=  33.9s\n",
      "[CV] clf__activation=linear, clf__learning_rate=0.1, clf__optimizer=<class 'tensorflow.python.keras.optimizer_v2.adam.Adam'> \n",
      "1313/1313 [==============================] - 16s 10ms/step - loss: 4171.4425 - accuracy: 0.6867\n"
     ]
    },
    {
     "name": "stderr",
     "output_type": "stream",
     "text": [
      "c:\\users\\caleb\\appdata\\local\\programs\\python\\python37\\lib\\site-packages\\tensorflow\\python\\keras\\engine\\sequential.py:450: UserWarning: `model.predict_classes()` is deprecated and will be removed after 2021-01-01. Please use instead:* `np.argmax(model.predict(x), axis=-1)`,   if your model does multi-class classification   (e.g. if it uses a `softmax` last-layer activation).* `(model.predict(x) > 0.5).astype(\"int32\")`,   if your model does binary classification   (e.g. if it uses a `sigmoid` last-layer activation).\n",
      "  warnings.warn('`model.predict_classes()` is deprecated and '\n"
     ]
    },
    {
     "name": "stdout",
     "output_type": "stream",
     "text": [
      "[CV]  clf__activation=linear, clf__learning_rate=0.1, clf__optimizer=<class 'tensorflow.python.keras.optimizer_v2.adam.Adam'>, total=  33.7s\n",
      "[CV] clf__activation=linear, clf__learning_rate=0.1, clf__optimizer=<class 'tensorflow.python.keras.optimizer_v2.adam.Adam'> \n",
      "1313/1313 [==============================] - 18s 10ms/step - loss: 4439.9131 - accuracy: 0.6954 4s - loss:  - ETA: \n"
     ]
    },
    {
     "name": "stderr",
     "output_type": "stream",
     "text": [
      "c:\\users\\caleb\\appdata\\local\\programs\\python\\python37\\lib\\site-packages\\tensorflow\\python\\keras\\engine\\sequential.py:450: UserWarning: `model.predict_classes()` is deprecated and will be removed after 2021-01-01. Please use instead:* `np.argmax(model.predict(x), axis=-1)`,   if your model does multi-class classification   (e.g. if it uses a `softmax` last-layer activation).* `(model.predict(x) > 0.5).astype(\"int32\")`,   if your model does binary classification   (e.g. if it uses a `sigmoid` last-layer activation).\n",
      "  warnings.warn('`model.predict_classes()` is deprecated and '\n"
     ]
    },
    {
     "name": "stdout",
     "output_type": "stream",
     "text": [
      "[CV]  clf__activation=linear, clf__learning_rate=0.1, clf__optimizer=<class 'tensorflow.python.keras.optimizer_v2.adam.Adam'>, total=  43.2s\n",
      "[CV] clf__activation=tanh, clf__learning_rate=0.1, clf__optimizer=<class 'tensorflow.python.keras.optimizer_v2.adam.Adam'> \n",
      "1313/1313 [==============================] - 27s 17ms/step - loss: 1.8648 - accuracy: 0.6479: 25s - loss: 2.2059 - accuracy: 0. - ETA: 26s -  - ETA: 23s - loss: 1.9916 - accuracy: 0. - ETA: 23s - loss: 1.98\n"
     ]
    },
    {
     "name": "stderr",
     "output_type": "stream",
     "text": [
      "c:\\users\\caleb\\appdata\\local\\programs\\python\\python37\\lib\\site-packages\\tensorflow\\python\\keras\\engine\\sequential.py:450: UserWarning: `model.predict_classes()` is deprecated and will be removed after 2021-01-01. Please use instead:* `np.argmax(model.predict(x), axis=-1)`,   if your model does multi-class classification   (e.g. if it uses a `softmax` last-layer activation).* `(model.predict(x) > 0.5).astype(\"int32\")`,   if your model does binary classification   (e.g. if it uses a `sigmoid` last-layer activation).\n",
      "  warnings.warn('`model.predict_classes()` is deprecated and '\n"
     ]
    },
    {
     "name": "stdout",
     "output_type": "stream",
     "text": [
      "[CV]  clf__activation=tanh, clf__learning_rate=0.1, clf__optimizer=<class 'tensorflow.python.keras.optimizer_v2.adam.Adam'>, total= 1.1min\n",
      "[CV] clf__activation=tanh, clf__learning_rate=0.1, clf__optimizer=<class 'tensorflow.python.keras.optimizer_v2.adam.Adam'> \n",
      "1313/1313 [==============================] - 20s 14ms/step - loss: 1.8068 - accuracy: 0.66051s - loss: 1.8097 - accuracy - ETA: 0s - los\n"
     ]
    },
    {
     "name": "stderr",
     "output_type": "stream",
     "text": [
      "c:\\users\\caleb\\appdata\\local\\programs\\python\\python37\\lib\\site-packages\\tensorflow\\python\\keras\\engine\\sequential.py:450: UserWarning: `model.predict_classes()` is deprecated and will be removed after 2021-01-01. Please use instead:* `np.argmax(model.predict(x), axis=-1)`,   if your model does multi-class classification   (e.g. if it uses a `softmax` last-layer activation).* `(model.predict(x) > 0.5).astype(\"int32\")`,   if your model does binary classification   (e.g. if it uses a `sigmoid` last-layer activation).\n",
      "  warnings.warn('`model.predict_classes()` is deprecated and '\n"
     ]
    },
    {
     "name": "stdout",
     "output_type": "stream",
     "text": [
      "[CV]  clf__activation=tanh, clf__learning_rate=0.1, clf__optimizer=<class 'tensorflow.python.keras.optimizer_v2.adam.Adam'>, total= 1.1min\n",
      "[CV] clf__activation=tanh, clf__learning_rate=0.1, clf__optimizer=<class 'tensorflow.python.keras.optimizer_v2.adam.Adam'> \n",
      "1313/1313 [==============================] - ETA: 0s - loss: 1.8654 - accuracy: 0.64 - 17s 12ms/step - loss: 1.8654 - accuracy: 0.6484\n"
     ]
    },
    {
     "name": "stderr",
     "output_type": "stream",
     "text": [
      "c:\\users\\caleb\\appdata\\local\\programs\\python\\python37\\lib\\site-packages\\tensorflow\\python\\keras\\engine\\sequential.py:450: UserWarning: `model.predict_classes()` is deprecated and will be removed after 2021-01-01. Please use instead:* `np.argmax(model.predict(x), axis=-1)`,   if your model does multi-class classification   (e.g. if it uses a `softmax` last-layer activation).* `(model.predict(x) > 0.5).astype(\"int32\")`,   if your model does binary classification   (e.g. if it uses a `sigmoid` last-layer activation).\n",
      "  warnings.warn('`model.predict_classes()` is deprecated and '\n"
     ]
    },
    {
     "name": "stdout",
     "output_type": "stream",
     "text": [
      "[CV]  clf__activation=tanh, clf__learning_rate=0.1, clf__optimizer=<class 'tensorflow.python.keras.optimizer_v2.adam.Adam'>, total=  52.9s\n",
      "[CV] clf__activation=tanh, clf__learning_rate=0.1, clf__optimizer=<class 'tensorflow.python.keras.optimizer_v2.adam.Adam'> \n",
      "1313/1313 [==============================] - 18s 12ms/step - loss: 1.8814 - accuracy: 0.6551\n"
     ]
    },
    {
     "name": "stderr",
     "output_type": "stream",
     "text": [
      "c:\\users\\caleb\\appdata\\local\\programs\\python\\python37\\lib\\site-packages\\tensorflow\\python\\keras\\engine\\sequential.py:450: UserWarning: `model.predict_classes()` is deprecated and will be removed after 2021-01-01. Please use instead:* `np.argmax(model.predict(x), axis=-1)`,   if your model does multi-class classification   (e.g. if it uses a `softmax` last-layer activation).* `(model.predict(x) > 0.5).astype(\"int32\")`,   if your model does binary classification   (e.g. if it uses a `sigmoid` last-layer activation).\n",
      "  warnings.warn('`model.predict_classes()` is deprecated and '\n"
     ]
    },
    {
     "name": "stdout",
     "output_type": "stream",
     "text": [
      "[CV]  clf__activation=tanh, clf__learning_rate=0.1, clf__optimizer=<class 'tensorflow.python.keras.optimizer_v2.adam.Adam'>, total=  41.4s\n",
      "[CV] clf__activation=relu, clf__learning_rate=0.01, clf__optimizer=<class 'tensorflow.python.keras.optimizer_v2.adam.Adam'> \n",
      "1313/1313 [==============================] - 19s 13ms/step - loss: 0.6653 - accuracy: 0.83802s\n"
     ]
    },
    {
     "name": "stderr",
     "output_type": "stream",
     "text": [
      "c:\\users\\caleb\\appdata\\local\\programs\\python\\python37\\lib\\site-packages\\tensorflow\\python\\keras\\engine\\sequential.py:450: UserWarning: `model.predict_classes()` is deprecated and will be removed after 2021-01-01. Please use instead:* `np.argmax(model.predict(x), axis=-1)`,   if your model does multi-class classification   (e.g. if it uses a `softmax` last-layer activation).* `(model.predict(x) > 0.5).astype(\"int32\")`,   if your model does binary classification   (e.g. if it uses a `sigmoid` last-layer activation).\n",
      "  warnings.warn('`model.predict_classes()` is deprecated and '\n"
     ]
    },
    {
     "name": "stdout",
     "output_type": "stream",
     "text": [
      "[CV]  clf__activation=relu, clf__learning_rate=0.01, clf__optimizer=<class 'tensorflow.python.keras.optimizer_v2.adam.Adam'>, total=  39.7s\n",
      "[CV] clf__activation=relu, clf__learning_rate=0.01, clf__optimizer=<class 'tensorflow.python.keras.optimizer_v2.adam.Adam'> \n",
      "1313/1313 [==============================] - 22s 12ms/step - loss: 0.6622 - accuracy: 0.8372\n"
     ]
    },
    {
     "name": "stderr",
     "output_type": "stream",
     "text": [
      "c:\\users\\caleb\\appdata\\local\\programs\\python\\python37\\lib\\site-packages\\tensorflow\\python\\keras\\engine\\sequential.py:450: UserWarning: `model.predict_classes()` is deprecated and will be removed after 2021-01-01. Please use instead:* `np.argmax(model.predict(x), axis=-1)`,   if your model does multi-class classification   (e.g. if it uses a `softmax` last-layer activation).* `(model.predict(x) > 0.5).astype(\"int32\")`,   if your model does binary classification   (e.g. if it uses a `sigmoid` last-layer activation).\n",
      "  warnings.warn('`model.predict_classes()` is deprecated and '\n"
     ]
    },
    {
     "name": "stdout",
     "output_type": "stream",
     "text": [
      "[CV]  clf__activation=relu, clf__learning_rate=0.01, clf__optimizer=<class 'tensorflow.python.keras.optimizer_v2.adam.Adam'>, total=  40.2s\n",
      "[CV] clf__activation=relu, clf__learning_rate=0.01, clf__optimizer=<class 'tensorflow.python.keras.optimizer_v2.adam.Adam'> \n",
      "1313/1313 [==============================] - 20s 13ms/step - loss: 0.6286 - accuracy: 0.8380\n"
     ]
    },
    {
     "name": "stderr",
     "output_type": "stream",
     "text": [
      "c:\\users\\caleb\\appdata\\local\\programs\\python\\python37\\lib\\site-packages\\tensorflow\\python\\keras\\engine\\sequential.py:450: UserWarning: `model.predict_classes()` is deprecated and will be removed after 2021-01-01. Please use instead:* `np.argmax(model.predict(x), axis=-1)`,   if your model does multi-class classification   (e.g. if it uses a `softmax` last-layer activation).* `(model.predict(x) > 0.5).astype(\"int32\")`,   if your model does binary classification   (e.g. if it uses a `sigmoid` last-layer activation).\n",
      "  warnings.warn('`model.predict_classes()` is deprecated and '\n"
     ]
    },
    {
     "name": "stdout",
     "output_type": "stream",
     "text": [
      "[CV]  clf__activation=relu, clf__learning_rate=0.01, clf__optimizer=<class 'tensorflow.python.keras.optimizer_v2.adam.Adam'>, total=  33.8s\n",
      "[CV] clf__activation=relu, clf__learning_rate=0.01, clf__optimizer=<class 'tensorflow.python.keras.optimizer_v2.adam.Adam'> \n",
      "1313/1313 [==============================] - 20s 13ms/step - loss: 0.6561 - accuracy: 0.8332\n"
     ]
    },
    {
     "name": "stderr",
     "output_type": "stream",
     "text": [
      "c:\\users\\caleb\\appdata\\local\\programs\\python\\python37\\lib\\site-packages\\tensorflow\\python\\keras\\engine\\sequential.py:450: UserWarning: `model.predict_classes()` is deprecated and will be removed after 2021-01-01. Please use instead:* `np.argmax(model.predict(x), axis=-1)`,   if your model does multi-class classification   (e.g. if it uses a `softmax` last-layer activation).* `(model.predict(x) > 0.5).astype(\"int32\")`,   if your model does binary classification   (e.g. if it uses a `sigmoid` last-layer activation).\n",
      "  warnings.warn('`model.predict_classes()` is deprecated and '\n"
     ]
    },
    {
     "name": "stdout",
     "output_type": "stream",
     "text": [
      "[CV]  clf__activation=relu, clf__learning_rate=0.01, clf__optimizer=<class 'tensorflow.python.keras.optimizer_v2.adam.Adam'>, total=  28.7s\n",
      "[CV] clf__activation=relu, clf__learning_rate=0.001, clf__optimizer=<class 'tensorflow.python.keras.optimizer_v2.adam.Adam'> \n",
      "1313/1313 [==============================] - 24s 14ms/step - loss: 0.3906 - accuracy: 0.8824\n"
     ]
    },
    {
     "name": "stderr",
     "output_type": "stream",
     "text": [
      "c:\\users\\caleb\\appdata\\local\\programs\\python\\python37\\lib\\site-packages\\tensorflow\\python\\keras\\engine\\sequential.py:450: UserWarning: `model.predict_classes()` is deprecated and will be removed after 2021-01-01. Please use instead:* `np.argmax(model.predict(x), axis=-1)`,   if your model does multi-class classification   (e.g. if it uses a `softmax` last-layer activation).* `(model.predict(x) > 0.5).astype(\"int32\")`,   if your model does binary classification   (e.g. if it uses a `sigmoid` last-layer activation).\n",
      "  warnings.warn('`model.predict_classes()` is deprecated and '\n"
     ]
    },
    {
     "name": "stdout",
     "output_type": "stream",
     "text": [
      "[CV]  clf__activation=relu, clf__learning_rate=0.001, clf__optimizer=<class 'tensorflow.python.keras.optimizer_v2.adam.Adam'>, total=  30.2s\n",
      "[CV] clf__activation=relu, clf__learning_rate=0.001, clf__optimizer=<class 'tensorflow.python.keras.optimizer_v2.adam.Adam'> \n",
      "1313/1313 [==============================] - 19s 13ms/step - loss: 0.3924 - accuracy: 0.88470s - loss: 0.4 - ETA: 0s - loss: 0.3948 - accu\n"
     ]
    },
    {
     "name": "stderr",
     "output_type": "stream",
     "text": [
      "c:\\users\\caleb\\appdata\\local\\programs\\python\\python37\\lib\\site-packages\\tensorflow\\python\\keras\\engine\\sequential.py:450: UserWarning: `model.predict_classes()` is deprecated and will be removed after 2021-01-01. Please use instead:* `np.argmax(model.predict(x), axis=-1)`,   if your model does multi-class classification   (e.g. if it uses a `softmax` last-layer activation).* `(model.predict(x) > 0.5).astype(\"int32\")`,   if your model does binary classification   (e.g. if it uses a `sigmoid` last-layer activation).\n",
      "  warnings.warn('`model.predict_classes()` is deprecated and '\n"
     ]
    },
    {
     "name": "stdout",
     "output_type": "stream",
     "text": [
      "[CV]  clf__activation=relu, clf__learning_rate=0.001, clf__optimizer=<class 'tensorflow.python.keras.optimizer_v2.adam.Adam'>, total=  35.1s\n",
      "[CV] clf__activation=relu, clf__learning_rate=0.001, clf__optimizer=<class 'tensorflow.python.keras.optimizer_v2.adam.Adam'> \n",
      "1313/1313 [==============================] - 19s 13ms/step - loss: 0.3756 - accuracy: 0.88922s - loss: 0.3983 - accuracy:  - ETA: 2s - los - ETA: 1s - loss: 0.389\n"
     ]
    },
    {
     "name": "stderr",
     "output_type": "stream",
     "text": [
      "c:\\users\\caleb\\appdata\\local\\programs\\python\\python37\\lib\\site-packages\\tensorflow\\python\\keras\\engine\\sequential.py:450: UserWarning: `model.predict_classes()` is deprecated and will be removed after 2021-01-01. Please use instead:* `np.argmax(model.predict(x), axis=-1)`,   if your model does multi-class classification   (e.g. if it uses a `softmax` last-layer activation).* `(model.predict(x) > 0.5).astype(\"int32\")`,   if your model does binary classification   (e.g. if it uses a `sigmoid` last-layer activation).\n",
      "  warnings.warn('`model.predict_classes()` is deprecated and '\n"
     ]
    },
    {
     "name": "stdout",
     "output_type": "stream",
     "text": [
      "[CV]  clf__activation=relu, clf__learning_rate=0.001, clf__optimizer=<class 'tensorflow.python.keras.optimizer_v2.adam.Adam'>, total=  32.1s\n",
      "[CV] clf__activation=relu, clf__learning_rate=0.001, clf__optimizer=<class 'tensorflow.python.keras.optimizer_v2.adam.Adam'> \n",
      "1313/1313 [==============================] - 19s 13ms/step - loss: 0.3849 - accuracy: 0.8876\n"
     ]
    },
    {
     "name": "stderr",
     "output_type": "stream",
     "text": [
      "c:\\users\\caleb\\appdata\\local\\programs\\python\\python37\\lib\\site-packages\\tensorflow\\python\\keras\\engine\\sequential.py:450: UserWarning: `model.predict_classes()` is deprecated and will be removed after 2021-01-01. Please use instead:* `np.argmax(model.predict(x), axis=-1)`,   if your model does multi-class classification   (e.g. if it uses a `softmax` last-layer activation).* `(model.predict(x) > 0.5).astype(\"int32\")`,   if your model does binary classification   (e.g. if it uses a `sigmoid` last-layer activation).\n",
      "  warnings.warn('`model.predict_classes()` is deprecated and '\n"
     ]
    },
    {
     "name": "stdout",
     "output_type": "stream",
     "text": [
      "[CV]  clf__activation=relu, clf__learning_rate=0.001, clf__optimizer=<class 'tensorflow.python.keras.optimizer_v2.adam.Adam'>, total=  33.3s\n",
      "[CV] clf__activation=tanh, clf__learning_rate=0.0001, clf__optimizer=<class 'tensorflow.python.keras.optimizer_v2.adam.Adam'> \n",
      "1313/1313 [==============================] - 22s 13ms/step - loss: 0.7296 - accuracy: 0.7881: 2s - loss: 0.7694  - ETA: 1s - loss: 0.7 - ETA: 0s - loss: 0 - ETA: 0s - loss: 0.7343 - ac\n"
     ]
    },
    {
     "name": "stderr",
     "output_type": "stream",
     "text": [
      "c:\\users\\caleb\\appdata\\local\\programs\\python\\python37\\lib\\site-packages\\tensorflow\\python\\keras\\engine\\sequential.py:450: UserWarning: `model.predict_classes()` is deprecated and will be removed after 2021-01-01. Please use instead:* `np.argmax(model.predict(x), axis=-1)`,   if your model does multi-class classification   (e.g. if it uses a `softmax` last-layer activation).* `(model.predict(x) > 0.5).astype(\"int32\")`,   if your model does binary classification   (e.g. if it uses a `sigmoid` last-layer activation).\n",
      "  warnings.warn('`model.predict_classes()` is deprecated and '\n"
     ]
    },
    {
     "name": "stdout",
     "output_type": "stream",
     "text": [
      "[CV]  clf__activation=tanh, clf__learning_rate=0.0001, clf__optimizer=<class 'tensorflow.python.keras.optimizer_v2.adam.Adam'>, total=  37.0s\n",
      "[CV] clf__activation=tanh, clf__learning_rate=0.0001, clf__optimizer=<class 'tensorflow.python.keras.optimizer_v2.adam.Adam'> \n",
      "1313/1313 [==============================] - 25s 12ms/step - loss: 0.7469 - accuracy: 0.7785 - ETA: 0s - loss: 0.7478 - accuracy: 0.77\n"
     ]
    },
    {
     "name": "stderr",
     "output_type": "stream",
     "text": [
      "c:\\users\\caleb\\appdata\\local\\programs\\python\\python37\\lib\\site-packages\\tensorflow\\python\\keras\\engine\\sequential.py:450: UserWarning: `model.predict_classes()` is deprecated and will be removed after 2021-01-01. Please use instead:* `np.argmax(model.predict(x), axis=-1)`,   if your model does multi-class classification   (e.g. if it uses a `softmax` last-layer activation).* `(model.predict(x) > 0.5).astype(\"int32\")`,   if your model does binary classification   (e.g. if it uses a `sigmoid` last-layer activation).\n",
      "  warnings.warn('`model.predict_classes()` is deprecated and '\n"
     ]
    },
    {
     "name": "stdout",
     "output_type": "stream",
     "text": [
      "[CV]  clf__activation=tanh, clf__learning_rate=0.0001, clf__optimizer=<class 'tensorflow.python.keras.optimizer_v2.adam.Adam'>, total=  46.8s\n",
      "[CV] clf__activation=tanh, clf__learning_rate=0.0001, clf__optimizer=<class 'tensorflow.python.keras.optimizer_v2.adam.Adam'> \n",
      "1313/1313 [==============================] - 18s 12ms/step - loss: 0.7205 - accuracy: 0.7903\n"
     ]
    },
    {
     "name": "stderr",
     "output_type": "stream",
     "text": [
      "c:\\users\\caleb\\appdata\\local\\programs\\python\\python37\\lib\\site-packages\\tensorflow\\python\\keras\\engine\\sequential.py:450: UserWarning: `model.predict_classes()` is deprecated and will be removed after 2021-01-01. Please use instead:* `np.argmax(model.predict(x), axis=-1)`,   if your model does multi-class classification   (e.g. if it uses a `softmax` last-layer activation).* `(model.predict(x) > 0.5).astype(\"int32\")`,   if your model does binary classification   (e.g. if it uses a `sigmoid` last-layer activation).\n",
      "  warnings.warn('`model.predict_classes()` is deprecated and '\n"
     ]
    },
    {
     "name": "stdout",
     "output_type": "stream",
     "text": [
      "[CV]  clf__activation=tanh, clf__learning_rate=0.0001, clf__optimizer=<class 'tensorflow.python.keras.optimizer_v2.adam.Adam'>, total=  52.4s\n",
      "[CV] clf__activation=tanh, clf__learning_rate=0.0001, clf__optimizer=<class 'tensorflow.python.keras.optimizer_v2.adam.Adam'> \n",
      "1313/1313 [==============================] - 15s 9ms/step - loss: 0.7385 - accuracy: 0.7825\n"
     ]
    },
    {
     "name": "stderr",
     "output_type": "stream",
     "text": [
      "c:\\users\\caleb\\appdata\\local\\programs\\python\\python37\\lib\\site-packages\\tensorflow\\python\\keras\\engine\\sequential.py:450: UserWarning: `model.predict_classes()` is deprecated and will be removed after 2021-01-01. Please use instead:* `np.argmax(model.predict(x), axis=-1)`,   if your model does multi-class classification   (e.g. if it uses a `softmax` last-layer activation).* `(model.predict(x) > 0.5).astype(\"int32\")`,   if your model does binary classification   (e.g. if it uses a `sigmoid` last-layer activation).\n",
      "  warnings.warn('`model.predict_classes()` is deprecated and '\n"
     ]
    },
    {
     "name": "stdout",
     "output_type": "stream",
     "text": [
      "[CV]  clf__activation=tanh, clf__learning_rate=0.0001, clf__optimizer=<class 'tensorflow.python.keras.optimizer_v2.adam.Adam'>, total=  40.2s\n",
      "[CV] clf__activation=sigmoid, clf__learning_rate=0.01, clf__optimizer=<class 'tensorflow.python.keras.optimizer_v2.adam.Adam'> \n",
      "1313/1313 [==============================] - 16s 10ms/step - loss: 0.4243 - accuracy: 0.8686\n"
     ]
    },
    {
     "name": "stderr",
     "output_type": "stream",
     "text": [
      "c:\\users\\caleb\\appdata\\local\\programs\\python\\python37\\lib\\site-packages\\tensorflow\\python\\keras\\engine\\sequential.py:450: UserWarning: `model.predict_classes()` is deprecated and will be removed after 2021-01-01. Please use instead:* `np.argmax(model.predict(x), axis=-1)`,   if your model does multi-class classification   (e.g. if it uses a `softmax` last-layer activation).* `(model.predict(x) > 0.5).astype(\"int32\")`,   if your model does binary classification   (e.g. if it uses a `sigmoid` last-layer activation).\n",
      "  warnings.warn('`model.predict_classes()` is deprecated and '\n"
     ]
    },
    {
     "name": "stdout",
     "output_type": "stream",
     "text": [
      "[CV]  clf__activation=sigmoid, clf__learning_rate=0.01, clf__optimizer=<class 'tensorflow.python.keras.optimizer_v2.adam.Adam'>, total=  41.4s\n",
      "[CV] clf__activation=sigmoid, clf__learning_rate=0.01, clf__optimizer=<class 'tensorflow.python.keras.optimizer_v2.adam.Adam'> \n",
      "1313/1313 [==============================] - 17s 9ms/step - loss: 0.4643 - accuracy: 0.8617\n"
     ]
    },
    {
     "name": "stderr",
     "output_type": "stream",
     "text": [
      "c:\\users\\caleb\\appdata\\local\\programs\\python\\python37\\lib\\site-packages\\tensorflow\\python\\keras\\engine\\sequential.py:450: UserWarning: `model.predict_classes()` is deprecated and will be removed after 2021-01-01. Please use instead:* `np.argmax(model.predict(x), axis=-1)`,   if your model does multi-class classification   (e.g. if it uses a `softmax` last-layer activation).* `(model.predict(x) > 0.5).astype(\"int32\")`,   if your model does binary classification   (e.g. if it uses a `sigmoid` last-layer activation).\n",
      "  warnings.warn('`model.predict_classes()` is deprecated and '\n"
     ]
    },
    {
     "name": "stdout",
     "output_type": "stream",
     "text": [
      "[CV]  clf__activation=sigmoid, clf__learning_rate=0.01, clf__optimizer=<class 'tensorflow.python.keras.optimizer_v2.adam.Adam'>, total=  55.6s\n",
      "[CV] clf__activation=sigmoid, clf__learning_rate=0.01, clf__optimizer=<class 'tensorflow.python.keras.optimizer_v2.adam.Adam'> \n",
      "1313/1313 [==============================] - 13s 9ms/step - loss: 0.4316 - accuracy: 0.8685\n"
     ]
    },
    {
     "name": "stderr",
     "output_type": "stream",
     "text": [
      "c:\\users\\caleb\\appdata\\local\\programs\\python\\python37\\lib\\site-packages\\tensorflow\\python\\keras\\engine\\sequential.py:450: UserWarning: `model.predict_classes()` is deprecated and will be removed after 2021-01-01. Please use instead:* `np.argmax(model.predict(x), axis=-1)`,   if your model does multi-class classification   (e.g. if it uses a `softmax` last-layer activation).* `(model.predict(x) > 0.5).astype(\"int32\")`,   if your model does binary classification   (e.g. if it uses a `sigmoid` last-layer activation).\n",
      "  warnings.warn('`model.predict_classes()` is deprecated and '\n"
     ]
    },
    {
     "name": "stdout",
     "output_type": "stream",
     "text": [
      "[CV]  clf__activation=sigmoid, clf__learning_rate=0.01, clf__optimizer=<class 'tensorflow.python.keras.optimizer_v2.adam.Adam'>, total=  39.9s\n",
      "[CV] clf__activation=sigmoid, clf__learning_rate=0.01, clf__optimizer=<class 'tensorflow.python.keras.optimizer_v2.adam.Adam'> \n",
      "1313/1313 [==============================] - 16s 9ms/step - loss: 0.4213 - accuracy: 0.8737\n"
     ]
    },
    {
     "name": "stderr",
     "output_type": "stream",
     "text": [
      "c:\\users\\caleb\\appdata\\local\\programs\\python\\python37\\lib\\site-packages\\tensorflow\\python\\keras\\engine\\sequential.py:450: UserWarning: `model.predict_classes()` is deprecated and will be removed after 2021-01-01. Please use instead:* `np.argmax(model.predict(x), axis=-1)`,   if your model does multi-class classification   (e.g. if it uses a `softmax` last-layer activation).* `(model.predict(x) > 0.5).astype(\"int32\")`,   if your model does binary classification   (e.g. if it uses a `sigmoid` last-layer activation).\n",
      "  warnings.warn('`model.predict_classes()` is deprecated and '\n"
     ]
    },
    {
     "name": "stdout",
     "output_type": "stream",
     "text": [
      "[CV]  clf__activation=sigmoid, clf__learning_rate=0.01, clf__optimizer=<class 'tensorflow.python.keras.optimizer_v2.adam.Adam'>, total=  23.7s\n",
      "gen\tnevals\tavg     \tmin  \tmax     \tstd     \n",
      "0  \t50    \t0.722171\t0.099\t0.954321\t0.278101\n",
      "[CV] clf__activation=sigmoid, clf__learning_rate=0.001, clf__optimizer=<class 'tensorflow.python.keras.optimizer_v2.adam.Adam'> \n",
      "1313/1313 [==============================] - 15s 10ms/step - loss: 0.6319 - accuracy: 0.8398\n"
     ]
    },
    {
     "name": "stderr",
     "output_type": "stream",
     "text": [
      "c:\\users\\caleb\\appdata\\local\\programs\\python\\python37\\lib\\site-packages\\tensorflow\\python\\keras\\engine\\sequential.py:450: UserWarning: `model.predict_classes()` is deprecated and will be removed after 2021-01-01. Please use instead:* `np.argmax(model.predict(x), axis=-1)`,   if your model does multi-class classification   (e.g. if it uses a `softmax` last-layer activation).* `(model.predict(x) > 0.5).astype(\"int32\")`,   if your model does binary classification   (e.g. if it uses a `sigmoid` last-layer activation).\n",
      "  warnings.warn('`model.predict_classes()` is deprecated and '\n"
     ]
    },
    {
     "name": "stdout",
     "output_type": "stream",
     "text": [
      "[CV]  clf__activation=sigmoid, clf__learning_rate=0.001, clf__optimizer=<class 'tensorflow.python.keras.optimizer_v2.adam.Adam'>, total=  22.1s\n",
      "[CV] clf__activation=sigmoid, clf__learning_rate=0.001, clf__optimizer=<class 'tensorflow.python.keras.optimizer_v2.adam.Adam'> \n",
      "1313/1313 [==============================] - 17s 11ms/step - loss: 0.6274 - accuracy: 0.8454\n"
     ]
    },
    {
     "name": "stderr",
     "output_type": "stream",
     "text": [
      "c:\\users\\caleb\\appdata\\local\\programs\\python\\python37\\lib\\site-packages\\tensorflow\\python\\keras\\engine\\sequential.py:450: UserWarning: `model.predict_classes()` is deprecated and will be removed after 2021-01-01. Please use instead:* `np.argmax(model.predict(x), axis=-1)`,   if your model does multi-class classification   (e.g. if it uses a `softmax` last-layer activation).* `(model.predict(x) > 0.5).astype(\"int32\")`,   if your model does binary classification   (e.g. if it uses a `sigmoid` last-layer activation).\n",
      "  warnings.warn('`model.predict_classes()` is deprecated and '\n"
     ]
    },
    {
     "name": "stdout",
     "output_type": "stream",
     "text": [
      "[CV]  clf__activation=sigmoid, clf__learning_rate=0.001, clf__optimizer=<class 'tensorflow.python.keras.optimizer_v2.adam.Adam'>, total=  31.6s\n",
      "[CV] clf__activation=sigmoid, clf__learning_rate=0.001, clf__optimizer=<class 'tensorflow.python.keras.optimizer_v2.adam.Adam'> \n",
      "1313/1313 [==============================] - 18s 10ms/step - loss: 0.6261 - accuracy: 0.83835s - l - ETA: 4s - ETA: 3s - loss: 0.7053 - \n"
     ]
    },
    {
     "name": "stderr",
     "output_type": "stream",
     "text": [
      "c:\\users\\caleb\\appdata\\local\\programs\\python\\python37\\lib\\site-packages\\tensorflow\\python\\keras\\engine\\sequential.py:450: UserWarning: `model.predict_classes()` is deprecated and will be removed after 2021-01-01. Please use instead:* `np.argmax(model.predict(x), axis=-1)`,   if your model does multi-class classification   (e.g. if it uses a `softmax` last-layer activation).* `(model.predict(x) > 0.5).astype(\"int32\")`,   if your model does binary classification   (e.g. if it uses a `sigmoid` last-layer activation).\n",
      "  warnings.warn('`model.predict_classes()` is deprecated and '\n"
     ]
    },
    {
     "name": "stdout",
     "output_type": "stream",
     "text": [
      "[CV]  clf__activation=sigmoid, clf__learning_rate=0.001, clf__optimizer=<class 'tensorflow.python.keras.optimizer_v2.adam.Adam'>, total=  32.5s\n",
      "[CV] clf__activation=sigmoid, clf__learning_rate=0.001, clf__optimizer=<class 'tensorflow.python.keras.optimizer_v2.adam.Adam'> \n",
      "1313/1313 [==============================] - 24s 13ms/step - loss: 0.6367 - accuracy: 0.83870s -\n"
     ]
    },
    {
     "name": "stderr",
     "output_type": "stream",
     "text": [
      "c:\\users\\caleb\\appdata\\local\\programs\\python\\python37\\lib\\site-packages\\tensorflow\\python\\keras\\engine\\sequential.py:450: UserWarning: `model.predict_classes()` is deprecated and will be removed after 2021-01-01. Please use instead:* `np.argmax(model.predict(x), axis=-1)`,   if your model does multi-class classification   (e.g. if it uses a `softmax` last-layer activation).* `(model.predict(x) > 0.5).astype(\"int32\")`,   if your model does binary classification   (e.g. if it uses a `sigmoid` last-layer activation).\n",
      "  warnings.warn('`model.predict_classes()` is deprecated and '\n"
     ]
    },
    {
     "name": "stdout",
     "output_type": "stream",
     "text": [
      "[CV]  clf__activation=sigmoid, clf__learning_rate=0.001, clf__optimizer=<class 'tensorflow.python.keras.optimizer_v2.adam.Adam'>, total=  38.0s\n",
      "1  \t33    \t0.874921\t0.099\t0.954321\t0.14648 \n",
      "2  \t38    \t0.934052\t0.868107\t0.954321\t0.0249449\n",
      "3  \t30    \t0.952847\t0.934554\t0.954321\t0.00416547\n",
      "4  \t20    \t0.934304\t0.099   \t0.954321\t0.120208  \n",
      "5  \t29    \t0.953926\t0.934554\t0.954321\t0.0027675 \n",
      "Best individual is: {'clf__activation': 'relu', 'clf__learning_rate': 0.001, 'clf__optimizer': <class 'tensorflow.python.keras.optimizer_v2.adam.Adam'>}\n",
      "with fitness: 0.9543214285714285\n",
      "1750/1750 [==============================] - 26s 11ms/step - loss: 0.3558 - accuracy: 0.8966\n",
      "Wall time: 42min 37s\n"
     ]
    }
   ],
   "source": [
    "clf3 = EvolutionaryAlgorithmSearchCV(estimator=pipe, params=params,\n",
    "                                     scoring='accuracy', cv=4, verbose=2,\n",
    "                                     population_size=50, gene_mutation_prob=0.10,\n",
    "                                     gene_crossover_prob=.5, tournament_size=3,\n",
    "                                     generations_number=5, n_jobs=1)\n",
    "%time clf3.fit(X=X_train,y=y_train)"
   ]
  },
  {
   "cell_type": "code",
   "execution_count": 70,
   "metadata": {},
   "outputs": [
    {
     "name": "stderr",
     "output_type": "stream",
     "text": [
      "c:\\users\\caleb\\appdata\\local\\programs\\python\\python37\\lib\\site-packages\\tensorflow\\python\\keras\\engine\\sequential.py:450: UserWarning: `model.predict_classes()` is deprecated and will be removed after 2021-01-01. Please use instead:* `np.argmax(model.predict(x), axis=-1)`,   if your model does multi-class classification   (e.g. if it uses a `softmax` last-layer activation).* `(model.predict(x) > 0.5).astype(\"int32\")`,   if your model does binary classification   (e.g. if it uses a `sigmoid` last-layer activation).\n",
      "  warnings.warn('`model.predict_classes()` is deprecated and '\n"
     ]
    },
    {
     "data": {
      "text/plain": [
       "0.9627857142857142"
      ]
     },
     "execution_count": 70,
     "metadata": {},
     "output_type": "execute_result"
    }
   ],
   "source": [
    "y_pred = clf3.predict(X_test)\n",
    "accuracy_score(y_true=y_test,y_pred=y_pred)"
   ]
  },
  {
   "cell_type": "markdown",
   "metadata": {
    "pycharm": {
     "name": "#%% md\n"
    }
   },
   "source": [
    "### Best Scores + Params:"
   ]
  },
  {
   "cell_type": "code",
   "execution_count": 67,
   "metadata": {
    "pycharm": {
     "name": "#%%\n"
    }
   },
   "outputs": [
    {
     "data": {
      "text/plain": [
       "(0.9556785714285714,\n",
       " {'clf__activation': 'relu',\n",
       "  'clf__learning_rate': 0.001,\n",
       "  'clf__optimizer': tensorflow.python.keras.optimizer_v2.adam.Adam})"
      ]
     },
     "execution_count": 67,
     "metadata": {},
     "output_type": "execute_result"
    }
   ],
   "source": [
    "clf3.best_score_, clf3.best_params_"
   ]
  },
  {
   "cell_type": "markdown",
   "metadata": {
    "pycharm": {
     "name": "#%% md\n"
    }
   },
   "source": [
    "## Random Search"
   ]
  },
  {
   "cell_type": "code",
   "execution_count": 9,
   "metadata": {},
   "outputs": [
    {
     "name": "stdout",
     "output_type": "stream",
     "text": [
      "Fitting 4 folds for each of 15 candidates, totalling 60 fits\n",
      "[CV] clf__optimizer=<class 'tensorflow.python.keras.optimizer_v2.adam.Adam'>, clf__learning_rate=0.1, clf__activation=sigmoid \n"
     ]
    },
    {
     "name": "stderr",
     "output_type": "stream",
     "text": [
      "[Parallel(n_jobs=1)]: Using backend SequentialBackend with 1 concurrent workers.\n"
     ]
    },
    {
     "name": "stdout",
     "output_type": "stream",
     "text": [
      "1313/1313 [==============================] - 7s 3ms/step - loss: 1.8508 - accuracy: 0.3973\n",
      "438/438 [==============================] - 1s 2ms/step - loss: 1.6850 - accuracy: 0.4781\n",
      "1313/1313 [==============================] - 2s 2ms/step - loss: 1.6789 - accuracy: 0.4787\n",
      "[CV]  clf__optimizer=<class 'tensorflow.python.keras.optimizer_v2.adam.Adam'>, clf__learning_rate=0.1, clf__activation=sigmoid, total=  29.5s\n",
      "[CV] clf__optimizer=<class 'tensorflow.python.keras.optimizer_v2.adam.Adam'>, clf__learning_rate=0.1, clf__activation=sigmoid \n"
     ]
    },
    {
     "name": "stderr",
     "output_type": "stream",
     "text": [
      "[Parallel(n_jobs=1)]: Done   1 out of   1 | elapsed:   32.4s remaining:    0.0s\n"
     ]
    },
    {
     "name": "stdout",
     "output_type": "stream",
     "text": [
      "1313/1313 [==============================] - 5s 3ms/step - loss: 2.4973 - accuracy: 0.1822\n",
      "438/438 [==============================] - 1s 2ms/step - loss: 2.0577 - accuracy: 0.1963\n",
      "1313/1313 [==============================] - 4s 3ms/step - loss: 2.0638 - accuracy: 0.1878\n",
      "[CV]  clf__optimizer=<class 'tensorflow.python.keras.optimizer_v2.adam.Adam'>, clf__learning_rate=0.1, clf__activation=sigmoid, total=  28.7s\n",
      "[CV] clf__optimizer=<class 'tensorflow.python.keras.optimizer_v2.adam.Adam'>, clf__learning_rate=0.1, clf__activation=sigmoid \n",
      "1313/1313 [==============================] - 5s 4ms/step - loss: 1.9976 - accuracy: 0.3354\n",
      "438/438 [==============================] - 1s 3ms/step - loss: 1.4119 - accuracy: 0.4952\n",
      "1313/1313 [==============================] - 3s 2ms/step - loss: 1.4246 - accuracy: 0.4857\n",
      "[CV]  clf__optimizer=<class 'tensorflow.python.keras.optimizer_v2.adam.Adam'>, clf__learning_rate=0.1, clf__activation=sigmoid, total=   8.7s\n",
      "[CV] clf__optimizer=<class 'tensorflow.python.keras.optimizer_v2.adam.Adam'>, clf__learning_rate=0.1, clf__activation=sigmoid \n",
      "1313/1313 [==============================] - 6s 4ms/step - loss: 2.1445 - accuracy: 0.2475\n",
      "438/438 [==============================] - 1s 3ms/step - loss: 1.7479 - accuracy: 0.2694\n",
      "1313/1313 [==============================] - 3s 3ms/step - loss: 1.7497 - accuracy: 0.2702\n",
      "[CV]  clf__optimizer=<class 'tensorflow.python.keras.optimizer_v2.adam.Adam'>, clf__learning_rate=0.1, clf__activation=sigmoid, total=   9.4s\n",
      "[CV] clf__optimizer=<class 'tensorflow.python.keras.optimizer_v2.adam.Adam'>, clf__learning_rate=0.1, clf__activation=relu \n",
      "1313/1313 [==============================] - 7s 4ms/step - loss: 6.5530 - accuracy: 0.1106\n",
      "438/438 [==============================] - 1s 2ms/step - loss: 2.3091 - accuracy: 0.1024\n",
      "1313/1313 [==============================] - 3s 2ms/step - loss: 2.3082 - accuracy: 0.1043\n",
      "[CV]  clf__optimizer=<class 'tensorflow.python.keras.optimizer_v2.adam.Adam'>, clf__learning_rate=0.1, clf__activation=relu, total=  10.1s\n",
      "[CV] clf__optimizer=<class 'tensorflow.python.keras.optimizer_v2.adam.Adam'>, clf__learning_rate=0.1, clf__activation=relu \n",
      "1313/1313 [==============================] - 6s 4ms/step - loss: 8.3495 - accuracy: 0.1167\n",
      "438/438 [==============================] - 1s 2ms/step - loss: 2.3105 - accuracy: 0.0987\n",
      "1313/1313 [==============================] - 3s 2ms/step - loss: 2.3091 - accuracy: 0.1018\n",
      "[CV]  clf__optimizer=<class 'tensorflow.python.keras.optimizer_v2.adam.Adam'>, clf__learning_rate=0.1, clf__activation=relu, total=  33.9s\n",
      "[CV] clf__optimizer=<class 'tensorflow.python.keras.optimizer_v2.adam.Adam'>, clf__learning_rate=0.1, clf__activation=relu \n",
      "1313/1313 [==============================] - 6s 4ms/step - loss: 5.6480 - accuracy: 0.1171\n",
      "438/438 [==============================] - 1s 3ms/step - loss: 2.3132 - accuracy: 0.0972\n",
      "1313/1313 [==============================] - 3s 2ms/step - loss: 2.3159 - accuracy: 0.0984\n",
      "[CV]  clf__optimizer=<class 'tensorflow.python.keras.optimizer_v2.adam.Adam'>, clf__learning_rate=0.1, clf__activation=relu, total=   9.2s\n",
      "[CV] clf__optimizer=<class 'tensorflow.python.keras.optimizer_v2.adam.Adam'>, clf__learning_rate=0.1, clf__activation=relu \n",
      "1313/1313 [==============================] - 6s 4ms/step - loss: 6.2595 - accuracy: 0.1129\n",
      "438/438 [==============================] - 1s 2ms/step - loss: 2.3135 - accuracy: 0.1128\n",
      "1313/1313 [==============================] - 3s 2ms/step - loss: 2.3133 - accuracy: 0.1109\n",
      "[CV]  clf__optimizer=<class 'tensorflow.python.keras.optimizer_v2.adam.Adam'>, clf__learning_rate=0.1, clf__activation=relu, total=   8.5s\n",
      "[CV] clf__optimizer=<class 'tensorflow.python.keras.optimizer_v2.adam.Adam'>, clf__learning_rate=0.1, clf__activation=tanh \n",
      "1313/1313 [==============================] - 5s 3ms/step - loss: 1.8226 - accuracy: 0.6551\n",
      "438/438 [==============================] - 1s 2ms/step - loss: 1.7120 - accuracy: 0.7165\n",
      "1313/1313 [==============================] - 3s 2ms/step - loss: 1.6454 - accuracy: 0.7201\n",
      "[CV]  clf__optimizer=<class 'tensorflow.python.keras.optimizer_v2.adam.Adam'>, clf__learning_rate=0.1, clf__activation=tanh, total=   8.1s\n",
      "[CV] clf__optimizer=<class 'tensorflow.python.keras.optimizer_v2.adam.Adam'>, clf__learning_rate=0.1, clf__activation=tanh \n",
      "1313/1313 [==============================] - 5s 3ms/step - loss: 1.8446 - accuracy: 0.6595\n",
      "438/438 [==============================] - 1s 2ms/step - loss: 1.9757 - accuracy: 0.7221\n",
      "1313/1313 [==============================] - 3s 2ms/step - loss: 1.9450 - accuracy: 0.7233\n",
      "[CV]  clf__optimizer=<class 'tensorflow.python.keras.optimizer_v2.adam.Adam'>, clf__learning_rate=0.1, clf__activation=tanh, total=   8.7s\n",
      "[CV] clf__optimizer=<class 'tensorflow.python.keras.optimizer_v2.adam.Adam'>, clf__learning_rate=0.1, clf__activation=tanh \n",
      "1313/1313 [==============================] - 11s 4ms/step - loss: 1.8334 - accuracy: 0.6435\n",
      "438/438 [==============================] - 1s 2ms/step - loss: 1.6161 - accuracy: 0.7451\n",
      "1313/1313 [==============================] - 3s 2ms/step - loss: 1.6046 - accuracy: 0.7400\n",
      "[CV]  clf__optimizer=<class 'tensorflow.python.keras.optimizer_v2.adam.Adam'>, clf__learning_rate=0.1, clf__activation=tanh, total=  23.6s\n",
      "[CV] clf__optimizer=<class 'tensorflow.python.keras.optimizer_v2.adam.Adam'>, clf__learning_rate=0.1, clf__activation=tanh \n",
      "1313/1313 [==============================] - 6s 4ms/step - loss: 1.8245 - accuracy: 0.6593\n",
      "438/438 [==============================] - 1s 3ms/step - loss: 1.8455 - accuracy: 0.7254\n",
      "1313/1313 [==============================] - 4s 3ms/step - loss: 1.8499 - accuracy: 0.7275\n",
      "[CV]  clf__optimizer=<class 'tensorflow.python.keras.optimizer_v2.adam.Adam'>, clf__learning_rate=0.1, clf__activation=tanh, total=  11.2s\n",
      "[CV] clf__optimizer=<class 'tensorflow.python.keras.optimizer_v2.adam.Adam'>, clf__learning_rate=0.0001, clf__activation=linear \n",
      "1313/1313 [==============================] - 6s 4ms/step - loss: 0.7701 - accuracy: 0.7861\n",
      "438/438 [==============================] - 3s 2ms/step - loss: 0.3762 - accuracy: 0.9019\n",
      "1313/1313 [==============================] - 3s 2ms/step - loss: 0.3061 - accuracy: 0.9163\n",
      "[CV]  clf__optimizer=<class 'tensorflow.python.keras.optimizer_v2.adam.Adam'>, clf__learning_rate=0.0001, clf__activation=linear, total=  11.2s\n",
      "[CV] clf__optimizer=<class 'tensorflow.python.keras.optimizer_v2.adam.Adam'>, clf__learning_rate=0.0001, clf__activation=linear \n",
      "1313/1313 [==============================] - 5s 3ms/step - loss: 0.7443 - accuracy: 0.7942\n",
      "438/438 [==============================] - 1s 2ms/step - loss: 0.3529 - accuracy: 0.9098\n",
      "1313/1313 [==============================] - 4s 3ms/step - loss: 0.3138 - accuracy: 0.9141\n",
      "[CV]  clf__optimizer=<class 'tensorflow.python.keras.optimizer_v2.adam.Adam'>, clf__learning_rate=0.0001, clf__activation=linear, total=   8.4s\n",
      "[CV] clf__optimizer=<class 'tensorflow.python.keras.optimizer_v2.adam.Adam'>, clf__learning_rate=0.0001, clf__activation=linear \n",
      "1313/1313 [==============================] - 9s 4ms/step - loss: 0.7455 - accuracy: 0.7921\n",
      "438/438 [==============================] - 1s 3ms/step - loss: 0.4605 - accuracy: 0.9092\n",
      "1313/1313 [==============================] - 3s 3ms/step - loss: 0.3039 - accuracy: 0.9139\n",
      "[CV]  clf__optimizer=<class 'tensorflow.python.keras.optimizer_v2.adam.Adam'>, clf__learning_rate=0.0001, clf__activation=linear, total=  13.5s\n",
      "[CV] clf__optimizer=<class 'tensorflow.python.keras.optimizer_v2.adam.Adam'>, clf__learning_rate=0.0001, clf__activation=linear \n",
      "1313/1313 [==============================] - 6s 4ms/step - loss: 0.7803 - accuracy: 0.7842\n",
      "438/438 [==============================] - 1s 3ms/step - loss: 0.3727 - accuracy: 0.9076\n",
      "1313/1313 [==============================] - 4s 3ms/step - loss: 0.3086 - accuracy: 0.9144\n",
      "[CV]  clf__optimizer=<class 'tensorflow.python.keras.optimizer_v2.adam.Adam'>, clf__learning_rate=0.0001, clf__activation=linear, total=   9.0s\n",
      "[CV] clf__optimizer=<class 'tensorflow.python.keras.optimizer_v2.adam.Adam'>, clf__learning_rate=0.001, clf__activation=linear \n",
      "1313/1313 [==============================] - 6s 4ms/step - loss: 0.6775 - accuracy: 0.8506\n",
      "438/438 [==============================] - 1s 2ms/step - loss: 0.4847 - accuracy: 0.8865\n",
      "1313/1313 [==============================] - 3s 2ms/step - loss: 0.4069 - accuracy: 0.8972\n",
      "[CV]  clf__optimizer=<class 'tensorflow.python.keras.optimizer_v2.adam.Adam'>, clf__learning_rate=0.001, clf__activation=linear, total=   9.7s\n",
      "[CV] clf__optimizer=<class 'tensorflow.python.keras.optimizer_v2.adam.Adam'>, clf__learning_rate=0.001, clf__activation=linear \n",
      "1313/1313 [==============================] - 6s 4ms/step - loss: 0.6979 - accuracy: 0.8484\n",
      "438/438 [==============================] - 1s 2ms/step - loss: 0.4380 - accuracy: 0.8967\n",
      "1313/1313 [==============================] - 3s 2ms/step - loss: 0.3835 - accuracy: 0.9008\n",
      "[CV]  clf__optimizer=<class 'tensorflow.python.keras.optimizer_v2.adam.Adam'>, clf__learning_rate=0.001, clf__activation=linear, total=   8.3s\n",
      "[CV] clf__optimizer=<class 'tensorflow.python.keras.optimizer_v2.adam.Adam'>, clf__learning_rate=0.001, clf__activation=linear \n",
      "1313/1313 [==============================] - 7s 4ms/step - loss: 0.6730 - accuracy: 0.8503\n",
      "438/438 [==============================] - 1s 3ms/step - loss: 0.5532 - accuracy: 0.8887\n",
      "1313/1313 [==============================] - 3s 3ms/step - loss: 0.3742 - accuracy: 0.8997\n",
      "[CV]  clf__optimizer=<class 'tensorflow.python.keras.optimizer_v2.adam.Adam'>, clf__learning_rate=0.001, clf__activation=linear, total=  10.1s\n",
      "[CV] clf__optimizer=<class 'tensorflow.python.keras.optimizer_v2.adam.Adam'>, clf__learning_rate=0.001, clf__activation=linear \n",
      "1313/1313 [==============================] - 7s 4ms/step - loss: 0.6971 - accuracy: 0.8472\n",
      "438/438 [==============================] - 2s 2ms/step - loss: 0.4969 - accuracy: 0.8891\n",
      "1313/1313 [==============================] - 3s 3ms/step - loss: 0.4070 - accuracy: 0.8979\n",
      "[CV]  clf__optimizer=<class 'tensorflow.python.keras.optimizer_v2.adam.Adam'>, clf__learning_rate=0.001, clf__activation=linear, total=  11.0s\n",
      "[CV] clf__optimizer=<class 'tensorflow.python.keras.optimizer_v2.adam.Adam'>, clf__learning_rate=0.1, clf__activation=linear \n",
      "1313/1313 [==============================] - 8s 4ms/step - loss: 4133.1400 - accuracy: 0.6973\n",
      "438/438 [==============================] - 1s 2ms/step - loss: 16628.6074 - accuracy: 0.7459\n",
      "1313/1313 [==============================] - 4s 3ms/step - loss: 14892.8047 - accuracy: 0.7561\n",
      "[CV]  clf__optimizer=<class 'tensorflow.python.keras.optimizer_v2.adam.Adam'>, clf__learning_rate=0.1, clf__activation=linear, total=  10.6s\n",
      "[CV] clf__optimizer=<class 'tensorflow.python.keras.optimizer_v2.adam.Adam'>, clf__learning_rate=0.1, clf__activation=linear \n",
      "1313/1313 [==============================] - 5s 3ms/step - loss: 4965.7709 - accuracy: 0.6929\n",
      "438/438 [==============================] - 4s 2ms/step - loss: 3886.0073 - accuracy: 0.8364TA: 0s - loss: 3271.3992 -\n",
      "1313/1313 [==============================] - 3s 2ms/step - loss: 3595.8374 - accuracy: 0.8384\n",
      "[CV]  clf__optimizer=<class 'tensorflow.python.keras.optimizer_v2.adam.Adam'>, clf__learning_rate=0.1, clf__activation=linear, total=  11.4s\n",
      "[CV] clf__optimizer=<class 'tensorflow.python.keras.optimizer_v2.adam.Adam'>, clf__learning_rate=0.1, clf__activation=linear \n",
      "1313/1313 [==============================] - 6s 4ms/step - loss: 4510.3340 - accuracy: 0.6891\n",
      "438/438 [==============================] - 1s 2ms/step - loss: 18899.7305 - accuracy: 0.8130\n",
      "1313/1313 [==============================] - 3s 2ms/step - loss: 16327.0977 - accuracy: 0.8170\n",
      "[CV]  clf__optimizer=<class 'tensorflow.python.keras.optimizer_v2.adam.Adam'>, clf__learning_rate=0.1, clf__activation=linear, total=   9.7s\n",
      "[CV] clf__optimizer=<class 'tensorflow.python.keras.optimizer_v2.adam.Adam'>, clf__learning_rate=0.1, clf__activation=linear \n",
      "1313/1313 [==============================] - 5s 4ms/step - loss: 4486.3692 - accuracy: 0.6907\n",
      "438/438 [==============================] - 4s 2ms/step - loss: 39388.5156 - accuracy: 0.7528\n",
      "1313/1313 [==============================] - 3s 2ms/step - loss: 35258.9453 - accuracy: 0.7634\n",
      "[CV]  clf__optimizer=<class 'tensorflow.python.keras.optimizer_v2.adam.Adam'>, clf__learning_rate=0.1, clf__activation=linear, total=  11.0s\n",
      "[CV] clf__optimizer=<class 'tensorflow.python.keras.optimizer_v2.adam.Adam'>, clf__learning_rate=0.001, clf__activation=sigmoid \n",
      "1313/1313 [==============================] - 6s 4ms/step - loss: 0.5976 - accuracy: 0.8476\n",
      "438/438 [==============================] - 1s 2ms/step - loss: 0.2133 - accuracy: 0.9351\n",
      "1313/1313 [==============================] - 3s 3ms/step - loss: 0.1689 - accuracy: 0.9531\n",
      "[CV]  clf__optimizer=<class 'tensorflow.python.keras.optimizer_v2.adam.Adam'>, clf__learning_rate=0.001, clf__activation=sigmoid, total=   8.5s\n",
      "[CV] clf__optimizer=<class 'tensorflow.python.keras.optimizer_v2.adam.Adam'>, clf__learning_rate=0.001, clf__activation=sigmoid \n",
      "1313/1313 [==============================] - 6s 4ms/step - loss: 0.6230 - accuracy: 0.8377\n",
      "438/438 [==============================] - 1s 2ms/step - loss: 0.2039 - accuracy: 0.9386\n",
      "1313/1313 [==============================] - 3s 2ms/step - loss: 0.1721 - accuracy: 0.9508\n",
      "[CV]  clf__optimizer=<class 'tensorflow.python.keras.optimizer_v2.adam.Adam'>, clf__learning_rate=0.001, clf__activation=sigmoid, total=   8.6s\n",
      "[CV] clf__optimizer=<class 'tensorflow.python.keras.optimizer_v2.adam.Adam'>, clf__learning_rate=0.001, clf__activation=sigmoid \n",
      "1313/1313 [==============================] - 7s 5ms/step - loss: 0.6280 - accuracy: 0.8364\n",
      "438/438 [==============================] - 1s 2ms/step - loss: 0.2170 - accuracy: 0.9386\n",
      "1313/1313 [==============================] - 3s 3ms/step - loss: 0.1819 - accuracy: 0.9485\n",
      "[CV]  clf__optimizer=<class 'tensorflow.python.keras.optimizer_v2.adam.Adam'>, clf__learning_rate=0.001, clf__activation=sigmoid, total=   9.3s\n",
      "[CV] clf__optimizer=<class 'tensorflow.python.keras.optimizer_v2.adam.Adam'>, clf__learning_rate=0.001, clf__activation=sigmoid \n",
      "1313/1313 [==============================] - 6s 4ms/step - loss: 0.6538 - accuracy: 0.8314\n",
      "438/438 [==============================] - 1s 2ms/step - loss: 0.2027 - accuracy: 0.9396\n",
      "1313/1313 [==============================] - 4s 3ms/step - loss: 0.1745 - accuracy: 0.9505\n",
      "[CV]  clf__optimizer=<class 'tensorflow.python.keras.optimizer_v2.adam.Adam'>, clf__learning_rate=0.001, clf__activation=sigmoid, total=   9.1s\n",
      "[CV] clf__optimizer=<class 'tensorflow.python.keras.optimizer_v2.adam.Adam'>, clf__learning_rate=0.01, clf__activation=relu \n",
      "1313/1313 [==============================] - 6s 4ms/step - loss: 0.6578 - accuracy: 0.8460\n",
      "438/438 [==============================] - 2s 2ms/step - loss: 0.5560 - accuracy: 0.8686\n",
      "1313/1313 [==============================] - 3s 2ms/step - loss: 0.4824 - accuracy: 0.8773\n",
      "[CV]  clf__optimizer=<class 'tensorflow.python.keras.optimizer_v2.adam.Adam'>, clf__learning_rate=0.01, clf__activation=relu, total=   9.8s\n",
      "[CV] clf__optimizer=<class 'tensorflow.python.keras.optimizer_v2.adam.Adam'>, clf__learning_rate=0.01, clf__activation=relu \n",
      "1313/1313 [==============================] - 7s 4ms/step - loss: 0.6485 - accuracy: 0.8425\n",
      "438/438 [==============================] - 2s 3ms/step - loss: 0.5508 - accuracy: 0.8822\n",
      "1313/1313 [==============================] - 3s 2ms/step - loss: 0.4817 - accuracy: 0.8919\n",
      "[CV]  clf__optimizer=<class 'tensorflow.python.keras.optimizer_v2.adam.Adam'>, clf__learning_rate=0.01, clf__activation=relu, total=  12.5s\n",
      "[CV] clf__optimizer=<class 'tensorflow.python.keras.optimizer_v2.adam.Adam'>, clf__learning_rate=0.01, clf__activation=relu \n",
      "1313/1313 [==============================] - 9s 4ms/step - loss: 0.6318 - accuracy: 0.8410\n",
      "438/438 [==============================] - 1s 2ms/step - loss: 0.5512 - accuracy: 0.8728\n",
      "1313/1313 [==============================] - 3s 3ms/step - loss: 0.4922 - accuracy: 0.8801\n",
      "[CV]  clf__optimizer=<class 'tensorflow.python.keras.optimizer_v2.adam.Adam'>, clf__learning_rate=0.01, clf__activation=relu, total=  12.0s\n",
      "[CV] clf__optimizer=<class 'tensorflow.python.keras.optimizer_v2.adam.Adam'>, clf__learning_rate=0.01, clf__activation=relu \n",
      "1313/1313 [==============================] - 6s 4ms/step - loss: 0.6313 - accuracy: 0.8410\n"
     ]
    },
    {
     "name": "stdout",
     "output_type": "stream",
     "text": [
      "438/438 [==============================] - 1s 2ms/step - loss: 0.4377 - accuracy: 0.8811\n",
      "1313/1313 [==============================] - 3s 2ms/step - loss: 0.3998 - accuracy: 0.8876\n",
      "[CV]  clf__optimizer=<class 'tensorflow.python.keras.optimizer_v2.adam.Adam'>, clf__learning_rate=0.01, clf__activation=relu, total=   8.8s\n",
      "[CV] clf__optimizer=<class 'tensorflow.python.keras.optimizer_v2.adam.Adam'>, clf__learning_rate=0.0001, clf__activation=sigmoid \n",
      "1313/1313 [==============================] - 5s 4ms/step - loss: 1.4425 - accuracy: 0.6810\n",
      "438/438 [==============================] - 1s 2ms/step - loss: 0.5074 - accuracy: 0.8897\n",
      "1313/1313 [==============================] - 3s 2ms/step - loss: 0.4930 - accuracy: 0.8966\n",
      "[CV]  clf__optimizer=<class 'tensorflow.python.keras.optimizer_v2.adam.Adam'>, clf__learning_rate=0.0001, clf__activation=sigmoid, total=   8.6s\n",
      "[CV] clf__optimizer=<class 'tensorflow.python.keras.optimizer_v2.adam.Adam'>, clf__learning_rate=0.0001, clf__activation=sigmoid \n",
      "1313/1313 [==============================] - 15s 4ms/step - loss: 1.5081 - accuracy: 0.6442\n",
      "438/438 [==============================] - 1s 2ms/step - loss: 0.5272 - accuracy: 0.8887\n",
      "1313/1313 [==============================] - 3s 2ms/step - loss: 0.5215 - accuracy: 0.8911\n",
      "[CV]  clf__optimizer=<class 'tensorflow.python.keras.optimizer_v2.adam.Adam'>, clf__learning_rate=0.0001, clf__activation=sigmoid, total=  18.2s\n",
      "[CV] clf__optimizer=<class 'tensorflow.python.keras.optimizer_v2.adam.Adam'>, clf__learning_rate=0.0001, clf__activation=sigmoid \n",
      "1313/1313 [==============================] - 6s 4ms/step - loss: 1.4728 - accuracy: 0.6655\n",
      "438/438 [==============================] - 1s 2ms/step - loss: 0.5138 - accuracy: 0.8888\n",
      "1313/1313 [==============================] - 3s 2ms/step - loss: 0.5101 - accuracy: 0.8879\n",
      "[CV]  clf__optimizer=<class 'tensorflow.python.keras.optimizer_v2.adam.Adam'>, clf__learning_rate=0.0001, clf__activation=sigmoid, total=   8.2s\n",
      "[CV] clf__optimizer=<class 'tensorflow.python.keras.optimizer_v2.adam.Adam'>, clf__learning_rate=0.0001, clf__activation=sigmoid \n",
      "1313/1313 [==============================] - 6s 4ms/step - loss: 1.4442 - accuracy: 0.6842\n",
      "438/438 [==============================] - 1s 2ms/step - loss: 0.5034 - accuracy: 0.8891\n",
      "1313/1313 [==============================] - 3s 3ms/step - loss: 0.4995 - accuracy: 0.8913\n",
      "[CV]  clf__optimizer=<class 'tensorflow.python.keras.optimizer_v2.adam.Adam'>, clf__learning_rate=0.0001, clf__activation=sigmoid, total=   8.8s\n",
      "[CV] clf__optimizer=<class 'tensorflow.python.keras.optimizer_v2.adam.Adam'>, clf__learning_rate=0.001, clf__activation=relu \n",
      "1313/1313 [==============================] - 6s 4ms/step - loss: 0.3851 - accuracy: 0.8861\n",
      "438/438 [==============================] - 1s 2ms/step - loss: 0.1909 - accuracy: 0.9498\n",
      "1313/1313 [==============================] - 3s 2ms/step - loss: 0.1143 - accuracy: 0.9648\n",
      "[CV]  clf__optimizer=<class 'tensorflow.python.keras.optimizer_v2.adam.Adam'>, clf__learning_rate=0.001, clf__activation=relu, total=   8.5s\n",
      "[CV] clf__optimizer=<class 'tensorflow.python.keras.optimizer_v2.adam.Adam'>, clf__learning_rate=0.001, clf__activation=relu \n",
      "1313/1313 [==============================] - 6s 3ms/step - loss: 0.3790 - accuracy: 0.8894\n",
      "438/438 [==============================] - 1s 2ms/step - loss: 0.1589 - accuracy: 0.9561\n",
      "1313/1313 [==============================] - 3s 2ms/step - loss: 0.1035 - accuracy: 0.9677\n",
      "[CV]  clf__optimizer=<class 'tensorflow.python.keras.optimizer_v2.adam.Adam'>, clf__learning_rate=0.001, clf__activation=relu, total=   8.6s\n",
      "[CV] clf__optimizer=<class 'tensorflow.python.keras.optimizer_v2.adam.Adam'>, clf__learning_rate=0.001, clf__activation=relu \n",
      "1313/1313 [==============================] - 6s 4ms/step - loss: 0.3623 - accuracy: 0.8907\n",
      "438/438 [==============================] - 1s 2ms/step - loss: 0.1569 - accuracy: 0.9589\n",
      "1313/1313 [==============================] - 3s 2ms/step - loss: 0.0846 - accuracy: 0.9733\n",
      "[CV]  clf__optimizer=<class 'tensorflow.python.keras.optimizer_v2.adam.Adam'>, clf__learning_rate=0.001, clf__activation=relu, total=   8.6s\n",
      "[CV] clf__optimizer=<class 'tensorflow.python.keras.optimizer_v2.adam.Adam'>, clf__learning_rate=0.001, clf__activation=relu \n",
      "1313/1313 [==============================] - 7s 3ms/step - loss: 0.3713 - accuracy: 0.8923\n",
      "438/438 [==============================] - 2s 2ms/step - loss: 0.1462 - accuracy: 0.9605\n",
      "1313/1313 [==============================] - 2s 2ms/step - loss: 0.0867 - accuracy: 0.9738\n",
      "[CV]  clf__optimizer=<class 'tensorflow.python.keras.optimizer_v2.adam.Adam'>, clf__learning_rate=0.001, clf__activation=relu, total=  10.9s\n",
      "[CV] clf__optimizer=<class 'tensorflow.python.keras.optimizer_v2.adam.Adam'>, clf__learning_rate=0.0001, clf__activation=tanh \n",
      "1313/1313 [==============================] - 8s 4ms/step - loss: 0.7362 - accuracy: 0.7843\n",
      "438/438 [==============================] - 1s 2ms/step - loss: 0.2877 - accuracy: 0.9161\n",
      "1313/1313 [==============================] - 3s 2ms/step - loss: 0.2502 - accuracy: 0.9309\n",
      "[CV]  clf__optimizer=<class 'tensorflow.python.keras.optimizer_v2.adam.Adam'>, clf__learning_rate=0.0001, clf__activation=tanh, total=  10.5s\n",
      "[CV] clf__optimizer=<class 'tensorflow.python.keras.optimizer_v2.adam.Adam'>, clf__learning_rate=0.0001, clf__activation=tanh \n",
      "1313/1313 [==============================] - 6s 4ms/step - loss: 0.7363 - accuracy: 0.7863\n",
      "438/438 [==============================] - 1s 3ms/step - loss: 0.2734 - accuracy: 0.9229\n",
      "1313/1313 [==============================] - 4s 3ms/step - loss: 0.2527 - accuracy: 0.9301\n",
      "[CV]  clf__optimizer=<class 'tensorflow.python.keras.optimizer_v2.adam.Adam'>, clf__learning_rate=0.0001, clf__activation=tanh, total=  11.3s\n",
      "[CV] clf__optimizer=<class 'tensorflow.python.keras.optimizer_v2.adam.Adam'>, clf__learning_rate=0.0001, clf__activation=tanh \n",
      "1313/1313 [==============================] - 7s 5ms/step - loss: 0.7687 - accuracy: 0.7723\n",
      "438/438 [==============================] - 1s 3ms/step - loss: 0.2841 - accuracy: 0.9208\n",
      "1313/1313 [==============================] - 4s 3ms/step - loss: 0.2556 - accuracy: 0.9277\n",
      "[CV]  clf__optimizer=<class 'tensorflow.python.keras.optimizer_v2.adam.Adam'>, clf__learning_rate=0.0001, clf__activation=tanh, total=  10.1s\n",
      "[CV] clf__optimizer=<class 'tensorflow.python.keras.optimizer_v2.adam.Adam'>, clf__learning_rate=0.0001, clf__activation=tanh \n",
      "1313/1313 [==============================] - 7s 5ms/step - loss: 0.7473 - accuracy: 0.7765\n",
      "438/438 [==============================] - 1s 2ms/step - loss: 0.2754 - accuracy: 0.9213\n",
      "1313/1313 [==============================] - 3s 3ms/step - loss: 0.2558 - accuracy: 0.9278: 0s - loss: 0.2567 - \n",
      "[CV]  clf__optimizer=<class 'tensorflow.python.keras.optimizer_v2.adam.Adam'>, clf__learning_rate=0.0001, clf__activation=tanh, total=  10.1s\n",
      "[CV] clf__optimizer=<class 'tensorflow.python.keras.optimizer_v2.adam.Adam'>, clf__learning_rate=0.01, clf__activation=sigmoid \n",
      "1313/1313 [==============================] - 6s 4ms/step - loss: 0.4134 - accuracy: 0.8760\n",
      "438/438 [==============================] - 1s 2ms/step - loss: 0.2169 - accuracy: 0.9372\n",
      "1313/1313 [==============================] - 4s 3ms/step - loss: 0.1658 - accuracy: 0.9512\n",
      "[CV]  clf__optimizer=<class 'tensorflow.python.keras.optimizer_v2.adam.Adam'>, clf__learning_rate=0.01, clf__activation=sigmoid, total=   8.9s\n",
      "[CV] clf__optimizer=<class 'tensorflow.python.keras.optimizer_v2.adam.Adam'>, clf__learning_rate=0.01, clf__activation=sigmoid \n",
      "1313/1313 [==============================] - 6s 4ms/step - loss: 0.4279 - accuracy: 0.8687\n",
      "438/438 [==============================] - 1s 2ms/step - loss: 0.2099 - accuracy: 0.9394\n",
      "1313/1313 [==============================] - 3s 2ms/step - loss: 0.1814 - accuracy: 0.9469\n",
      "[CV]  clf__optimizer=<class 'tensorflow.python.keras.optimizer_v2.adam.Adam'>, clf__learning_rate=0.01, clf__activation=sigmoid, total=   8.8s\n",
      "[CV] clf__optimizer=<class 'tensorflow.python.keras.optimizer_v2.adam.Adam'>, clf__learning_rate=0.01, clf__activation=sigmoid \n",
      "1313/1313 [==============================] - 6s 4ms/step - loss: 0.4248 - accuracy: 0.8713\n",
      "438/438 [==============================] - 1s 2ms/step - loss: 0.2081 - accuracy: 0.9383\n",
      "1313/1313 [==============================] - 3s 2ms/step - loss: 0.1665 - accuracy: 0.9483\n",
      "[CV]  clf__optimizer=<class 'tensorflow.python.keras.optimizer_v2.adam.Adam'>, clf__learning_rate=0.01, clf__activation=sigmoid, total=   8.7s\n",
      "[CV] clf__optimizer=<class 'tensorflow.python.keras.optimizer_v2.adam.Adam'>, clf__learning_rate=0.01, clf__activation=sigmoid \n",
      "1313/1313 [==============================] - 8s 4ms/step - loss: 0.4187 - accuracy: 0.8726\n",
      "438/438 [==============================] - 1s 2ms/step - loss: 0.2078 - accuracy: 0.9374\n",
      "1313/1313 [==============================] - 3s 2ms/step - loss: 0.1761 - accuracy: 0.9457\n",
      "[CV]  clf__optimizer=<class 'tensorflow.python.keras.optimizer_v2.adam.Adam'>, clf__learning_rate=0.01, clf__activation=sigmoid, total=  10.8s\n",
      "[CV] clf__optimizer=<class 'tensorflow.python.keras.optimizer_v2.adam.Adam'>, clf__learning_rate=0.01, clf__activation=tanh \n",
      "1313/1313 [==============================] - 5s 4ms/step - loss: 0.4391 - accuracy: 0.8661\n",
      "438/438 [==============================] - 1s 2ms/step - loss: 0.3229 - accuracy: 0.9042\n",
      "1313/1313 [==============================] - 3s 2ms/step - loss: 0.2814 - accuracy: 0.9143\n",
      "[CV]  clf__optimizer=<class 'tensorflow.python.keras.optimizer_v2.adam.Adam'>, clf__learning_rate=0.01, clf__activation=tanh, total=   7.8s\n",
      "[CV] clf__optimizer=<class 'tensorflow.python.keras.optimizer_v2.adam.Adam'>, clf__learning_rate=0.01, clf__activation=tanh \n",
      "1313/1313 [==============================] - 6s 4ms/step - loss: 0.4439 - accuracy: 0.8670\n",
      "438/438 [==============================] - 1s 2ms/step - loss: 0.3033 - accuracy: 0.9154\n",
      "1313/1313 [==============================] - 3s 3ms/step - loss: 0.2648 - accuracy: 0.9208\n",
      "[CV]  clf__optimizer=<class 'tensorflow.python.keras.optimizer_v2.adam.Adam'>, clf__learning_rate=0.01, clf__activation=tanh, total=   9.1s\n",
      "[CV] clf__optimizer=<class 'tensorflow.python.keras.optimizer_v2.adam.Adam'>, clf__learning_rate=0.01, clf__activation=tanh \n",
      "1313/1313 [==============================] - 6s 4ms/step - loss: 0.4358 - accuracy: 0.8708\n",
      "438/438 [==============================] - 1s 3ms/step - loss: 0.3139 - accuracy: 0.9067\n",
      "1313/1313 [==============================] - 3s 2ms/step - loss: 0.2803 - accuracy: 0.9152\n",
      "[CV]  clf__optimizer=<class 'tensorflow.python.keras.optimizer_v2.adam.Adam'>, clf__learning_rate=0.01, clf__activation=tanh, total=   8.4s\n",
      "[CV] clf__optimizer=<class 'tensorflow.python.keras.optimizer_v2.adam.Adam'>, clf__learning_rate=0.01, clf__activation=tanh \n",
      "1313/1313 [==============================] - 6s 4ms/step - loss: 0.4303 - accuracy: 0.8702\n",
      "438/438 [==============================] - 1s 3ms/step - loss: 0.3151 - accuracy: 0.9056\n",
      "1313/1313 [==============================] - 4s 3ms/step - loss: 0.2816 - accuracy: 0.9148\n",
      "[CV]  clf__optimizer=<class 'tensorflow.python.keras.optimizer_v2.adam.Adam'>, clf__learning_rate=0.01, clf__activation=tanh, total=  12.1s\n",
      "[CV] clf__optimizer=<class 'tensorflow.python.keras.optimizer_v2.adam.Adam'>, clf__learning_rate=0.0001, clf__activation=relu \n",
      "1313/1313 [==============================] - 6s 4ms/step - loss: 0.8384 - accuracy: 0.7665\n",
      "438/438 [==============================] - 1s 2ms/step - loss: 0.2328 - accuracy: 0.9317\n",
      "1313/1313 [==============================] - 3s 2ms/step - loss: 0.1898 - accuracy: 0.9465\n",
      "[CV]  clf__optimizer=<class 'tensorflow.python.keras.optimizer_v2.adam.Adam'>, clf__learning_rate=0.0001, clf__activation=relu, total=   8.3s\n",
      "[CV] clf__optimizer=<class 'tensorflow.python.keras.optimizer_v2.adam.Adam'>, clf__learning_rate=0.0001, clf__activation=relu \n",
      "1313/1313 [==============================] - 5s 4ms/step - loss: 0.8284 - accuracy: 0.7627\n",
      "438/438 [==============================] - 1s 2ms/step - loss: 0.2205 - accuracy: 0.9374\n",
      "1313/1313 [==============================] - 3s 2ms/step - loss: 0.1887 - accuracy: 0.9470\n",
      "[CV]  clf__optimizer=<class 'tensorflow.python.keras.optimizer_v2.adam.Adam'>, clf__learning_rate=0.0001, clf__activation=relu, total=   8.0s\n",
      "[CV] clf__optimizer=<class 'tensorflow.python.keras.optimizer_v2.adam.Adam'>, clf__learning_rate=0.0001, clf__activation=relu \n",
      "1313/1313 [==============================] - 6s 4ms/step - loss: 0.8714 - accuracy: 0.7445\n",
      "438/438 [==============================] - 1s 2ms/step - loss: 0.2759 - accuracy: 0.9371\n",
      "1313/1313 [==============================] - 3s 2ms/step - loss: 0.1964 - accuracy: 0.9433\n",
      "[CV]  clf__optimizer=<class 'tensorflow.python.keras.optimizer_v2.adam.Adam'>, clf__learning_rate=0.0001, clf__activation=relu, total=   8.7s\n",
      "[CV] clf__optimizer=<class 'tensorflow.python.keras.optimizer_v2.adam.Adam'>, clf__learning_rate=0.0001, clf__activation=relu \n",
      "1313/1313 [==============================] - 6s 4ms/step - loss: 0.8673 - accuracy: 0.7540\n",
      "438/438 [==============================] - 1s 2ms/step - loss: 0.2287 - accuracy: 0.9364\n",
      "1313/1313 [==============================] - 3s 2ms/step - loss: 0.1898 - accuracy: 0.9460\n",
      "[CV]  clf__optimizer=<class 'tensorflow.python.keras.optimizer_v2.adam.Adam'>, clf__learning_rate=0.0001, clf__activation=relu, total=   9.0s\n",
      "[CV] clf__optimizer=<class 'tensorflow.python.keras.optimizer_v2.adam.Adam'>, clf__learning_rate=0.001, clf__activation=tanh \n",
      "1313/1313 [==============================] - 8s 5ms/step - loss: 0.3685 - accuracy: 0.8883\n",
      "438/438 [==============================] - 1s 2ms/step - loss: 0.1707 - accuracy: 0.9504\n",
      "1313/1313 [==============================] - 4s 3ms/step - loss: 0.1112 - accuracy: 0.9689\n",
      "[CV]  clf__optimizer=<class 'tensorflow.python.keras.optimizer_v2.adam.Adam'>, clf__learning_rate=0.001, clf__activation=tanh, total=  10.6s\n",
      "[CV] clf__optimizer=<class 'tensorflow.python.keras.optimizer_v2.adam.Adam'>, clf__learning_rate=0.001, clf__activation=tanh \n",
      "1313/1313 [==============================] - 6s 4ms/step - loss: 0.3735 - accuracy: 0.8898\n",
      "438/438 [==============================] - 1s 2ms/step - loss: 0.1667 - accuracy: 0.9501\n",
      "1313/1313 [==============================] - 3s 2ms/step - loss: 0.1148 - accuracy: 0.9671\n",
      "[CV]  clf__optimizer=<class 'tensorflow.python.keras.optimizer_v2.adam.Adam'>, clf__learning_rate=0.001, clf__activation=tanh, total=   9.8s\n",
      "[CV] clf__optimizer=<class 'tensorflow.python.keras.optimizer_v2.adam.Adam'>, clf__learning_rate=0.001, clf__activation=tanh \n",
      "1313/1313 [==============================] - 5s 4ms/step - loss: 0.3762 - accuracy: 0.8845\n",
      "438/438 [==============================] - 1s 2ms/step - loss: 0.1661 - accuracy: 0.9526\n",
      "1313/1313 [==============================] - 3s 2ms/step - loss: 0.1085 - accuracy: 0.9694\n",
      "[CV]  clf__optimizer=<class 'tensorflow.python.keras.optimizer_v2.adam.Adam'>, clf__learning_rate=0.001, clf__activation=tanh, total=   8.0s\n",
      "[CV] clf__optimizer=<class 'tensorflow.python.keras.optimizer_v2.adam.Adam'>, clf__learning_rate=0.001, clf__activation=tanh \n",
      "1313/1313 [==============================] - 8s 4ms/step - loss: 0.3808 - accuracy: 0.8841\n",
      "438/438 [==============================] - 1s 3ms/step - loss: 0.1662 - accuracy: 0.9534\n",
      "1313/1313 [==============================] - 3s 3ms/step - loss: 0.1150 - accuracy: 0.9681\n",
      "[CV]  clf__optimizer=<class 'tensorflow.python.keras.optimizer_v2.adam.Adam'>, clf__learning_rate=0.001, clf__activation=tanh, total=  11.6s\n"
     ]
    },
    {
     "name": "stderr",
     "output_type": "stream",
     "text": [
      "[Parallel(n_jobs=1)]: Done  60 out of  60 | elapsed: 14.9min finished\n"
     ]
    },
    {
     "name": "stdout",
     "output_type": "stream",
     "text": [
      "1750/1750 [==============================] - 9s 4ms/step - loss: 0.3415 - accuracy: 0.8983\n",
      "Wall time: 15min 8s\n"
     ]
    },
    {
     "data": {
      "text/plain": [
       "RandomizedSearchCV(cv=4, error_score='raise-deprecating',\n",
       "          estimator=Pipeline(memory=None,\n",
       "     steps=[('preprocessing', StandardScaler(copy=True, with_mean=True, with_std=True)), ('clf', <tensorflow.python.keras.wrappers.scikit_learn.KerasClassifier object at 0x000001F4A05DA3C8>)]),\n",
       "          fit_params=None, iid='warn', n_iter=15, n_jobs=None,\n",
       "          param_distributions={'clf__activation': ['linear', 'sigmoid', 'tanh', 'relu'], 'clf__learning_rate': [0.0001, 0.001, 0.01, 0.1], 'clf__optimizer': [<class 'tensorflow.python.keras.optimizer_v2.adam.Adam'>]},\n",
       "          pre_dispatch='2*n_jobs', random_state=None, refit=True,\n",
       "          return_train_score='warn', scoring=None, verbose=2)"
      ]
     },
     "execution_count": 9,
     "metadata": {},
     "output_type": "execute_result"
    }
   ],
   "source": [
    "clf2 = RandomizedSearchCV(estimator=pipe, param_distributions=params, \n",
    "                          n_iter=15, cv=4, verbose =2)\n",
    "%time clf2.fit(X=X_train,y=y_train)"
   ]
  },
  {
   "cell_type": "code",
   "execution_count": null,
   "metadata": {},
   "outputs": [],
   "source": [
    "y_pred = clf2.predict(X_test)\n",
    "accuracy_score(y_true=y_test,y_pred=y_pred)"
   ]
  },
  {
   "cell_type": "markdown",
   "metadata": {
    "pycharm": {
     "name": "#%% md\n"
    }
   },
   "source": [
    "### Best Scores + Params:"
   ]
  },
  {
   "cell_type": "code",
   "execution_count": null,
   "metadata": {},
   "outputs": [],
   "source": [
    "clf2.best_score_, clf2.best_params_"
   ]
  },
  {
   "cell_type": "markdown",
   "metadata": {
    "pycharm": {
     "name": "#%% md\n"
    }
   },
   "source": [
    "### Ergebnisse:"
   ]
  },
  {
   "cell_type": "code",
   "execution_count": 10,
   "metadata": {},
   "outputs": [
    {
     "name": "stderr",
     "output_type": "stream",
     "text": [
      "c:\\users\\caleb\\appdata\\local\\programs\\python\\python37\\lib\\site-packages\\sklearn\\utils\\deprecation.py:125: FutureWarning: You are accessing a training score ('split0_train_score'), which will not be available by default any more in 0.21. If you need training scores, please set return_train_score=True\n",
      "  warnings.warn(*warn_args, **warn_kwargs)\n",
      "c:\\users\\caleb\\appdata\\local\\programs\\python\\python37\\lib\\site-packages\\sklearn\\utils\\deprecation.py:125: FutureWarning: You are accessing a training score ('split1_train_score'), which will not be available by default any more in 0.21. If you need training scores, please set return_train_score=True\n",
      "  warnings.warn(*warn_args, **warn_kwargs)\n",
      "c:\\users\\caleb\\appdata\\local\\programs\\python\\python37\\lib\\site-packages\\sklearn\\utils\\deprecation.py:125: FutureWarning: You are accessing a training score ('split2_train_score'), which will not be available by default any more in 0.21. If you need training scores, please set return_train_score=True\n",
      "  warnings.warn(*warn_args, **warn_kwargs)\n",
      "c:\\users\\caleb\\appdata\\local\\programs\\python\\python37\\lib\\site-packages\\sklearn\\utils\\deprecation.py:125: FutureWarning: You are accessing a training score ('split3_train_score'), which will not be available by default any more in 0.21. If you need training scores, please set return_train_score=True\n",
      "  warnings.warn(*warn_args, **warn_kwargs)\n",
      "c:\\users\\caleb\\appdata\\local\\programs\\python\\python37\\lib\\site-packages\\sklearn\\utils\\deprecation.py:125: FutureWarning: You are accessing a training score ('mean_train_score'), which will not be available by default any more in 0.21. If you need training scores, please set return_train_score=True\n",
      "  warnings.warn(*warn_args, **warn_kwargs)\n",
      "c:\\users\\caleb\\appdata\\local\\programs\\python\\python37\\lib\\site-packages\\sklearn\\utils\\deprecation.py:125: FutureWarning: You are accessing a training score ('std_train_score'), which will not be available by default any more in 0.21. If you need training scores, please set return_train_score=True\n",
      "  warnings.warn(*warn_args, **warn_kwargs)\n",
      "c:\\users\\caleb\\appdata\\local\\programs\\python\\python37\\lib\\site-packages\\numpy\\core\\_asarray.py:136: UserWarning: Warning: converting a masked element to nan.\n",
      "  return array(a, dtype, copy=False, order=order, subok=True)\n"
     ]
    },
    {
     "data": {
      "image/png": "[encoded data removed]",
      "text/plain": [
       "<Figure size 432x288 with 1 Axes>"
      ]
     },
     "metadata": {
      "needs_background": "light"
     },
     "output_type": "display_data"
    }
   ],
   "source": [
    "def plot_results(index='dar__ordar', columns='dar__ordriv'):\n",
    "    \"\"\"Select two hyperparameters from which we plot the fluctuations\"\"\"\n",
    "    index = 'param_' + index\n",
    "    columns = 'param_' + columns\n",
    "\n",
    "    # prepare the results into a pandas.DataFrame\n",
    "    df = pd.DataFrame(clf2.cv_results_)\n",
    "\n",
    "    # Remove the other by selecting their best values (from gscv.best_params_)\n",
    "    other = [c for c in df.columns if c[:6] == 'param_']\n",
    "    other.remove(index)\n",
    "    other.remove(columns)\n",
    "    for col in other:\n",
    "        df = df[df[col] == clf2.best_params_[col[6:]]]\n",
    "\n",
    "    # Create pivot tables for easy plotting\n",
    "    table_mean = df.pivot_table(index=index, columns=columns,\n",
    "                                values=['mean_test_score'])\n",
    "    table_std = df.pivot_table(index=index, columns=columns,\n",
    "                               values=['std_test_score'])\n",
    "\n",
    "    # plot the pivot tables\n",
    "    plt.figure()\n",
    "    ax = plt.gca()\n",
    "    for col_mean, col_std in zip(table_mean.columns, table_std.columns):\n",
    "        table_mean[col_mean].plot(ax=ax, yerr=table_std[col_std], marker='o',\n",
    "                                  label=col_mean)\n",
    "    plt.title('Randomized-search results (higher is better)')\n",
    "    plt.ylabel('Accuracy Score')\n",
    "    plt.legend(title=table_mean.columns.names)\n",
    "    plt.savefig('Randomized_Search.png')\n",
    "    plt.show()\n",
    "    \n",
    "\n",
    "\n",
    "#plot_results(index='clf__activation', columns='clf__learning_rate')\n",
    "plot_results(index='clf__learning_rate', columns='clf__activation')\n"
   ]
  },
  {
   "cell_type": "markdown",
   "metadata": {
    "pycharm": {
     "name": "#%%\n"
    }
   },
   "source": [
    "### Auswertung"
   ]
  },
  {
   "cell_type": "code",
   "execution_count": 62,
   "metadata": {},
   "outputs": [
    {
     "data": {
      "text/html": [
       "<div>\n",
       "<style scoped>\n",
       "    .dataframe tbody tr th:only-of-type {\n",
       "        vertical-align: middle;\n",
       "    }\n",
       "\n",
       "    .dataframe tbody tr th {\n",
       "        vertical-align: top;\n",
       "    }\n",
       "\n",
       "    .dataframe thead th {\n",
       "        text-align: right;\n",
       "    }\n",
       "</style>\n",
       "<table border=\"1\" class=\"dataframe\">\n",
       "  <thead>\n",
       "    <tr style=\"text-align: right;\">\n",
       "      <th></th>\n",
       "      <th>param_index</th>\n",
       "      <th>index</th>\n",
       "      <th>params</th>\n",
       "      <th>mean_test_score</th>\n",
       "      <th>std_test_score</th>\n",
       "      <th>min_test_score</th>\n",
       "      <th>max_test_score</th>\n",
       "      <th>nan_test_score?</th>\n",
       "    </tr>\n",
       "  </thead>\n",
       "  <tbody>\n",
       "    <tr>\n",
       "      <th>0</th>\n",
       "      <td>0</td>\n",
       "      <td>51</td>\n",
       "      <td>{'clf__activation': 'sigmoid', 'clf__learning_...</td>\n",
       "      <td>0.949571</td>\n",
       "      <td>0.0</td>\n",
       "      <td>0.949571</td>\n",
       "      <td>0.949571</td>\n",
       "      <td>False</td>\n",
       "    </tr>\n",
       "    <tr>\n",
       "      <th>1</th>\n",
       "      <td>0</td>\n",
       "      <td>52</td>\n",
       "      <td>{'clf__activation': 'tanh', 'clf__learning_rat...</td>\n",
       "      <td>0.939946</td>\n",
       "      <td>0.0</td>\n",
       "      <td>0.939946</td>\n",
       "      <td>0.939946</td>\n",
       "      <td>False</td>\n",
       "    </tr>\n",
       "    <tr>\n",
       "      <th>2</th>\n",
       "      <td>0</td>\n",
       "      <td>53</td>\n",
       "      <td>{'clf__activation': 'linear', 'clf__learning_r...</td>\n",
       "      <td>0.905679</td>\n",
       "      <td>0.0</td>\n",
       "      <td>0.905679</td>\n",
       "      <td>0.905679</td>\n",
       "      <td>False</td>\n",
       "    </tr>\n",
       "    <tr>\n",
       "      <th>3</th>\n",
       "      <td>0</td>\n",
       "      <td>54</td>\n",
       "      <td>{'clf__activation': 'linear', 'clf__learning_r...</td>\n",
       "      <td>0.888732</td>\n",
       "      <td>0.0</td>\n",
       "      <td>0.888732</td>\n",
       "      <td>0.888732</td>\n",
       "      <td>False</td>\n",
       "    </tr>\n",
       "    <tr>\n",
       "      <th>4</th>\n",
       "      <td>0</td>\n",
       "      <td>55</td>\n",
       "      <td>{'clf__activation': 'relu', 'clf__learning_rat...</td>\n",
       "      <td>0.919768</td>\n",
       "      <td>0.0</td>\n",
       "      <td>0.919768</td>\n",
       "      <td>0.919768</td>\n",
       "      <td>False</td>\n",
       "    </tr>\n",
       "    <tr>\n",
       "      <th>...</th>\n",
       "      <td>...</td>\n",
       "      <td>...</td>\n",
       "      <td>...</td>\n",
       "      <td>...</td>\n",
       "      <td>...</td>\n",
       "      <td>...</td>\n",
       "      <td>...</td>\n",
       "      <td>...</td>\n",
       "    </tr>\n",
       "    <tr>\n",
       "      <th>161</th>\n",
       "      <td>0</td>\n",
       "      <td>234</td>\n",
       "      <td>{'clf__activation': 'relu', 'clf__learning_rat...</td>\n",
       "      <td>0.955679</td>\n",
       "      <td>0.0</td>\n",
       "      <td>0.955679</td>\n",
       "      <td>0.955679</td>\n",
       "      <td>False</td>\n",
       "    </tr>\n",
       "    <tr>\n",
       "      <th>162</th>\n",
       "      <td>0</td>\n",
       "      <td>235</td>\n",
       "      <td>{'clf__activation': 'relu', 'clf__learning_rat...</td>\n",
       "      <td>0.955679</td>\n",
       "      <td>0.0</td>\n",
       "      <td>0.955679</td>\n",
       "      <td>0.955679</td>\n",
       "      <td>False</td>\n",
       "    </tr>\n",
       "    <tr>\n",
       "      <th>163</th>\n",
       "      <td>0</td>\n",
       "      <td>237</td>\n",
       "      <td>{'clf__activation': 'relu', 'clf__learning_rat...</td>\n",
       "      <td>0.955679</td>\n",
       "      <td>0.0</td>\n",
       "      <td>0.955679</td>\n",
       "      <td>0.955679</td>\n",
       "      <td>False</td>\n",
       "    </tr>\n",
       "    <tr>\n",
       "      <th>164</th>\n",
       "      <td>0</td>\n",
       "      <td>238</td>\n",
       "      <td>{'clf__activation': 'relu', 'clf__learning_rat...</td>\n",
       "      <td>0.955679</td>\n",
       "      <td>0.0</td>\n",
       "      <td>0.955679</td>\n",
       "      <td>0.955679</td>\n",
       "      <td>False</td>\n",
       "    </tr>\n",
       "    <tr>\n",
       "      <th>165</th>\n",
       "      <td>0</td>\n",
       "      <td>239</td>\n",
       "      <td>{'clf__activation': 'relu', 'clf__learning_rat...</td>\n",
       "      <td>0.955679</td>\n",
       "      <td>0.0</td>\n",
       "      <td>0.955679</td>\n",
       "      <td>0.955679</td>\n",
       "      <td>False</td>\n",
       "    </tr>\n",
       "  </tbody>\n",
       "</table>\n",
       "<p>166 rows × 8 columns</p>\n",
       "</div>"
      ],
      "text/plain": [
       "     param_index  index                                             params  \\\n",
       "0              0     51  {'clf__activation': 'sigmoid', 'clf__learning_...   \n",
       "1              0     52  {'clf__activation': 'tanh', 'clf__learning_rat...   \n",
       "2              0     53  {'clf__activation': 'linear', 'clf__learning_r...   \n",
       "3              0     54  {'clf__activation': 'linear', 'clf__learning_r...   \n",
       "4              0     55  {'clf__activation': 'relu', 'clf__learning_rat...   \n",
       "..           ...    ...                                                ...   \n",
       "161            0    234  {'clf__activation': 'relu', 'clf__learning_rat...   \n",
       "162            0    235  {'clf__activation': 'relu', 'clf__learning_rat...   \n",
       "163            0    237  {'clf__activation': 'relu', 'clf__learning_rat...   \n",
       "164            0    238  {'clf__activation': 'relu', 'clf__learning_rat...   \n",
       "165            0    239  {'clf__activation': 'relu', 'clf__learning_rat...   \n",
       "\n",
       "     mean_test_score  std_test_score  min_test_score  max_test_score  \\\n",
       "0           0.949571             0.0        0.949571        0.949571   \n",
       "1           0.939946             0.0        0.939946        0.939946   \n",
       "2           0.905679             0.0        0.905679        0.905679   \n",
       "3           0.888732             0.0        0.888732        0.888732   \n",
       "4           0.919768             0.0        0.919768        0.919768   \n",
       "..               ...             ...             ...             ...   \n",
       "161         0.955679             0.0        0.955679        0.955679   \n",
       "162         0.955679             0.0        0.955679        0.955679   \n",
       "163         0.955679             0.0        0.955679        0.955679   \n",
       "164         0.955679             0.0        0.955679        0.955679   \n",
       "165         0.955679             0.0        0.955679        0.955679   \n",
       "\n",
       "     nan_test_score?  \n",
       "0              False  \n",
       "1              False  \n",
       "2              False  \n",
       "3              False  \n",
       "4              False  \n",
       "..               ...  \n",
       "161            False  \n",
       "162            False  \n",
       "163            False  \n",
       "164            False  \n",
       "165            False  \n",
       "\n",
       "[166 rows x 8 columns]"
      ]
     },
     "execution_count": 62,
     "metadata": {},
     "output_type": "execute_result"
    }
   ],
   "source": [
    "param_cols = ['params']\n",
    "score_cols = ['mean_test_score', 'std_test_score']\n",
    " \n",
    "# look at first five params with head()\n",
    "df = pd.DataFrame(clf3.cv_results_)\n",
    "df\n",
    "#display(df[param_cols + score_cols])"
   ]
  },
  {
   "cell_type": "code",
   "execution_count": null,
   "metadata": {},
   "outputs": [],
   "source": []
  }
 ],
 "metadata": {
  "kernelspec": {
   "display_name": "Python 3",
   "language": "python",
   "name": "python3"
  },
  "language_info": {
   "codemirror_mode": {
    "name": "ipython",
    "version": 3
   },
   "file_extension": ".py",
   "mimetype": "text/x-python",
   "name": "python",
   "nbconvert_exporter": "python",
   "pygments_lexer": "ipython3",
   "version": "3.7.9"
  }
 },
 "nbformat": 4,
 "nbformat_minor": 1
}
